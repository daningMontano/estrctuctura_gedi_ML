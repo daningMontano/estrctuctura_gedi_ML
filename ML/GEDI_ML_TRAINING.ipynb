{
 "cells": [
  {
   "cell_type": "markdown",
   "id": "2d292846",
   "metadata": {},
   "source": [
    "# Entrenamiento ML"
   ]
  },
  {
   "cell_type": "markdown",
   "id": "3f47922d",
   "metadata": {},
   "source": [
    "Por: Daning Montaño"
   ]
  },
  {
   "cell_type": "markdown",
   "id": "3744a2cd",
   "metadata": {},
   "source": [
    "## Importar librerías"
   ]
  },
  {
   "cell_type": "code",
   "execution_count": 1,
   "id": "2fdd1d36",
   "metadata": {},
   "outputs": [],
   "source": [
    "import optuna\n",
    "import numpy as np\n",
    "import pandas as pd\n",
    "import matplotlib.pyplot as plt\n",
    "from sklearn.model_selection import cross_val_score, KFold\n",
    "from sklearn.svm import SVR\n",
    "from sklearn.preprocessing import StandardScaler\n",
    "from sklearn.model_selection import train_test_split\n",
    "from sklearn.metrics import root_mean_squared_error\n",
    "from sklearn.metrics import r2_score\n",
    "import optuna\n",
    "import numpy as np\n",
    "import pandas as pd\n",
    "from sklearn.model_selection import cross_val_score, KFold\n",
    "from sklearn.ensemble import RandomForestRegressor\n",
    "from sklearn.metrics import mean_absolute_percentage_error\n",
    "import os\n",
    "import mlflow\n",
    "from mlflow.tracking import MlflowClient\n",
    "from sklearn.ensemble import RandomForestRegressor\n",
    "\n",
    "from scipy.stats import linregress"
   ]
  },
  {
   "cell_type": "markdown",
   "id": "6a72bb99",
   "metadata": {},
   "source": [
    "## Carga de datos"
   ]
  },
  {
   "cell_type": "code",
   "execution_count": 2,
   "id": "211d8688",
   "metadata": {},
   "outputs": [
    {
     "data": {
      "text/plain": [
       "Index(['RFDI', 'DPDD', 'DpRVIVV', 'VH', 'VV', 'B11', 'B11_contrast',\n",
       "       'B11_corr', 'B11_diss', 'B11_ent', 'B11_var', 'B12', 'B2', 'B3', 'B4',\n",
       "       'B8', 'EVI', 'GCI', 'MSAVI', 'NDMI', 'NDVI', 'SAVI', 'Slope',\n",
       "       'elevation', 'N_efectivo_estratos', 'lon', 'lat', 'DpRVIHH', 'HH', 'HV',\n",
       "       'HV_contrast', 'HV_corr', 'HV_diss', 'HV_ent', 'HV_var'],\n",
       "      dtype='object')"
      ]
     },
     "execution_count": 2,
     "metadata": {},
     "output_type": "execute_result"
    }
   ],
   "source": [
    "df_gedi = pd.read_csv(\"DATA/df_union_gedi.csv\").dropna()\n",
    "df_gedi.columns"
   ]
  },
  {
   "cell_type": "code",
   "execution_count": 3,
   "id": "284051b7",
   "metadata": {},
   "outputs": [
    {
     "data": {
      "text/html": [
       "<div>\n",
       "<style scoped>\n",
       "    .dataframe tbody tr th:only-of-type {\n",
       "        vertical-align: middle;\n",
       "    }\n",
       "\n",
       "    .dataframe tbody tr th {\n",
       "        vertical-align: top;\n",
       "    }\n",
       "\n",
       "    .dataframe thead th {\n",
       "        text-align: right;\n",
       "    }\n",
       "</style>\n",
       "<table border=\"1\" class=\"dataframe\">\n",
       "  <thead>\n",
       "    <tr style=\"text-align: right;\">\n",
       "      <th></th>\n",
       "      <th>RFDI</th>\n",
       "      <th>DPDD</th>\n",
       "      <th>DpRVIVV</th>\n",
       "      <th>VH</th>\n",
       "      <th>VV</th>\n",
       "      <th>B11</th>\n",
       "      <th>B11_contrast</th>\n",
       "      <th>B11_corr</th>\n",
       "      <th>B11_diss</th>\n",
       "      <th>B11_ent</th>\n",
       "      <th>...</th>\n",
       "      <th>lon</th>\n",
       "      <th>lat</th>\n",
       "      <th>DpRVIHH</th>\n",
       "      <th>HH</th>\n",
       "      <th>HV</th>\n",
       "      <th>HV_contrast</th>\n",
       "      <th>HV_corr</th>\n",
       "      <th>HV_diss</th>\n",
       "      <th>HV_ent</th>\n",
       "      <th>HV_var</th>\n",
       "    </tr>\n",
       "  </thead>\n",
       "  <tbody>\n",
       "    <tr>\n",
       "      <th>0</th>\n",
       "      <td>0.147805</td>\n",
       "      <td>0.181490</td>\n",
       "      <td>0.686560</td>\n",
       "      <td>0.044054</td>\n",
       "      <td>0.212611</td>\n",
       "      <td>1402.5</td>\n",
       "      <td>9.680916e+11</td>\n",
       "      <td>0.584645</td>\n",
       "      <td>621104.545455</td>\n",
       "      <td>4.770975</td>\n",
       "      <td>...</td>\n",
       "      <td>-77.476179</td>\n",
       "      <td>-1.117864</td>\n",
       "      <td>1.704391</td>\n",
       "      <td>4888.5</td>\n",
       "      <td>3629.5</td>\n",
       "      <td>2.891250e+07</td>\n",
       "      <td>0.211371</td>\n",
       "      <td>4273.364773</td>\n",
       "      <td>5.345972</td>\n",
       "      <td>1.827252e+07</td>\n",
       "    </tr>\n",
       "    <tr>\n",
       "      <th>1</th>\n",
       "      <td>0.198458</td>\n",
       "      <td>0.089690</td>\n",
       "      <td>0.905287</td>\n",
       "      <td>0.028707</td>\n",
       "      <td>0.098134</td>\n",
       "      <td>1550.0</td>\n",
       "      <td>8.835777e+11</td>\n",
       "      <td>0.534480</td>\n",
       "      <td>610385.227273</td>\n",
       "      <td>4.770975</td>\n",
       "      <td>...</td>\n",
       "      <td>-77.476179</td>\n",
       "      <td>-1.118134</td>\n",
       "      <td>1.603085</td>\n",
       "      <td>5595.0</td>\n",
       "      <td>3742.0</td>\n",
       "      <td>2.763441e+07</td>\n",
       "      <td>0.282679</td>\n",
       "      <td>4200.443182</td>\n",
       "      <td>5.345972</td>\n",
       "      <td>1.928422e+07</td>\n",
       "    </tr>\n",
       "    <tr>\n",
       "      <th>2</th>\n",
       "      <td>-0.048516</td>\n",
       "      <td>0.229352</td>\n",
       "      <td>0.503965</td>\n",
       "      <td>0.040866</td>\n",
       "      <td>0.283487</td>\n",
       "      <td>1488.5</td>\n",
       "      <td>9.679577e+11</td>\n",
       "      <td>0.702365</td>\n",
       "      <td>645921.590909</td>\n",
       "      <td>4.708395</td>\n",
       "      <td>...</td>\n",
       "      <td>-77.475910</td>\n",
       "      <td>-1.118673</td>\n",
       "      <td>2.097031</td>\n",
       "      <td>3942.0</td>\n",
       "      <td>4344.0</td>\n",
       "      <td>3.168169e+07</td>\n",
       "      <td>0.263496</td>\n",
       "      <td>4436.804545</td>\n",
       "      <td>5.345972</td>\n",
       "      <td>2.145946e+07</td>\n",
       "    </tr>\n",
       "    <tr>\n",
       "      <th>3</th>\n",
       "      <td>0.130420</td>\n",
       "      <td>0.145603</td>\n",
       "      <td>0.909069</td>\n",
       "      <td>0.046798</td>\n",
       "      <td>0.159116</td>\n",
       "      <td>1104.5</td>\n",
       "      <td>7.593858e+11</td>\n",
       "      <td>0.585595</td>\n",
       "      <td>524107.954545</td>\n",
       "      <td>4.770975</td>\n",
       "      <td>...</td>\n",
       "      <td>-77.475371</td>\n",
       "      <td>-1.118942</td>\n",
       "      <td>1.739160</td>\n",
       "      <td>4934.0</td>\n",
       "      <td>3795.5</td>\n",
       "      <td>3.218097e+07</td>\n",
       "      <td>0.304248</td>\n",
       "      <td>4364.476136</td>\n",
       "      <td>5.345972</td>\n",
       "      <td>2.320166e+07</td>\n",
       "    </tr>\n",
       "    <tr>\n",
       "      <th>4</th>\n",
       "      <td>0.269977</td>\n",
       "      <td>0.228092</td>\n",
       "      <td>0.577314</td>\n",
       "      <td>0.046556</td>\n",
       "      <td>0.276014</td>\n",
       "      <td>1411.0</td>\n",
       "      <td>6.108494e+11</td>\n",
       "      <td>0.610041</td>\n",
       "      <td>456927.272727</td>\n",
       "      <td>4.739855</td>\n",
       "      <td>...</td>\n",
       "      <td>-77.475101</td>\n",
       "      <td>-1.119481</td>\n",
       "      <td>1.460045</td>\n",
       "      <td>5038.0</td>\n",
       "      <td>2896.0</td>\n",
       "      <td>3.747875e+07</td>\n",
       "      <td>0.350021</td>\n",
       "      <td>4808.880682</td>\n",
       "      <td>5.345972</td>\n",
       "      <td>2.874796e+07</td>\n",
       "    </tr>\n",
       "  </tbody>\n",
       "</table>\n",
       "<p>5 rows × 35 columns</p>\n",
       "</div>"
      ],
      "text/plain": [
       "       RFDI      DPDD   DpRVIVV        VH        VV     B11  B11_contrast  \\\n",
       "0  0.147805  0.181490  0.686560  0.044054  0.212611  1402.5  9.680916e+11   \n",
       "1  0.198458  0.089690  0.905287  0.028707  0.098134  1550.0  8.835777e+11   \n",
       "2 -0.048516  0.229352  0.503965  0.040866  0.283487  1488.5  9.679577e+11   \n",
       "3  0.130420  0.145603  0.909069  0.046798  0.159116  1104.5  7.593858e+11   \n",
       "4  0.269977  0.228092  0.577314  0.046556  0.276014  1411.0  6.108494e+11   \n",
       "\n",
       "   B11_corr       B11_diss   B11_ent  ...        lon       lat   DpRVIHH  \\\n",
       "0  0.584645  621104.545455  4.770975  ... -77.476179 -1.117864  1.704391   \n",
       "1  0.534480  610385.227273  4.770975  ... -77.476179 -1.118134  1.603085   \n",
       "2  0.702365  645921.590909  4.708395  ... -77.475910 -1.118673  2.097031   \n",
       "3  0.585595  524107.954545  4.770975  ... -77.475371 -1.118942  1.739160   \n",
       "4  0.610041  456927.272727  4.739855  ... -77.475101 -1.119481  1.460045   \n",
       "\n",
       "       HH      HV   HV_contrast   HV_corr      HV_diss    HV_ent        HV_var  \n",
       "0  4888.5  3629.5  2.891250e+07  0.211371  4273.364773  5.345972  1.827252e+07  \n",
       "1  5595.0  3742.0  2.763441e+07  0.282679  4200.443182  5.345972  1.928422e+07  \n",
       "2  3942.0  4344.0  3.168169e+07  0.263496  4436.804545  5.345972  2.145946e+07  \n",
       "3  4934.0  3795.5  3.218097e+07  0.304248  4364.476136  5.345972  2.320166e+07  \n",
       "4  5038.0  2896.0  3.747875e+07  0.350021  4808.880682  5.345972  2.874796e+07  \n",
       "\n",
       "[5 rows x 35 columns]"
      ]
     },
     "execution_count": 3,
     "metadata": {},
     "output_type": "execute_result"
    }
   ],
   "source": [
    "df_gedi.head()"
   ]
  },
  {
   "cell_type": "markdown",
   "id": "a928e042",
   "metadata": {},
   "source": [
    "## Carga de Funciones"
   ]
  },
  {
   "cell_type": "code",
   "execution_count": 13,
   "id": "fbbd9a24",
   "metadata": {},
   "outputs": [],
   "source": [
    "def kling_gupta_efficiency(y_obs, y_pred):\n",
    "    # 1) correlación\n",
    "    r    = np.corrcoef(y_obs, y_pred)[0,1]\n",
    "    # 2) sesgo de medias\n",
    "    beta = y_pred.mean() / y_obs.mean()\n",
    "    # 3) razón de coeficientes de variación\n",
    "    cv_obs  = y_obs.std(ddof=1)  / y_obs.mean()\n",
    "    cv_pred = y_pred.std(ddof=1) / y_pred.mean()\n",
    "    gamma = cv_pred / cv_obs\n",
    "    \n",
    "    # 4) fórmula KGE\n",
    "    return 1 - np.sqrt((r - 1)**2 + (beta - 1)**2 + (gamma - 1)**2)"
   ]
  },
  {
   "cell_type": "markdown",
   "id": "70b0d740",
   "metadata": {},
   "source": [
    "## Entrenamiento de ML"
   ]
  },
  {
   "cell_type": "markdown",
   "id": "d6d2d2a7",
   "metadata": {},
   "source": [
    "### Creación de ambiente en MLFlows"
   ]
  },
  {
   "cell_type": "code",
   "execution_count": 4,
   "id": "36043eb8",
   "metadata": {},
   "outputs": [
    {
     "data": {
      "text/plain": [
       "<Experiment: artifact_location='file:///c:/ACADEMICO/UTPL/herramientas_inteligencia_artificial/PROYECTO_FINAL/GEDI_STRUCTURE_ML/ML/MLRUNS/229955235697868268', creation_time=1747880420644, experiment_id='229955235697868268', last_update_time=1747880420644, lifecycle_stage='active', name='GEDI_structure', tags={}>"
      ]
     },
     "execution_count": 4,
     "metadata": {},
     "output_type": "execute_result"
    }
   ],
   "source": [
    "\n",
    "# 1. Definir carpeta local para almacenar experimentos\n",
    "project_root = os.getcwd()\n",
    "mlruns_path  = os.path.join(project_root, \"MLRUNS\")\n",
    "os.makedirs(mlruns_path, exist_ok=True)\n",
    "\n",
    "# 2. Apuntar MLflow al file-store local (evita latencia HTTP)\n",
    "#    En Windows, usar file:/// con tres barras o ruta sin prefijo.\n",
    "mlflow.set_tracking_uri(f\"file:///{mlruns_path.replace(os.sep, '/')}\")\n",
    "\n",
    "# 3. Crear o seleccionar experimento\n",
    "experiment_name = \"GEDI_structure\"\n",
    "mlflow.set_experiment(experiment_name)"
   ]
  },
  {
   "cell_type": "markdown",
   "id": "3c4a30b0",
   "metadata": {},
   "source": [
    "### Random Forest - Todas las variables"
   ]
  },
  {
   "cell_type": "markdown",
   "id": "f234c8a2",
   "metadata": {},
   "source": [
    "#### Selección de variables"
   ]
  },
  {
   "cell_type": "code",
   "execution_count": 6,
   "id": "68e43162",
   "metadata": {},
   "outputs": [],
   "source": [
    "variables_predictoras =['RFDI', 'DPDD', 'DpRVIVV', 'VH', 'VV', 'B11', 'B11_contrast', ## variables predictoras\n",
    "       'B11_corr', 'B11_diss', 'B11_ent', 'B11_var', 'B12', 'B2', 'B3', 'B4',\n",
    "       'B8', 'EVI', 'GCI', 'MSAVI', 'NDMI', 'NDVI', 'SAVI', 'Slope',\n",
    "       'elevation',  'lon', 'lat', 'DpRVIHH', 'HH', 'HV',\n",
    "       'HV_contrast', 'HV_corr', 'HV_diss', 'HV_ent', 'HV_var'] \n",
    "\n",
    "variable_objetivo =  'N_efectivo_estratos' # variable objetivo\n",
    "\n",
    "# Se transforma a un array numpy\n",
    "X = np.array(df_gedi[variables_predictoras] )\n",
    "Y = np.array(df_gedi[variable_objetivo] )\n",
    "# 2️⃣ Divide los datos en entrenamiento (80%) y prueba (20%)\n",
    "X_train, X_test, Y_train, Y_test = train_test_split(X, Y, test_size=0.20, random_state=593)"
   ]
  },
  {
   "cell_type": "markdown",
   "id": "3c273199",
   "metadata": {},
   "source": [
    "#### Creación de ambiente en Optuna"
   ]
  },
  {
   "cell_type": "code",
   "execution_count": 7,
   "id": "5bea075e",
   "metadata": {},
   "outputs": [
    {
     "name": "stderr",
     "output_type": "stream",
     "text": [
      "[I 2025-05-22 09:48:22,178] A new study created in memory with name: no-name-1e13cf52-b036-48f9-8044-d5f0801baaa4\n"
     ]
    }
   ],
   "source": [
    "# Crear la \"study\" para realizar la optimización bayesiana\n",
    "from optuna.samplers import TPESampler\n",
    "sampler = TPESampler(seed=593)\n",
    "\n",
    "study_rf1 = optuna.create_study(direction='minimize', sampler = sampler)  # Queremos minimizar el MAPE"
   ]
  },
  {
   "cell_type": "markdown",
   "id": "71a3e172",
   "metadata": {},
   "source": [
    "#### Inicio de busqueda de parámetros"
   ]
  },
  {
   "cell_type": "markdown",
   "id": "f58f2262",
   "metadata": {},
   "source": [
    "Se establecen los hiperparámetros y un total de 200 iteraciones hasta seleccionar la mejor combinación. En este caso se usará la función de Coste MAPE que es el error porcentual promedio, y se debe buscar minimizarlo. En este caso se trabajará con Random Forest, con un total de 5 hiper parámetros."
   ]
  },
  {
   "cell_type": "code",
   "execution_count": 8,
   "id": "29e4c948",
   "metadata": {},
   "outputs": [
    {
     "name": "stderr",
     "output_type": "stream",
     "text": [
      "[I 2025-05-22 09:48:53,726] Trial 5 finished with value: 11.098418062004354 and parameters: {'n_estimators': 242, 'max_depth': 144, 'min_samples_split': 4, 'min_samples_leaf': 15, 'max_features': 6}. Best is trial 5 with value: 11.098418062004354.\n",
      "[I 2025-05-22 09:48:54,083] Trial 2 finished with value: 10.877137489986655 and parameters: {'n_estimators': 181, 'max_depth': 132, 'min_samples_split': 11, 'min_samples_leaf': 11, 'max_features': 22}. Best is trial 2 with value: 10.877137489986655.\n",
      "[I 2025-05-22 09:48:54,083] Trial 2 finished with value: 10.877137489986655 and parameters: {'n_estimators': 181, 'max_depth': 132, 'min_samples_split': 11, 'min_samples_leaf': 11, 'max_features': 22}. Best is trial 2 with value: 10.877137489986655.\n",
      "[I 2025-05-22 09:49:16,175] Trial 7 finished with value: 10.741758490837338 and parameters: {'n_estimators': 279, 'max_depth': 83, 'min_samples_split': 7, 'min_samples_leaf': 2, 'max_features': 24}. Best is trial 7 with value: 10.741758490837338.\n",
      "[I 2025-05-22 09:49:16,175] Trial 7 finished with value: 10.741758490837338 and parameters: {'n_estimators': 279, 'max_depth': 83, 'min_samples_split': 7, 'min_samples_leaf': 2, 'max_features': 24}. Best is trial 7 with value: 10.741758490837338.\n",
      "[I 2025-05-22 09:49:16,585] Trial 6 finished with value: 10.95496899280098 and parameters: {'n_estimators': 396, 'max_depth': 98, 'min_samples_split': 3, 'min_samples_leaf': 14, 'max_features': 12}. Best is trial 7 with value: 10.741758490837338.\n",
      "[I 2025-05-22 09:49:16,585] Trial 6 finished with value: 10.95496899280098 and parameters: {'n_estimators': 396, 'max_depth': 98, 'min_samples_split': 3, 'min_samples_leaf': 14, 'max_features': 12}. Best is trial 7 with value: 10.741758490837338.\n",
      "[I 2025-05-22 09:49:16,891] Trial 3 finished with value: 10.840049391768577 and parameters: {'n_estimators': 383, 'max_depth': 97, 'min_samples_split': 12, 'min_samples_leaf': 2, 'max_features': 10}. Best is trial 7 with value: 10.741758490837338.\n",
      "[I 2025-05-22 09:49:16,891] Trial 3 finished with value: 10.840049391768577 and parameters: {'n_estimators': 383, 'max_depth': 97, 'min_samples_split': 12, 'min_samples_leaf': 2, 'max_features': 10}. Best is trial 7 with value: 10.741758490837338.\n",
      "[I 2025-05-22 09:49:21,001] Trial 9 finished with value: 11.07141233828427 and parameters: {'n_estimators': 671, 'max_depth': 60, 'min_samples_split': 3, 'min_samples_leaf': 8, 'max_features': 4}. Best is trial 7 with value: 10.741758490837338.\n",
      "[I 2025-05-22 09:49:21,001] Trial 9 finished with value: 11.07141233828427 and parameters: {'n_estimators': 671, 'max_depth': 60, 'min_samples_split': 3, 'min_samples_leaf': 8, 'max_features': 4}. Best is trial 7 with value: 10.741758490837338.\n",
      "[I 2025-05-22 09:49:21,647] Trial 1 finished with value: 10.834631229061994 and parameters: {'n_estimators': 624, 'max_depth': 151, 'min_samples_split': 10, 'min_samples_leaf': 4, 'max_features': 8}. Best is trial 7 with value: 10.741758490837338.\n",
      "[I 2025-05-22 09:49:21,647] Trial 1 finished with value: 10.834631229061994 and parameters: {'n_estimators': 624, 'max_depth': 151, 'min_samples_split': 10, 'min_samples_leaf': 4, 'max_features': 8}. Best is trial 7 with value: 10.741758490837338.\n",
      "[I 2025-05-22 09:49:22,368] Trial 8 finished with value: 11.163822203526907 and parameters: {'n_estimators': 704, 'max_depth': 195, 'min_samples_split': 15, 'min_samples_leaf': 3, 'max_features': 2}. Best is trial 7 with value: 10.741758490837338.\n",
      "[I 2025-05-22 09:49:22,368] Trial 8 finished with value: 11.163822203526907 and parameters: {'n_estimators': 704, 'max_depth': 195, 'min_samples_split': 15, 'min_samples_leaf': 3, 'max_features': 2}. Best is trial 7 with value: 10.741758490837338.\n",
      "[I 2025-05-22 09:49:22,911] Trial 0 finished with value: 11.876193685370936 and parameters: {'n_estimators': 757, 'max_depth': 180, 'min_samples_split': 5, 'min_samples_leaf': 15, 'max_features': 1}. Best is trial 7 with value: 10.741758490837338.\n",
      "[I 2025-05-22 09:49:22,911] Trial 0 finished with value: 11.876193685370936 and parameters: {'n_estimators': 757, 'max_depth': 180, 'min_samples_split': 5, 'min_samples_leaf': 15, 'max_features': 1}. Best is trial 7 with value: 10.741758490837338.\n",
      "[I 2025-05-22 09:49:55,289] Trial 10 finished with value: 10.967503421260087 and parameters: {'n_estimators': 562, 'max_depth': 127, 'min_samples_split': 15, 'min_samples_leaf': 10, 'max_features': 8}. Best is trial 7 with value: 10.741758490837338.\n",
      "[I 2025-05-22 09:49:55,289] Trial 10 finished with value: 10.967503421260087 and parameters: {'n_estimators': 562, 'max_depth': 127, 'min_samples_split': 15, 'min_samples_leaf': 10, 'max_features': 8}. Best is trial 7 with value: 10.741758490837338.\n",
      "[I 2025-05-22 09:49:55,583] Trial 12 finished with value: 10.950805916785063 and parameters: {'n_estimators': 401, 'max_depth': 89, 'min_samples_split': 10, 'min_samples_leaf': 4, 'max_features': 4}. Best is trial 7 with value: 10.741758490837338.\n",
      "[I 2025-05-22 09:49:55,583] Trial 12 finished with value: 10.950805916785063 and parameters: {'n_estimators': 401, 'max_depth': 89, 'min_samples_split': 10, 'min_samples_leaf': 4, 'max_features': 4}. Best is trial 7 with value: 10.741758490837338.\n",
      "[I 2025-05-22 09:49:57,066] Trial 4 finished with value: 10.783983879548819 and parameters: {'n_estimators': 718, 'max_depth': 103, 'min_samples_split': 15, 'min_samples_leaf': 7, 'max_features': 25}. Best is trial 7 with value: 10.741758490837338.\n",
      "[I 2025-05-22 09:49:57,066] Trial 4 finished with value: 10.783983879548819 and parameters: {'n_estimators': 718, 'max_depth': 103, 'min_samples_split': 15, 'min_samples_leaf': 7, 'max_features': 25}. Best is trial 7 with value: 10.741758490837338.\n",
      "[I 2025-05-22 09:50:02,315] Trial 13 finished with value: 10.926803481677686 and parameters: {'n_estimators': 436, 'max_depth': 119, 'min_samples_split': 15, 'min_samples_leaf': 3, 'max_features': 6}. Best is trial 7 with value: 10.741758490837338.\n",
      "[I 2025-05-22 09:50:02,315] Trial 13 finished with value: 10.926803481677686 and parameters: {'n_estimators': 436, 'max_depth': 119, 'min_samples_split': 15, 'min_samples_leaf': 3, 'max_features': 6}. Best is trial 7 with value: 10.741758490837338.\n",
      "[I 2025-05-22 09:50:13,435] Trial 11 finished with value: 10.74810263965442 and parameters: {'n_estimators': 800, 'max_depth': 177, 'min_samples_split': 4, 'min_samples_leaf': 3, 'max_features': 9}. Best is trial 7 with value: 10.741758490837338.\n",
      "[I 2025-05-22 09:50:13,435] Trial 11 finished with value: 10.74810263965442 and parameters: {'n_estimators': 800, 'max_depth': 177, 'min_samples_split': 4, 'min_samples_leaf': 3, 'max_features': 9}. Best is trial 7 with value: 10.741758490837338.\n",
      "[I 2025-05-22 09:50:22,355] Trial 18 finished with value: 10.792161376360067 and parameters: {'n_estimators': 464, 'max_depth': 150, 'min_samples_split': 10, 'min_samples_leaf': 3, 'max_features': 10}. Best is trial 7 with value: 10.741758490837338.\n",
      "[I 2025-05-22 09:50:22,355] Trial 18 finished with value: 10.792161376360067 and parameters: {'n_estimators': 464, 'max_depth': 150, 'min_samples_split': 10, 'min_samples_leaf': 3, 'max_features': 10}. Best is trial 7 with value: 10.741758490837338.\n",
      "[I 2025-05-22 09:50:23,858] Trial 15 finished with value: 11.014967495433357 and parameters: {'n_estimators': 704, 'max_depth': 187, 'min_samples_split': 14, 'min_samples_leaf': 6, 'max_features': 4}. Best is trial 7 with value: 10.741758490837338.\n",
      "[I 2025-05-22 09:50:23,858] Trial 15 finished with value: 11.014967495433357 and parameters: {'n_estimators': 704, 'max_depth': 187, 'min_samples_split': 14, 'min_samples_leaf': 6, 'max_features': 4}. Best is trial 7 with value: 10.741758490837338.\n",
      "[I 2025-05-22 09:50:24,831] Trial 16 finished with value: 11.06041190260683 and parameters: {'n_estimators': 775, 'max_depth': 57, 'min_samples_split': 13, 'min_samples_leaf': 10, 'max_features': 5}. Best is trial 7 with value: 10.741758490837338.\n",
      "[I 2025-05-22 09:50:24,831] Trial 16 finished with value: 11.06041190260683 and parameters: {'n_estimators': 775, 'max_depth': 57, 'min_samples_split': 13, 'min_samples_leaf': 10, 'max_features': 5}. Best is trial 7 with value: 10.741758490837338.\n",
      "[I 2025-05-22 09:50:24,912] Trial 17 finished with value: 11.190843703056716 and parameters: {'n_estimators': 797, 'max_depth': 88, 'min_samples_split': 14, 'min_samples_leaf': 11, 'max_features': 3}. Best is trial 7 with value: 10.741758490837338.\n",
      "[I 2025-05-22 09:50:24,912] Trial 17 finished with value: 11.190843703056716 and parameters: {'n_estimators': 797, 'max_depth': 88, 'min_samples_split': 14, 'min_samples_leaf': 11, 'max_features': 3}. Best is trial 7 with value: 10.741758490837338.\n",
      "[I 2025-05-22 09:50:28,391] Trial 14 finished with value: 10.902343896704371 and parameters: {'n_estimators': 789, 'max_depth': 102, 'min_samples_split': 5, 'min_samples_leaf': 9, 'max_features': 10}. Best is trial 7 with value: 10.741758490837338.\n",
      "[I 2025-05-22 09:50:28,391] Trial 14 finished with value: 10.902343896704371 and parameters: {'n_estimators': 789, 'max_depth': 102, 'min_samples_split': 5, 'min_samples_leaf': 9, 'max_features': 10}. Best is trial 7 with value: 10.741758490837338.\n",
      "[I 2025-05-22 09:50:51,308] Trial 19 finished with value: 10.760345623458194 and parameters: {'n_estimators': 281, 'max_depth': 50, 'min_samples_split': 7, 'min_samples_leaf': 6, 'max_features': 25}. Best is trial 7 with value: 10.741758490837338.\n",
      "[I 2025-05-22 09:50:51,308] Trial 19 finished with value: 10.760345623458194 and parameters: {'n_estimators': 281, 'max_depth': 50, 'min_samples_split': 7, 'min_samples_leaf': 6, 'max_features': 25}. Best is trial 7 with value: 10.741758490837338.\n",
      "[I 2025-05-22 09:50:55,392] Trial 22 finished with value: 10.764537299081313 and parameters: {'n_estimators': 269, 'max_depth': 52, 'min_samples_split': 7, 'min_samples_leaf': 7, 'max_features': 25}. Best is trial 7 with value: 10.741758490837338.\n",
      "[I 2025-05-22 09:50:55,392] Trial 22 finished with value: 10.764537299081313 and parameters: {'n_estimators': 269, 'max_depth': 52, 'min_samples_split': 7, 'min_samples_leaf': 7, 'max_features': 25}. Best is trial 7 with value: 10.741758490837338.\n",
      "[I 2025-05-22 09:50:55,890] Trial 21 finished with value: 10.7633603811721 and parameters: {'n_estimators': 274, 'max_depth': 62, 'min_samples_split': 7, 'min_samples_leaf': 7, 'max_features': 25}. Best is trial 7 with value: 10.741758490837338.\n",
      "[I 2025-05-22 09:50:55,890] Trial 21 finished with value: 10.7633603811721 and parameters: {'n_estimators': 274, 'max_depth': 62, 'min_samples_split': 7, 'min_samples_leaf': 7, 'max_features': 25}. Best is trial 7 with value: 10.741758490837338.\n",
      "[I 2025-05-22 09:51:01,303] Trial 23 finished with value: 10.811190614347641 and parameters: {'n_estimators': 266, 'max_depth': 55, 'min_samples_split': 7, 'min_samples_leaf': 6, 'max_features': 16}. Best is trial 7 with value: 10.741758490837338.\n",
      "[I 2025-05-22 09:51:01,303] Trial 23 finished with value: 10.811190614347641 and parameters: {'n_estimators': 266, 'max_depth': 55, 'min_samples_split': 7, 'min_samples_leaf': 6, 'max_features': 16}. Best is trial 7 with value: 10.741758490837338.\n",
      "[I 2025-05-22 09:51:04,109] Trial 26 finished with value: 10.77069218236636 and parameters: {'n_estimators': 105, 'max_depth': 168, 'min_samples_split': 7, 'min_samples_leaf': 5, 'max_features': 17}. Best is trial 7 with value: 10.741758490837338.\n",
      "[I 2025-05-22 09:51:04,109] Trial 26 finished with value: 10.77069218236636 and parameters: {'n_estimators': 105, 'max_depth': 168, 'min_samples_split': 7, 'min_samples_leaf': 5, 'max_features': 17}. Best is trial 7 with value: 10.741758490837338.\n",
      "[I 2025-05-22 09:51:06,544] Trial 20 finished with value: 10.774152951341557 and parameters: {'n_estimators': 549, 'max_depth': 159, 'min_samples_split': 7, 'min_samples_leaf': 6, 'max_features': 18}. Best is trial 7 with value: 10.741758490837338.\n",
      "[I 2025-05-22 09:51:06,544] Trial 20 finished with value: 10.774152951341557 and parameters: {'n_estimators': 549, 'max_depth': 159, 'min_samples_split': 7, 'min_samples_leaf': 6, 'max_features': 18}. Best is trial 7 with value: 10.741758490837338.\n",
      "[I 2025-05-22 09:51:16,895] Trial 25 finished with value: 10.75665255748417 and parameters: {'n_estimators': 279, 'max_depth': 50, 'min_samples_split': 7, 'min_samples_leaf': 5, 'max_features': 17}. Best is trial 7 with value: 10.741758490837338.\n",
      "[I 2025-05-22 09:51:16,895] Trial 25 finished with value: 10.75665255748417 and parameters: {'n_estimators': 279, 'max_depth': 50, 'min_samples_split': 7, 'min_samples_leaf': 5, 'max_features': 17}. Best is trial 7 with value: 10.741758490837338.\n",
      "[I 2025-05-22 09:51:17,161] Trial 24 finished with value: 10.790710414531912 and parameters: {'n_estimators': 289, 'max_depth': 52, 'min_samples_split': 7, 'min_samples_leaf': 6, 'max_features': 17}. Best is trial 7 with value: 10.741758490837338.\n",
      "[I 2025-05-22 09:51:17,161] Trial 24 finished with value: 10.790710414531912 and parameters: {'n_estimators': 289, 'max_depth': 52, 'min_samples_split': 7, 'min_samples_leaf': 6, 'max_features': 17}. Best is trial 7 with value: 10.741758490837338.\n",
      "[I 2025-05-22 09:51:18,196] Trial 27 finished with value: 10.750122720518158 and parameters: {'n_estimators': 302, 'max_depth': 170, 'min_samples_split': 7, 'min_samples_leaf': 5, 'max_features': 17}. Best is trial 7 with value: 10.741758490837338.\n",
      "[I 2025-05-22 09:51:18,196] Trial 27 finished with value: 10.750122720518158 and parameters: {'n_estimators': 302, 'max_depth': 170, 'min_samples_split': 7, 'min_samples_leaf': 5, 'max_features': 17}. Best is trial 7 with value: 10.741758490837338.\n",
      "[I 2025-05-22 09:51:22,236] Trial 29 finished with value: 10.772369403924028 and parameters: {'n_estimators': 102, 'max_depth': 172, 'min_samples_split': 7, 'min_samples_leaf': 5, 'max_features': 17}. Best is trial 7 with value: 10.741758490837338.\n",
      "[I 2025-05-22 09:51:22,236] Trial 29 finished with value: 10.772369403924028 and parameters: {'n_estimators': 102, 'max_depth': 172, 'min_samples_split': 7, 'min_samples_leaf': 5, 'max_features': 17}. Best is trial 7 with value: 10.741758490837338.\n",
      "[I 2025-05-22 09:51:28,481] Trial 28 finished with value: 10.734746414879691 and parameters: {'n_estimators': 311, 'max_depth': 175, 'min_samples_split': 7, 'min_samples_leaf': 5, 'max_features': 20}. Best is trial 28 with value: 10.734746414879691.\n",
      "[I 2025-05-22 09:51:28,481] Trial 28 finished with value: 10.734746414879691 and parameters: {'n_estimators': 311, 'max_depth': 175, 'min_samples_split': 7, 'min_samples_leaf': 5, 'max_features': 20}. Best is trial 28 with value: 10.734746414879691.\n",
      "[I 2025-05-22 09:51:32,718] Trial 31 finished with value: 10.775250522474314 and parameters: {'n_estimators': 122, 'max_depth': 70, 'min_samples_split': 7, 'min_samples_leaf': 5, 'max_features': 17}. Best is trial 28 with value: 10.734746414879691.\n",
      "[I 2025-05-22 09:51:32,718] Trial 31 finished with value: 10.775250522474314 and parameters: {'n_estimators': 122, 'max_depth': 70, 'min_samples_split': 7, 'min_samples_leaf': 5, 'max_features': 17}. Best is trial 28 with value: 10.734746414879691.\n",
      "[I 2025-05-22 09:51:42,053] Trial 32 finished with value: 10.76563961769992 and parameters: {'n_estimators': 140, 'max_depth': 77, 'min_samples_split': 8, 'min_samples_leaf': 5, 'max_features': 18}. Best is trial 28 with value: 10.734746414879691.\n",
      "[I 2025-05-22 09:51:42,053] Trial 32 finished with value: 10.76563961769992 and parameters: {'n_estimators': 140, 'max_depth': 77, 'min_samples_split': 8, 'min_samples_leaf': 5, 'max_features': 18}. Best is trial 28 with value: 10.734746414879691.\n",
      "[I 2025-05-22 09:51:51,241] Trial 30 finished with value: 10.770176252044656 and parameters: {'n_estimators': 310, 'max_depth': 73, 'min_samples_split': 7, 'min_samples_leaf': 5, 'max_features': 18}. Best is trial 28 with value: 10.734746414879691.\n",
      "[I 2025-05-22 09:51:51,241] Trial 30 finished with value: 10.770176252044656 and parameters: {'n_estimators': 310, 'max_depth': 73, 'min_samples_split': 7, 'min_samples_leaf': 5, 'max_features': 18}. Best is trial 28 with value: 10.734746414879691.\n",
      "[I 2025-05-22 09:52:04,368] Trial 34 finished with value: 10.72041468835574 and parameters: {'n_estimators': 191, 'max_depth': 69, 'min_samples_split': 2, 'min_samples_leaf': 2, 'max_features': 21}. Best is trial 34 with value: 10.72041468835574.\n",
      "[I 2025-05-22 09:52:04,368] Trial 34 finished with value: 10.72041468835574 and parameters: {'n_estimators': 191, 'max_depth': 69, 'min_samples_split': 2, 'min_samples_leaf': 2, 'max_features': 21}. Best is trial 34 with value: 10.72041468835574.\n",
      "[I 2025-05-22 09:52:17,666] Trial 33 finished with value: 10.71350466282299 and parameters: {'n_estimators': 324, 'max_depth': 72, 'min_samples_split': 2, 'min_samples_leaf': 2, 'max_features': 20}. Best is trial 33 with value: 10.71350466282299.\n",
      "[I 2025-05-22 09:52:17,666] Trial 33 finished with value: 10.71350466282299 and parameters: {'n_estimators': 324, 'max_depth': 72, 'min_samples_split': 2, 'min_samples_leaf': 2, 'max_features': 20}. Best is trial 33 with value: 10.71350466282299.\n",
      "[I 2025-05-22 09:52:33,215] Trial 39 finished with value: 10.74346642992467 and parameters: {'n_estimators': 196, 'max_depth': 199, 'min_samples_split': 5, 'min_samples_leaf': 2, 'max_features': 21}. Best is trial 33 with value: 10.71350466282299.\n",
      "[I 2025-05-22 09:52:33,215] Trial 39 finished with value: 10.74346642992467 and parameters: {'n_estimators': 196, 'max_depth': 199, 'min_samples_split': 5, 'min_samples_leaf': 2, 'max_features': 21}. Best is trial 33 with value: 10.71350466282299.\n",
      "[I 2025-05-22 09:52:33,438] Trial 35 finished with value: 10.717906489039787 and parameters: {'n_estimators': 355, 'max_depth': 79, 'min_samples_split': 5, 'min_samples_leaf': 2, 'max_features': 19}. Best is trial 33 with value: 10.71350466282299.\n",
      "[I 2025-05-22 09:52:33,438] Trial 35 finished with value: 10.717906489039787 and parameters: {'n_estimators': 355, 'max_depth': 79, 'min_samples_split': 5, 'min_samples_leaf': 2, 'max_features': 19}. Best is trial 33 with value: 10.71350466282299.\n",
      "[I 2025-05-22 09:52:34,734] Trial 36 finished with value: 10.707296138466045 and parameters: {'n_estimators': 347, 'max_depth': 73, 'min_samples_split': 2, 'min_samples_leaf': 2, 'max_features': 20}. Best is trial 36 with value: 10.707296138466045.\n",
      "[I 2025-05-22 09:52:34,734] Trial 36 finished with value: 10.707296138466045 and parameters: {'n_estimators': 347, 'max_depth': 73, 'min_samples_split': 2, 'min_samples_leaf': 2, 'max_features': 20}. Best is trial 36 with value: 10.707296138466045.\n",
      "[I 2025-05-22 09:52:39,155] Trial 37 finished with value: 10.70601912857757 and parameters: {'n_estimators': 353, 'max_depth': 173, 'min_samples_split': 2, 'min_samples_leaf': 2, 'max_features': 20}. Best is trial 37 with value: 10.70601912857757.\n",
      "[I 2025-05-22 09:52:39,155] Trial 37 finished with value: 10.70601912857757 and parameters: {'n_estimators': 353, 'max_depth': 173, 'min_samples_split': 2, 'min_samples_leaf': 2, 'max_features': 20}. Best is trial 37 with value: 10.70601912857757.\n",
      "[I 2025-05-22 09:52:42,558] Trial 38 finished with value: 10.728069583129013 and parameters: {'n_estimators': 338, 'max_depth': 198, 'min_samples_split': 5, 'min_samples_leaf': 4, 'max_features': 20}. Best is trial 37 with value: 10.70601912857757.\n",
      "[I 2025-05-22 09:52:42,558] Trial 38 finished with value: 10.728069583129013 and parameters: {'n_estimators': 338, 'max_depth': 198, 'min_samples_split': 5, 'min_samples_leaf': 4, 'max_features': 20}. Best is trial 37 with value: 10.70601912857757.\n",
      "[I 2025-05-22 09:52:51,061] Trial 40 finished with value: 10.730233452522658 and parameters: {'n_estimators': 328, 'max_depth': 199, 'min_samples_split': 5, 'min_samples_leaf': 2, 'max_features': 21}. Best is trial 37 with value: 10.70601912857757.\n",
      "[I 2025-05-22 09:52:51,061] Trial 40 finished with value: 10.730233452522658 and parameters: {'n_estimators': 328, 'max_depth': 199, 'min_samples_split': 5, 'min_samples_leaf': 2, 'max_features': 21}. Best is trial 37 with value: 10.70601912857757.\n",
      "[I 2025-05-22 09:52:59,385] Trial 42 finished with value: 10.746007425634307 and parameters: {'n_estimators': 201, 'max_depth': 177, 'min_samples_split': 5, 'min_samples_leaf': 2, 'max_features': 21}. Best is trial 37 with value: 10.70601912857757.\n",
      "[I 2025-05-22 09:52:59,385] Trial 42 finished with value: 10.746007425634307 and parameters: {'n_estimators': 201, 'max_depth': 177, 'min_samples_split': 5, 'min_samples_leaf': 2, 'max_features': 21}. Best is trial 37 with value: 10.70601912857757.\n",
      "[I 2025-05-22 09:53:07,955] Trial 41 finished with value: 10.725638790026109 and parameters: {'n_estimators': 350, 'max_depth': 177, 'min_samples_split': 5, 'min_samples_leaf': 2, 'max_features': 21}. Best is trial 37 with value: 10.70601912857757.\n",
      "[I 2025-05-22 09:53:07,955] Trial 41 finished with value: 10.725638790026109 and parameters: {'n_estimators': 350, 'max_depth': 177, 'min_samples_split': 5, 'min_samples_leaf': 2, 'max_features': 21}. Best is trial 37 with value: 10.70601912857757.\n",
      "[I 2025-05-22 09:53:09,251] Trial 43 finished with value: 10.714831012075889 and parameters: {'n_estimators': 209, 'max_depth': 114, 'min_samples_split': 2, 'min_samples_leaf': 2, 'max_features': 21}. Best is trial 37 with value: 10.70601912857757.\n",
      "[I 2025-05-22 09:53:09,251] Trial 43 finished with value: 10.714831012075889 and parameters: {'n_estimators': 209, 'max_depth': 114, 'min_samples_split': 2, 'min_samples_leaf': 2, 'max_features': 21}. Best is trial 37 with value: 10.70601912857757.\n",
      "[I 2025-05-22 09:53:24,539] Trial 44 finished with value: 10.717645146358631 and parameters: {'n_estimators': 205, 'max_depth': 83, 'min_samples_split': 2, 'min_samples_leaf': 2, 'max_features': 21}. Best is trial 37 with value: 10.70601912857757.\n",
      "[I 2025-05-22 09:53:24,539] Trial 44 finished with value: 10.717645146358631 and parameters: {'n_estimators': 205, 'max_depth': 83, 'min_samples_split': 2, 'min_samples_leaf': 2, 'max_features': 21}. Best is trial 37 with value: 10.70601912857757.\n",
      "[I 2025-05-22 09:53:48,035] Trial 48 finished with value: 10.75151333237335 and parameters: {'n_estimators': 342, 'max_depth': 115, 'min_samples_split': 2, 'min_samples_leaf': 4, 'max_features': 14}. Best is trial 37 with value: 10.70601912857757.\n",
      "[I 2025-05-22 09:53:48,035] Trial 48 finished with value: 10.75151333237335 and parameters: {'n_estimators': 342, 'max_depth': 115, 'min_samples_split': 2, 'min_samples_leaf': 4, 'max_features': 14}. Best is trial 37 with value: 10.70601912857757.\n",
      "[I 2025-05-22 09:53:54,671] Trial 45 finished with value: 10.73451216967536 and parameters: {'n_estimators': 340, 'max_depth': 111, 'min_samples_split': 2, 'min_samples_leaf': 2, 'max_features': 22}. Best is trial 37 with value: 10.70601912857757.\n",
      "[I 2025-05-22 09:53:54,671] Trial 45 finished with value: 10.73451216967536 and parameters: {'n_estimators': 340, 'max_depth': 111, 'min_samples_split': 2, 'min_samples_leaf': 2, 'max_features': 22}. Best is trial 37 with value: 10.70601912857757.\n",
      "[I 2025-05-22 09:54:00,006] Trial 49 finished with value: 10.724549638248588 and parameters: {'n_estimators': 349, 'max_depth': 112, 'min_samples_split': 2, 'min_samples_leaf': 2, 'max_features': 14}. Best is trial 37 with value: 10.70601912857757.\n",
      "[I 2025-05-22 09:54:00,006] Trial 49 finished with value: 10.724549638248588 and parameters: {'n_estimators': 349, 'max_depth': 112, 'min_samples_split': 2, 'min_samples_leaf': 2, 'max_features': 14}. Best is trial 37 with value: 10.70601912857757.\n",
      "[I 2025-05-22 09:54:00,982] Trial 47 finished with value: 10.692251657204151 and parameters: {'n_estimators': 344, 'max_depth': 114, 'min_samples_split': 2, 'min_samples_leaf': 2, 'max_features': 23}. Best is trial 47 with value: 10.692251657204151.\n",
      "[I 2025-05-22 09:54:00,999] Trial 46 finished with value: 10.720486267182803 and parameters: {'n_estimators': 340, 'max_depth': 114, 'min_samples_split': 2, 'min_samples_leaf': 2, 'max_features': 21}. Best is trial 47 with value: 10.692251657204151.\n",
      "[I 2025-05-22 09:54:00,982] Trial 47 finished with value: 10.692251657204151 and parameters: {'n_estimators': 344, 'max_depth': 114, 'min_samples_split': 2, 'min_samples_leaf': 2, 'max_features': 23}. Best is trial 47 with value: 10.692251657204151.\n",
      "[I 2025-05-22 09:54:00,999] Trial 46 finished with value: 10.720486267182803 and parameters: {'n_estimators': 340, 'max_depth': 114, 'min_samples_split': 2, 'min_samples_leaf': 2, 'max_features': 21}. Best is trial 47 with value: 10.692251657204151.\n",
      "[I 2025-05-22 09:54:01,783] Trial 50 finished with value: 10.71750560899793 and parameters: {'n_estimators': 211, 'max_depth': 113, 'min_samples_split': 2, 'min_samples_leaf': 2, 'max_features': 23}. Best is trial 47 with value: 10.692251657204151.\n",
      "[I 2025-05-22 09:54:01,783] Trial 50 finished with value: 10.71750560899793 and parameters: {'n_estimators': 211, 'max_depth': 113, 'min_samples_split': 2, 'min_samples_leaf': 2, 'max_features': 23}. Best is trial 47 with value: 10.692251657204151.\n",
      "[I 2025-05-22 09:54:03,454] Trial 51 finished with value: 10.741821258923988 and parameters: {'n_estimators': 363, 'max_depth': 115, 'min_samples_split': 2, 'min_samples_leaf': 3, 'max_features': 13}. Best is trial 47 with value: 10.692251657204151.\n",
      "[I 2025-05-22 09:54:03,454] Trial 51 finished with value: 10.741821258923988 and parameters: {'n_estimators': 363, 'max_depth': 115, 'min_samples_split': 2, 'min_samples_leaf': 3, 'max_features': 13}. Best is trial 47 with value: 10.692251657204151.\n",
      "[I 2025-05-22 09:54:30,958] Trial 54 finished with value: 10.698394281314275 and parameters: {'n_estimators': 233, 'max_depth': 110, 'min_samples_split': 2, 'min_samples_leaf': 3, 'max_features': 23}. Best is trial 47 with value: 10.692251657204151.\n",
      "[I 2025-05-22 09:54:30,958] Trial 54 finished with value: 10.698394281314275 and parameters: {'n_estimators': 233, 'max_depth': 110, 'min_samples_split': 2, 'min_samples_leaf': 3, 'max_features': 23}. Best is trial 47 with value: 10.692251657204151.\n",
      "[I 2025-05-22 09:54:38,322] Trial 52 finished with value: 10.701244130086359 and parameters: {'n_estimators': 365, 'max_depth': 110, 'min_samples_split': 2, 'min_samples_leaf': 3, 'max_features': 23}. Best is trial 47 with value: 10.692251657204151.\n",
      "[I 2025-05-22 09:54:38,322] Trial 52 finished with value: 10.701244130086359 and parameters: {'n_estimators': 365, 'max_depth': 110, 'min_samples_split': 2, 'min_samples_leaf': 3, 'max_features': 23}. Best is trial 47 with value: 10.692251657204151.\n",
      "[I 2025-05-22 09:54:41,866] Trial 53 finished with value: 10.700934111631392 and parameters: {'n_estimators': 369, 'max_depth': 142, 'min_samples_split': 2, 'min_samples_leaf': 3, 'max_features': 23}. Best is trial 47 with value: 10.692251657204151.\n",
      "[I 2025-05-22 09:54:41,866] Trial 53 finished with value: 10.700934111631392 and parameters: {'n_estimators': 369, 'max_depth': 142, 'min_samples_split': 2, 'min_samples_leaf': 3, 'max_features': 23}. Best is trial 47 with value: 10.692251657204151.\n",
      "[I 2025-05-22 09:55:08,249] Trial 55 finished with value: 10.697443373055762 and parameters: {'n_estimators': 240, 'max_depth': 138, 'min_samples_split': 3, 'min_samples_leaf': 3, 'max_features': 23}. Best is trial 47 with value: 10.692251657204151.\n",
      "[I 2025-05-22 09:55:08,249] Trial 55 finished with value: 10.697443373055762 and parameters: {'n_estimators': 240, 'max_depth': 138, 'min_samples_split': 3, 'min_samples_leaf': 3, 'max_features': 23}. Best is trial 47 with value: 10.692251657204151.\n",
      "[I 2025-05-22 09:55:12,455] Trial 56 finished with value: 10.70158233236044 and parameters: {'n_estimators': 227, 'max_depth': 137, 'min_samples_split': 3, 'min_samples_leaf': 3, 'max_features': 23}. Best is trial 47 with value: 10.692251657204151.\n",
      "[I 2025-05-22 09:55:12,455] Trial 56 finished with value: 10.70158233236044 and parameters: {'n_estimators': 227, 'max_depth': 137, 'min_samples_split': 3, 'min_samples_leaf': 3, 'max_features': 23}. Best is trial 47 with value: 10.692251657204151.\n",
      "[I 2025-05-22 09:55:49,424] Trial 59 finished with value: 10.700881745644322 and parameters: {'n_estimators': 434, 'max_depth': 134, 'min_samples_split': 3, 'min_samples_leaf': 3, 'max_features': 23}. Best is trial 47 with value: 10.692251657204151.\n",
      "[I 2025-05-22 09:55:49,424] Trial 59 finished with value: 10.700881745644322 and parameters: {'n_estimators': 434, 'max_depth': 134, 'min_samples_split': 3, 'min_samples_leaf': 3, 'max_features': 23}. Best is trial 47 with value: 10.692251657204151.\n",
      "[I 2025-05-22 09:55:51,690] Trial 61 finished with value: 10.697960343404649 and parameters: {'n_estimators': 414, 'max_depth': 132, 'min_samples_split': 3, 'min_samples_leaf': 3, 'max_features': 23}. Best is trial 47 with value: 10.692251657204151.\n",
      "[I 2025-05-22 09:55:51,690] Trial 61 finished with value: 10.697960343404649 and parameters: {'n_estimators': 414, 'max_depth': 132, 'min_samples_split': 3, 'min_samples_leaf': 3, 'max_features': 23}. Best is trial 47 with value: 10.692251657204151.\n",
      "[I 2025-05-22 09:55:51,878] Trial 58 finished with value: 10.698623348615937 and parameters: {'n_estimators': 442, 'max_depth': 137, 'min_samples_split': 3, 'min_samples_leaf': 3, 'max_features': 23}. Best is trial 47 with value: 10.692251657204151.\n",
      "[I 2025-05-22 09:55:51,878] Trial 58 finished with value: 10.698623348615937 and parameters: {'n_estimators': 442, 'max_depth': 137, 'min_samples_split': 3, 'min_samples_leaf': 3, 'max_features': 23}. Best is trial 47 with value: 10.692251657204151.\n",
      "[I 2025-05-22 09:55:53,700] Trial 57 finished with value: 10.699200478520789 and parameters: {'n_estimators': 452, 'max_depth': 131, 'min_samples_split': 3, 'min_samples_leaf': 3, 'max_features': 23}. Best is trial 47 with value: 10.692251657204151.\n",
      "[I 2025-05-22 09:55:53,700] Trial 57 finished with value: 10.699200478520789 and parameters: {'n_estimators': 452, 'max_depth': 131, 'min_samples_split': 3, 'min_samples_leaf': 3, 'max_features': 23}. Best is trial 47 with value: 10.692251657204151.\n",
      "[I 2025-05-22 09:55:55,243] Trial 60 finished with value: 10.700557978962506 and parameters: {'n_estimators': 431, 'max_depth': 134, 'min_samples_split': 3, 'min_samples_leaf': 3, 'max_features': 23}. Best is trial 47 with value: 10.692251657204151.\n",
      "[I 2025-05-22 09:55:55,243] Trial 60 finished with value: 10.700557978962506 and parameters: {'n_estimators': 431, 'max_depth': 134, 'min_samples_split': 3, 'min_samples_leaf': 3, 'max_features': 23}. Best is trial 47 with value: 10.692251657204151.\n",
      "[I 2025-05-22 09:56:27,204] Trial 62 finished with value: 10.698769014730868 and parameters: {'n_estimators': 426, 'max_depth': 136, 'min_samples_split': 3, 'min_samples_leaf': 3, 'max_features': 23}. Best is trial 47 with value: 10.692251657204151.\n",
      "[I 2025-05-22 09:56:27,204] Trial 62 finished with value: 10.698769014730868 and parameters: {'n_estimators': 426, 'max_depth': 136, 'min_samples_split': 3, 'min_samples_leaf': 3, 'max_features': 23}. Best is trial 47 with value: 10.692251657204151.\n",
      "[I 2025-05-22 09:56:30,583] Trial 63 finished with value: 10.698563123790725 and parameters: {'n_estimators': 421, 'max_depth': 124, 'min_samples_split': 3, 'min_samples_leaf': 3, 'max_features': 23}. Best is trial 47 with value: 10.692251657204151.\n",
      "[I 2025-05-22 09:56:30,583] Trial 63 finished with value: 10.698563123790725 and parameters: {'n_estimators': 421, 'max_depth': 124, 'min_samples_split': 3, 'min_samples_leaf': 3, 'max_features': 23}. Best is trial 47 with value: 10.692251657204151.\n",
      "[I 2025-05-22 09:56:30,808] Trial 64 finished with value: 10.698769014730868 and parameters: {'n_estimators': 426, 'max_depth': 128, 'min_samples_split': 3, 'min_samples_leaf': 3, 'max_features': 23}. Best is trial 47 with value: 10.692251657204151.\n",
      "[I 2025-05-22 09:56:30,808] Trial 64 finished with value: 10.698769014730868 and parameters: {'n_estimators': 426, 'max_depth': 128, 'min_samples_split': 3, 'min_samples_leaf': 3, 'max_features': 23}. Best is trial 47 with value: 10.692251657204151.\n",
      "[I 2025-05-22 09:57:08,447] Trial 65 finished with value: 10.717844494095923 and parameters: {'n_estimators': 482, 'max_depth': 137, 'min_samples_split': 3, 'min_samples_leaf': 4, 'max_features': 23}. Best is trial 47 with value: 10.692251657204151.\n",
      "[I 2025-05-22 09:57:08,447] Trial 65 finished with value: 10.717844494095923 and parameters: {'n_estimators': 482, 'max_depth': 137, 'min_samples_split': 3, 'min_samples_leaf': 4, 'max_features': 23}. Best is trial 47 with value: 10.692251657204151.\n",
      "[I 2025-05-22 09:57:10,298] Trial 66 finished with value: 10.699522936971332 and parameters: {'n_estimators': 424, 'max_depth': 136, 'min_samples_split': 3, 'min_samples_leaf': 3, 'max_features': 23}. Best is trial 47 with value: 10.692251657204151.\n",
      "[I 2025-05-22 09:57:10,298] Trial 66 finished with value: 10.699522936971332 and parameters: {'n_estimators': 424, 'max_depth': 136, 'min_samples_split': 3, 'min_samples_leaf': 3, 'max_features': 23}. Best is trial 47 with value: 10.692251657204151.\n",
      "[I 2025-05-22 09:57:42,173] Trial 67 finished with value: 10.724870820000294 and parameters: {'n_estimators': 432, 'max_depth': 127, 'min_samples_split': 4, 'min_samples_leaf': 4, 'max_features': 23}. Best is trial 47 with value: 10.692251657204151.\n",
      "[I 2025-05-22 09:57:42,173] Trial 67 finished with value: 10.724870820000294 and parameters: {'n_estimators': 432, 'max_depth': 127, 'min_samples_split': 4, 'min_samples_leaf': 4, 'max_features': 23}. Best is trial 47 with value: 10.692251657204151.\n",
      "[I 2025-05-22 09:57:50,451] Trial 68 finished with value: 10.708821850723563 and parameters: {'n_estimators': 459, 'max_depth': 129, 'min_samples_split': 4, 'min_samples_leaf': 4, 'max_features': 24}. Best is trial 47 with value: 10.692251657204151.\n",
      "[I 2025-05-22 09:57:50,451] Trial 68 finished with value: 10.708821850723563 and parameters: {'n_estimators': 459, 'max_depth': 129, 'min_samples_split': 4, 'min_samples_leaf': 4, 'max_features': 24}. Best is trial 47 with value: 10.692251657204151.\n",
      "[I 2025-05-22 09:57:51,599] Trial 69 finished with value: 10.71115402057082 and parameters: {'n_estimators': 475, 'max_depth': 129, 'min_samples_split': 4, 'min_samples_leaf': 4, 'max_features': 24}. Best is trial 47 with value: 10.692251657204151.\n",
      "[I 2025-05-22 09:57:51,599] Trial 69 finished with value: 10.71115402057082 and parameters: {'n_estimators': 475, 'max_depth': 129, 'min_samples_split': 4, 'min_samples_leaf': 4, 'max_features': 24}. Best is trial 47 with value: 10.692251657204151.\n",
      "[I 2025-05-22 09:57:57,737] Trial 70 finished with value: 10.71025583682824 and parameters: {'n_estimators': 481, 'max_depth': 129, 'min_samples_split': 4, 'min_samples_leaf': 4, 'max_features': 24}. Best is trial 47 with value: 10.692251657204151.\n",
      "[I 2025-05-22 09:57:57,737] Trial 70 finished with value: 10.71025583682824 and parameters: {'n_estimators': 481, 'max_depth': 129, 'min_samples_split': 4, 'min_samples_leaf': 4, 'max_features': 24}. Best is trial 47 with value: 10.692251657204151.\n",
      "[I 2025-05-22 09:58:00,858] Trial 71 finished with value: 10.708854997874637 and parameters: {'n_estimators': 484, 'max_depth': 123, 'min_samples_split': 4, 'min_samples_leaf': 4, 'max_features': 24}. Best is trial 47 with value: 10.692251657204151.\n",
      "[I 2025-05-22 09:58:00,858] Trial 71 finished with value: 10.708854997874637 and parameters: {'n_estimators': 484, 'max_depth': 123, 'min_samples_split': 4, 'min_samples_leaf': 4, 'max_features': 24}. Best is trial 47 with value: 10.692251657204151.\n",
      "[I 2025-05-22 09:58:33,861] Trial 72 finished with value: 10.704702348020273 and parameters: {'n_estimators': 517, 'max_depth': 125, 'min_samples_split': 4, 'min_samples_leaf': 4, 'max_features': 24}. Best is trial 47 with value: 10.692251657204151.\n",
      "[I 2025-05-22 09:58:33,861] Trial 72 finished with value: 10.704702348020273 and parameters: {'n_estimators': 517, 'max_depth': 125, 'min_samples_split': 4, 'min_samples_leaf': 4, 'max_features': 24}. Best is trial 47 with value: 10.692251657204151.\n",
      "[I 2025-05-22 09:58:35,323] Trial 73 finished with value: 10.705813851388545 and parameters: {'n_estimators': 512, 'max_depth': 124, 'min_samples_split': 4, 'min_samples_leaf': 4, 'max_features': 24}. Best is trial 47 with value: 10.692251657204151.\n",
      "[I 2025-05-22 09:58:35,323] Trial 73 finished with value: 10.705813851388545 and parameters: {'n_estimators': 512, 'max_depth': 124, 'min_samples_split': 4, 'min_samples_leaf': 4, 'max_features': 24}. Best is trial 47 with value: 10.692251657204151.\n",
      "[I 2025-05-22 09:58:37,409] Trial 74 finished with value: 10.708405570617762 and parameters: {'n_estimators': 501, 'max_depth': 123, 'min_samples_split': 4, 'min_samples_leaf': 4, 'max_features': 24}. Best is trial 47 with value: 10.692251657204151.\n",
      "[I 2025-05-22 09:58:37,409] Trial 74 finished with value: 10.708405570617762 and parameters: {'n_estimators': 501, 'max_depth': 123, 'min_samples_split': 4, 'min_samples_leaf': 4, 'max_features': 24}. Best is trial 47 with value: 10.692251657204151.\n",
      "[I 2025-05-22 09:58:58,959] Trial 75 finished with value: 10.855918750192876 and parameters: {'n_estimators': 498, 'max_depth': 122, 'min_samples_split': 4, 'min_samples_leaf': 13, 'max_features': 24}. Best is trial 47 with value: 10.692251657204151.\n",
      "[I 2025-05-22 09:58:58,959] Trial 75 finished with value: 10.855918750192876 and parameters: {'n_estimators': 498, 'max_depth': 122, 'min_samples_split': 4, 'min_samples_leaf': 13, 'max_features': 24}. Best is trial 47 with value: 10.692251657204151.\n",
      "[I 2025-05-22 09:59:09,629] Trial 76 finished with value: 10.708558061999259 and parameters: {'n_estimators': 500, 'max_depth': 123, 'min_samples_split': 4, 'min_samples_leaf': 4, 'max_features': 24}. Best is trial 47 with value: 10.692251657204151.\n",
      "[I 2025-05-22 09:59:09,629] Trial 76 finished with value: 10.708558061999259 and parameters: {'n_estimators': 500, 'max_depth': 123, 'min_samples_split': 4, 'min_samples_leaf': 4, 'max_features': 24}. Best is trial 47 with value: 10.692251657204151.\n",
      "[I 2025-05-22 09:59:25,398] Trial 77 finished with value: 10.854268234365126 and parameters: {'n_estimators': 508, 'max_depth': 121, 'min_samples_split': 4, 'min_samples_leaf': 13, 'max_features': 24}. Best is trial 47 with value: 10.692251657204151.\n",
      "[I 2025-05-22 09:59:25,398] Trial 77 finished with value: 10.854268234365126 and parameters: {'n_estimators': 508, 'max_depth': 121, 'min_samples_split': 4, 'min_samples_leaf': 13, 'max_features': 24}. Best is trial 47 with value: 10.692251657204151.\n",
      "[I 2025-05-22 09:59:34,970] Trial 79 finished with value: 10.882321807137917 and parameters: {'n_estimators': 509, 'max_depth': 151, 'min_samples_split': 6, 'min_samples_leaf': 15, 'max_features': 25}. Best is trial 47 with value: 10.692251657204151.\n",
      "[I 2025-05-22 09:59:34,970] Trial 79 finished with value: 10.882321807137917 and parameters: {'n_estimators': 509, 'max_depth': 151, 'min_samples_split': 6, 'min_samples_leaf': 15, 'max_features': 25}. Best is trial 47 with value: 10.692251657204151.\n",
      "[I 2025-05-22 09:59:42,867] Trial 80 finished with value: 10.864375917933014 and parameters: {'n_estimators': 509, 'max_depth': 122, 'min_samples_split': 3, 'min_samples_leaf': 13, 'max_features': 25}. Best is trial 47 with value: 10.692251657204151.\n",
      "[I 2025-05-22 09:59:42,867] Trial 80 finished with value: 10.864375917933014 and parameters: {'n_estimators': 509, 'max_depth': 122, 'min_samples_split': 3, 'min_samples_leaf': 13, 'max_features': 25}. Best is trial 47 with value: 10.692251657204151.\n",
      "[I 2025-05-22 09:59:43,787] Trial 81 finished with value: 10.864781766801128 and parameters: {'n_estimators': 510, 'max_depth': 150, 'min_samples_split': 6, 'min_samples_leaf': 13, 'max_features': 25}. Best is trial 47 with value: 10.692251657204151.\n",
      "[I 2025-05-22 09:59:43,787] Trial 81 finished with value: 10.864781766801128 and parameters: {'n_estimators': 510, 'max_depth': 150, 'min_samples_split': 6, 'min_samples_leaf': 13, 'max_features': 25}. Best is trial 47 with value: 10.692251657204151.\n",
      "[I 2025-05-22 09:59:44,786] Trial 78 finished with value: 10.708573953904164 and parameters: {'n_estimators': 497, 'max_depth': 122, 'min_samples_split': 6, 'min_samples_leaf': 4, 'max_features': 25}. Best is trial 47 with value: 10.692251657204151.\n",
      "[I 2025-05-22 09:59:44,786] Trial 78 finished with value: 10.708573953904164 and parameters: {'n_estimators': 497, 'max_depth': 122, 'min_samples_split': 6, 'min_samples_leaf': 4, 'max_features': 25}. Best is trial 47 with value: 10.692251657204151.\n",
      "[I 2025-05-22 09:59:55,897] Trial 83 finished with value: 10.890230769067788 and parameters: {'n_estimators': 400, 'max_depth': 151, 'min_samples_split': 3, 'min_samples_leaf': 14, 'max_features': 22}. Best is trial 47 with value: 10.692251657204151.\n",
      "[I 2025-05-22 09:59:55,897] Trial 83 finished with value: 10.890230769067788 and parameters: {'n_estimators': 400, 'max_depth': 151, 'min_samples_split': 3, 'min_samples_leaf': 14, 'max_features': 22}. Best is trial 47 with value: 10.692251657204151.\n",
      "[I 2025-05-22 10:00:03,854] Trial 84 finished with value: 10.884968411406756 and parameters: {'n_estimators': 394, 'max_depth': 156, 'min_samples_split': 6, 'min_samples_leaf': 13, 'max_features': 22}. Best is trial 47 with value: 10.692251657204151.\n",
      "[I 2025-05-22 10:00:03,854] Trial 84 finished with value: 10.884968411406756 and parameters: {'n_estimators': 394, 'max_depth': 156, 'min_samples_split': 6, 'min_samples_leaf': 13, 'max_features': 22}. Best is trial 47 with value: 10.692251657204151.\n",
      "[I 2025-05-22 10:00:10,574] Trial 82 finished with value: 10.703970538421284 and parameters: {'n_estimators': 409, 'max_depth': 154, 'min_samples_split': 3, 'min_samples_leaf': 3, 'max_features': 22}. Best is trial 47 with value: 10.692251657204151.\n",
      "[I 2025-05-22 10:00:10,574] Trial 82 finished with value: 10.703970538421284 and parameters: {'n_estimators': 409, 'max_depth': 154, 'min_samples_split': 3, 'min_samples_leaf': 3, 'max_features': 22}. Best is trial 47 with value: 10.692251657204151.\n",
      "[I 2025-05-22 10:00:25,420] Trial 85 finished with value: 10.799781137286203 and parameters: {'n_estimators': 399, 'max_depth': 156, 'min_samples_split': 3, 'min_samples_leaf': 8, 'max_features': 22}. Best is trial 47 with value: 10.692251657204151.\n",
      "[I 2025-05-22 10:00:25,420] Trial 85 finished with value: 10.799781137286203 and parameters: {'n_estimators': 399, 'max_depth': 156, 'min_samples_split': 3, 'min_samples_leaf': 8, 'max_features': 22}. Best is trial 47 with value: 10.692251657204151.\n",
      "[I 2025-05-22 10:00:40,892] Trial 86 finished with value: 10.705081296589935 and parameters: {'n_estimators': 389, 'max_depth': 151, 'min_samples_split': 6, 'min_samples_leaf': 3, 'max_features': 22}. Best is trial 47 with value: 10.692251657204151.\n",
      "[I 2025-05-22 10:00:40,892] Trial 86 finished with value: 10.705081296589935 and parameters: {'n_estimators': 389, 'max_depth': 151, 'min_samples_split': 6, 'min_samples_leaf': 3, 'max_features': 22}. Best is trial 47 with value: 10.692251657204151.\n",
      "[I 2025-05-22 10:00:51,207] Trial 94 finished with value: 11.426117409819465 and parameters: {'n_estimators': 161, 'max_depth': 143, 'min_samples_split': 9, 'min_samples_leaf': 3, 'max_features': 1}. Best is trial 47 with value: 10.692251657204151.\n",
      "[I 2025-05-22 10:00:51,207] Trial 94 finished with value: 11.426117409819465 and parameters: {'n_estimators': 161, 'max_depth': 143, 'min_samples_split': 9, 'min_samples_leaf': 3, 'max_features': 1}. Best is trial 47 with value: 10.692251657204151.\n",
      "[I 2025-05-22 10:00:54,633] Trial 92 finished with value: 10.70409847700842 and parameters: {'n_estimators': 168, 'max_depth': 142, 'min_samples_split': 3, 'min_samples_leaf': 3, 'max_features': 22}. Best is trial 47 with value: 10.692251657204151.\n",
      "[I 2025-05-22 10:00:54,633] Trial 92 finished with value: 10.70409847700842 and parameters: {'n_estimators': 168, 'max_depth': 142, 'min_samples_split': 3, 'min_samples_leaf': 3, 'max_features': 22}. Best is trial 47 with value: 10.692251657204151.\n",
      "[I 2025-05-22 10:00:57,210] Trial 87 finished with value: 10.703970538421284 and parameters: {'n_estimators': 409, 'max_depth': 144, 'min_samples_split': 3, 'min_samples_leaf': 3, 'max_features': 22}. Best is trial 47 with value: 10.692251657204151.\n",
      "[I 2025-05-22 10:00:57,210] Trial 87 finished with value: 10.703970538421284 and parameters: {'n_estimators': 409, 'max_depth': 144, 'min_samples_split': 3, 'min_samples_leaf': 3, 'max_features': 22}. Best is trial 47 with value: 10.692251657204151.\n",
      "[I 2025-05-22 10:01:10,923] Trial 89 finished with value: 10.748542978710244 and parameters: {'n_estimators': 400, 'max_depth': 104, 'min_samples_split': 11, 'min_samples_leaf': 3, 'max_features': 22}. Best is trial 47 with value: 10.692251657204151.\n",
      "[I 2025-05-22 10:01:10,923] Trial 89 finished with value: 10.748542978710244 and parameters: {'n_estimators': 400, 'max_depth': 104, 'min_samples_split': 11, 'min_samples_leaf': 3, 'max_features': 22}. Best is trial 47 with value: 10.692251657204151.\n",
      "[I 2025-05-22 10:01:11,116] Trial 88 finished with value: 10.749397019497088 and parameters: {'n_estimators': 399, 'max_depth': 158, 'min_samples_split': 11, 'min_samples_leaf': 3, 'max_features': 22}. Best is trial 47 with value: 10.692251657204151.\n",
      "[I 2025-05-22 10:01:11,116] Trial 88 finished with value: 10.749397019497088 and parameters: {'n_estimators': 399, 'max_depth': 158, 'min_samples_split': 11, 'min_samples_leaf': 3, 'max_features': 22}. Best is trial 47 with value: 10.692251657204151.\n",
      "[I 2025-05-22 10:01:11,507] Trial 90 finished with value: 10.703608545526015 and parameters: {'n_estimators': 397, 'max_depth': 142, 'min_samples_split': 3, 'min_samples_leaf': 3, 'max_features': 22}. Best is trial 47 with value: 10.692251657204151.\n",
      "[I 2025-05-22 10:01:11,507] Trial 90 finished with value: 10.703608545526015 and parameters: {'n_estimators': 397, 'max_depth': 142, 'min_samples_split': 3, 'min_samples_leaf': 3, 'max_features': 22}. Best is trial 47 with value: 10.692251657204151.\n",
      "[I 2025-05-22 10:01:13,664] Trial 91 finished with value: 10.705584103879499 and parameters: {'n_estimators': 388, 'max_depth': 104, 'min_samples_split': 3, 'min_samples_leaf': 3, 'max_features': 22}. Best is trial 47 with value: 10.692251657204151.\n",
      "[I 2025-05-22 10:01:13,664] Trial 91 finished with value: 10.705584103879499 and parameters: {'n_estimators': 388, 'max_depth': 104, 'min_samples_split': 3, 'min_samples_leaf': 3, 'max_features': 22}. Best is trial 47 with value: 10.692251657204151.\n",
      "[I 2025-05-22 10:01:22,332] Trial 93 finished with value: 10.706398366117742 and parameters: {'n_estimators': 412, 'max_depth': 106, 'min_samples_split': 3, 'min_samples_leaf': 3, 'max_features': 22}. Best is trial 47 with value: 10.692251657204151.\n",
      "[I 2025-05-22 10:01:22,332] Trial 93 finished with value: 10.706398366117742 and parameters: {'n_estimators': 412, 'max_depth': 106, 'min_samples_split': 3, 'min_samples_leaf': 3, 'max_features': 22}. Best is trial 47 with value: 10.692251657204151.\n",
      "[I 2025-05-22 10:01:22,446] Trial 95 finished with value: 10.753111772575519 and parameters: {'n_estimators': 244, 'max_depth': 145, 'min_samples_split': 10, 'min_samples_leaf': 3, 'max_features': 19}. Best is trial 47 with value: 10.692251657204151.\n",
      "[I 2025-05-22 10:01:22,446] Trial 95 finished with value: 10.753111772575519 and parameters: {'n_estimators': 244, 'max_depth': 145, 'min_samples_split': 10, 'min_samples_leaf': 3, 'max_features': 19}. Best is trial 47 with value: 10.692251657204151.\n",
      "[I 2025-05-22 10:01:31,491] Trial 96 finished with value: 10.806607127062275 and parameters: {'n_estimators': 557, 'max_depth': 144, 'min_samples_split': 3, 'min_samples_leaf': 3, 'max_features': 7}. Best is trial 47 with value: 10.692251657204151.\n",
      "[I 2025-05-22 10:01:31,491] Trial 96 finished with value: 10.806607127062275 and parameters: {'n_estimators': 557, 'max_depth': 144, 'min_samples_split': 3, 'min_samples_leaf': 3, 'max_features': 7}. Best is trial 47 with value: 10.692251657204151.\n",
      "[I 2025-05-22 10:01:33,706] Trial 99 finished with value: 10.751301960274525 and parameters: {'n_estimators': 247, 'max_depth': 97, 'min_samples_split': 12, 'min_samples_leaf': 3, 'max_features': 19}. Best is trial 47 with value: 10.692251657204151.\n",
      "[I 2025-05-22 10:01:33,706] Trial 99 finished with value: 10.751301960274525 and parameters: {'n_estimators': 247, 'max_depth': 97, 'min_samples_split': 12, 'min_samples_leaf': 3, 'max_features': 19}. Best is trial 47 with value: 10.692251657204151.\n",
      "[I 2025-05-22 10:01:41,423] Trial 97 finished with value: 10.749526229637697 and parameters: {'n_estimators': 453, 'max_depth': 102, 'min_samples_split': 12, 'min_samples_leaf': 3, 'max_features': 22}. Best is trial 47 with value: 10.692251657204151.\n",
      "[I 2025-05-22 10:01:41,423] Trial 97 finished with value: 10.749526229637697 and parameters: {'n_estimators': 453, 'max_depth': 102, 'min_samples_split': 12, 'min_samples_leaf': 3, 'max_features': 22}. Best is trial 47 with value: 10.692251657204151.\n",
      "[I 2025-05-22 10:01:42,476] Trial 98 finished with value: 10.717675313250158 and parameters: {'n_estimators': 549, 'max_depth': 104, 'min_samples_split': 3, 'min_samples_leaf': 3, 'max_features': 19}. Best is trial 47 with value: 10.692251657204151.\n",
      "[I 2025-05-22 10:01:42,476] Trial 98 finished with value: 10.717675313250158 and parameters: {'n_estimators': 549, 'max_depth': 104, 'min_samples_split': 3, 'min_samples_leaf': 3, 'max_features': 19}. Best is trial 47 with value: 10.692251657204151.\n"
     ]
    },
    {
     "name": "stdout",
     "output_type": "stream",
     "text": [
      "Mejor MAPE encontrado:  10.692251657204151\n",
      "Mejores hiperparámetros:  {'n_estimators': 344, 'max_depth': 114, 'min_samples_split': 2, 'min_samples_leaf': 2, 'max_features': 23}\n"
     ]
    }
   ],
   "source": [
    "\n",
    "\n",
    "# Semilla para reproducibilidad\n",
    "np.random.seed(593)\n",
    "\n",
    "# K-Fold para CV\n",
    "kf = KFold(n_splits=5, shuffle=True, random_state=593)\n",
    "\n",
    "# Función objetivo\n",
    "def objective(trial):\n",
    "    # 1️⃣ Sugerencia de hiperparámetros\n",
    "    n_estimators       = trial.suggest_int(\"n_estimators\",       100, 800)\n",
    "    max_depth          = trial.suggest_int(\"max_depth\",          50,   200)\n",
    "    min_samples_split  = trial.suggest_int(\"min_samples_split\",  2,   15)\n",
    "    min_samples_leaf   = trial.suggest_int(\"min_samples_leaf\",   2,   15)\n",
    "    max_features       = trial.suggest_int(\"max_features\",       1,   25)\n",
    "\n",
    "    # (Opcional) resembrar numpy para cada trial\n",
    "    np.random.seed(593)\n",
    "\n",
    "    # 2️⃣ Crear y configurar el modelo\n",
    "    model = RandomForestRegressor(\n",
    "        n_estimators      = n_estimators,\n",
    "        max_depth         = max_depth,\n",
    "        min_samples_split = min_samples_split,\n",
    "        min_samples_leaf  = min_samples_leaf,\n",
    "        max_features      = max_features,\n",
    "        random_state      = 593,\n",
    "        n_jobs            = -1      # paraleliza árboles en CPU\n",
    "    )\n",
    "\n",
    "    # Listas para métricas\n",
    "    rmse_scores   = []\n",
    "    rrmse_scores  = []\n",
    "    mape_scores   = []\n",
    "    r2_scores     = []\n",
    "    kge_scores    = []\n",
    "\n",
    "    # 3️⃣ CV manual con escalado en cada fold\n",
    "    for train_idx, val_idx in kf.split(X_train):\n",
    "        X_tr, X_va = X_train[train_idx], X_train[val_idx]\n",
    "        y_tr, y_va = Y_train[train_idx], Y_train[val_idx]\n",
    "\n",
    "        scaler   = StandardScaler().fit(X_tr)\n",
    "        X_tr_sc  = scaler.transform(X_tr)\n",
    "        X_va_sc  = scaler.transform(X_va)\n",
    "\n",
    "        model.fit(X_tr_sc, y_tr)\n",
    "        y_pred = model.predict(X_va_sc)\n",
    "\n",
    "        # Calcular métricas\n",
    "        rmse  = root_mean_squared_error(y_va, y_pred)\n",
    "        rrmse = rmse / y_va.mean()\n",
    "        mape  = mean_absolute_percentage_error(y_va, y_pred) * 100\n",
    "        r2    = r2_score(y_va, y_pred)\n",
    "        kge   = kling_gupta_efficiency(y_va, y_pred)\n",
    "\n",
    "        rmse_scores.append(rmse)\n",
    "        rrmse_scores.append(rrmse)\n",
    "        mape_scores.append(mape)\n",
    "        r2_scores.append(r2)\n",
    "        kge_scores.append(kge)\n",
    "\n",
    "    # 4️⃣ Agregar atributos al trial\n",
    "    trial.set_user_attr(\"mean_rmse\",  np.mean(rmse_scores))\n",
    "    trial.set_user_attr(\"sd_rmse\",    np.std(rmse_scores))\n",
    "    trial.set_user_attr(\"mean_rrmse\", np.mean(rrmse_scores))\n",
    "    trial.set_user_attr(\"sd_rrmse\",   np.std(rrmse_scores))\n",
    "    trial.set_user_attr(\"mean_mape\",  np.mean(mape_scores))\n",
    "    trial.set_user_attr(\"sd_mape\",    np.std(mape_scores))\n",
    "    trial.set_user_attr(\"mean_r2\",    np.mean(r2_scores))\n",
    "    trial.set_user_attr(\"sd_r2\",      np.std(r2_scores))\n",
    "    trial.set_user_attr(\"mean_kge\",   np.mean(kge_scores))\n",
    "    trial.set_user_attr(\"sd_kge\",     np.std(kge_scores))\n",
    "\n",
    "    # 5️⃣ Retornar la métrica a optimizar\n",
    "    return np.mean(mape_scores)\n",
    "\n",
    "# 6️⃣ Ejecutar la optimización en paralelo (4 hilos)\n",
    "study_rf1.optimize(\n",
    "    objective,\n",
    "    n_trials = 100,\n",
    "    n_jobs   = 10\n",
    ")\n",
    "\n",
    "# Resultados finales\n",
    "print(\"Mejor MAPE encontrado: \", study_rf1.best_value)\n",
    "print(\"Mejores hiperparámetros: \", study_rf1.best_params)"
   ]
  },
  {
   "cell_type": "markdown",
   "id": "cb9fb5e1",
   "metadata": {},
   "source": [
    "#### Evolución de iteraciones"
   ]
  },
  {
   "cell_type": "code",
   "execution_count": 9,
   "id": "489b0083",
   "metadata": {},
   "outputs": [
    {
     "data": {
      "application/vnd.plotly.v1+json": {
       "config": {
        "plotlyServerURL": "https://plot.ly"
       },
       "data": [
        {
         "mode": "markers",
         "name": "Objective Value",
         "type": "scatter",
         "x": [
          0,
          1,
          2,
          3,
          4,
          5,
          6,
          7,
          8,
          9,
          10,
          11,
          12,
          13,
          14,
          15,
          16,
          17,
          18,
          19,
          20,
          21,
          22,
          23,
          24,
          25,
          26,
          27,
          28,
          29,
          30,
          31,
          32,
          33,
          34,
          35,
          36,
          37,
          38,
          39,
          40,
          41,
          42,
          43,
          44,
          45,
          46,
          47,
          48,
          49,
          50,
          51,
          52,
          53,
          54,
          55,
          56,
          57,
          58,
          59,
          60,
          61,
          62,
          63,
          64,
          65,
          66,
          67,
          68,
          69,
          70,
          71,
          72,
          73,
          74,
          75,
          76,
          77,
          78,
          79,
          80,
          81,
          82,
          83,
          84,
          85,
          86,
          87,
          88,
          89,
          90,
          91,
          92,
          93,
          94,
          95,
          96,
          97,
          98,
          99
         ],
         "y": [
          11.876193685370936,
          10.834631229061994,
          10.877137489986655,
          10.840049391768577,
          10.783983879548819,
          11.098418062004354,
          10.95496899280098,
          10.741758490837338,
          11.163822203526907,
          11.07141233828427,
          10.967503421260087,
          10.74810263965442,
          10.950805916785063,
          10.926803481677686,
          10.902343896704371,
          11.014967495433357,
          11.06041190260683,
          11.190843703056716,
          10.792161376360067,
          10.760345623458194,
          10.774152951341557,
          10.7633603811721,
          10.764537299081313,
          10.811190614347641,
          10.790710414531912,
          10.75665255748417,
          10.77069218236636,
          10.750122720518158,
          10.734746414879691,
          10.772369403924028,
          10.770176252044656,
          10.775250522474314,
          10.76563961769992,
          10.71350466282299,
          10.72041468835574,
          10.717906489039787,
          10.707296138466045,
          10.70601912857757,
          10.728069583129013,
          10.74346642992467,
          10.730233452522658,
          10.725638790026109,
          10.746007425634307,
          10.714831012075889,
          10.717645146358631,
          10.73451216967536,
          10.720486267182803,
          10.692251657204151,
          10.75151333237335,
          10.724549638248588,
          10.71750560899793,
          10.741821258923988,
          10.701244130086359,
          10.700934111631392,
          10.698394281314275,
          10.697443373055762,
          10.70158233236044,
          10.699200478520789,
          10.698623348615937,
          10.700881745644322,
          10.700557978962506,
          10.697960343404649,
          10.698769014730868,
          10.698563123790725,
          10.698769014730868,
          10.717844494095923,
          10.699522936971332,
          10.724870820000294,
          10.708821850723563,
          10.71115402057082,
          10.71025583682824,
          10.708854997874637,
          10.704702348020273,
          10.705813851388545,
          10.708405570617762,
          10.855918750192876,
          10.708558061999259,
          10.854268234365126,
          10.708573953904164,
          10.882321807137917,
          10.864375917933014,
          10.864781766801128,
          10.703970538421284,
          10.890230769067788,
          10.884968411406756,
          10.799781137286203,
          10.705081296589935,
          10.703970538421284,
          10.749397019497088,
          10.748542978710244,
          10.703608545526015,
          10.705584103879499,
          10.70409847700842,
          10.706398366117742,
          11.426117409819465,
          10.753111772575519,
          10.806607127062275,
          10.749526229637697,
          10.717675313250158,
          10.751301960274525
         ]
        },
        {
         "mode": "lines",
         "name": "Best Value",
         "type": "scatter",
         "x": [
          0,
          1,
          2,
          3,
          4,
          5,
          6,
          7,
          8,
          9,
          10,
          11,
          12,
          13,
          14,
          15,
          16,
          17,
          18,
          19,
          20,
          21,
          22,
          23,
          24,
          25,
          26,
          27,
          28,
          29,
          30,
          31,
          32,
          33,
          34,
          35,
          36,
          37,
          38,
          39,
          40,
          41,
          42,
          43,
          44,
          45,
          46,
          47,
          48,
          49,
          50,
          51,
          52,
          53,
          54,
          55,
          56,
          57,
          58,
          59,
          60,
          61,
          62,
          63,
          64,
          65,
          66,
          67,
          68,
          69,
          70,
          71,
          72,
          73,
          74,
          75,
          76,
          77,
          78,
          79,
          80,
          81,
          82,
          83,
          84,
          85,
          86,
          87,
          88,
          89,
          90,
          91,
          92,
          93,
          94,
          95,
          96,
          97,
          98,
          99
         ],
         "y": [
          11.876193685370936,
          10.834631229061994,
          10.834631229061994,
          10.834631229061994,
          10.783983879548819,
          10.783983879548819,
          10.783983879548819,
          10.741758490837338,
          10.741758490837338,
          10.741758490837338,
          10.741758490837338,
          10.741758490837338,
          10.741758490837338,
          10.741758490837338,
          10.741758490837338,
          10.741758490837338,
          10.741758490837338,
          10.741758490837338,
          10.741758490837338,
          10.741758490837338,
          10.741758490837338,
          10.741758490837338,
          10.741758490837338,
          10.741758490837338,
          10.741758490837338,
          10.741758490837338,
          10.741758490837338,
          10.741758490837338,
          10.734746414879691,
          10.734746414879691,
          10.734746414879691,
          10.734746414879691,
          10.734746414879691,
          10.71350466282299,
          10.71350466282299,
          10.71350466282299,
          10.707296138466045,
          10.70601912857757,
          10.70601912857757,
          10.70601912857757,
          10.70601912857757,
          10.70601912857757,
          10.70601912857757,
          10.70601912857757,
          10.70601912857757,
          10.70601912857757,
          10.70601912857757,
          10.692251657204151,
          10.692251657204151,
          10.692251657204151,
          10.692251657204151,
          10.692251657204151,
          10.692251657204151,
          10.692251657204151,
          10.692251657204151,
          10.692251657204151,
          10.692251657204151,
          10.692251657204151,
          10.692251657204151,
          10.692251657204151,
          10.692251657204151,
          10.692251657204151,
          10.692251657204151,
          10.692251657204151,
          10.692251657204151,
          10.692251657204151,
          10.692251657204151,
          10.692251657204151,
          10.692251657204151,
          10.692251657204151,
          10.692251657204151,
          10.692251657204151,
          10.692251657204151,
          10.692251657204151,
          10.692251657204151,
          10.692251657204151,
          10.692251657204151,
          10.692251657204151,
          10.692251657204151,
          10.692251657204151,
          10.692251657204151,
          10.692251657204151,
          10.692251657204151,
          10.692251657204151,
          10.692251657204151,
          10.692251657204151,
          10.692251657204151,
          10.692251657204151,
          10.692251657204151,
          10.692251657204151,
          10.692251657204151,
          10.692251657204151,
          10.692251657204151,
          10.692251657204151,
          10.692251657204151,
          10.692251657204151,
          10.692251657204151,
          10.692251657204151,
          10.692251657204151,
          10.692251657204151
         ]
        },
        {
         "marker": {
          "color": "#cccccc"
         },
         "mode": "markers",
         "name": "Infeasible Trial",
         "showlegend": false,
         "type": "scatter",
         "x": [],
         "y": []
        }
       ],
       "layout": {
        "template": {
         "data": {
          "bar": [
           {
            "error_x": {
             "color": "#2a3f5f"
            },
            "error_y": {
             "color": "#2a3f5f"
            },
            "marker": {
             "line": {
              "color": "#E5ECF6",
              "width": 0.5
             },
             "pattern": {
              "fillmode": "overlay",
              "size": 10,
              "solidity": 0.2
             }
            },
            "type": "bar"
           }
          ],
          "barpolar": [
           {
            "marker": {
             "line": {
              "color": "#E5ECF6",
              "width": 0.5
             },
             "pattern": {
              "fillmode": "overlay",
              "size": 10,
              "solidity": 0.2
             }
            },
            "type": "barpolar"
           }
          ],
          "carpet": [
           {
            "aaxis": {
             "endlinecolor": "#2a3f5f",
             "gridcolor": "white",
             "linecolor": "white",
             "minorgridcolor": "white",
             "startlinecolor": "#2a3f5f"
            },
            "baxis": {
             "endlinecolor": "#2a3f5f",
             "gridcolor": "white",
             "linecolor": "white",
             "minorgridcolor": "white",
             "startlinecolor": "#2a3f5f"
            },
            "type": "carpet"
           }
          ],
          "choropleth": [
           {
            "colorbar": {
             "outlinewidth": 0,
             "ticks": ""
            },
            "type": "choropleth"
           }
          ],
          "contour": [
           {
            "colorbar": {
             "outlinewidth": 0,
             "ticks": ""
            },
            "colorscale": [
             [
              0,
              "#0d0887"
             ],
             [
              0.1111111111111111,
              "#46039f"
             ],
             [
              0.2222222222222222,
              "#7201a8"
             ],
             [
              0.3333333333333333,
              "#9c179e"
             ],
             [
              0.4444444444444444,
              "#bd3786"
             ],
             [
              0.5555555555555556,
              "#d8576b"
             ],
             [
              0.6666666666666666,
              "#ed7953"
             ],
             [
              0.7777777777777778,
              "#fb9f3a"
             ],
             [
              0.8888888888888888,
              "#fdca26"
             ],
             [
              1,
              "#f0f921"
             ]
            ],
            "type": "contour"
           }
          ],
          "contourcarpet": [
           {
            "colorbar": {
             "outlinewidth": 0,
             "ticks": ""
            },
            "type": "contourcarpet"
           }
          ],
          "heatmap": [
           {
            "colorbar": {
             "outlinewidth": 0,
             "ticks": ""
            },
            "colorscale": [
             [
              0,
              "#0d0887"
             ],
             [
              0.1111111111111111,
              "#46039f"
             ],
             [
              0.2222222222222222,
              "#7201a8"
             ],
             [
              0.3333333333333333,
              "#9c179e"
             ],
             [
              0.4444444444444444,
              "#bd3786"
             ],
             [
              0.5555555555555556,
              "#d8576b"
             ],
             [
              0.6666666666666666,
              "#ed7953"
             ],
             [
              0.7777777777777778,
              "#fb9f3a"
             ],
             [
              0.8888888888888888,
              "#fdca26"
             ],
             [
              1,
              "#f0f921"
             ]
            ],
            "type": "heatmap"
           }
          ],
          "histogram": [
           {
            "marker": {
             "pattern": {
              "fillmode": "overlay",
              "size": 10,
              "solidity": 0.2
             }
            },
            "type": "histogram"
           }
          ],
          "histogram2d": [
           {
            "colorbar": {
             "outlinewidth": 0,
             "ticks": ""
            },
            "colorscale": [
             [
              0,
              "#0d0887"
             ],
             [
              0.1111111111111111,
              "#46039f"
             ],
             [
              0.2222222222222222,
              "#7201a8"
             ],
             [
              0.3333333333333333,
              "#9c179e"
             ],
             [
              0.4444444444444444,
              "#bd3786"
             ],
             [
              0.5555555555555556,
              "#d8576b"
             ],
             [
              0.6666666666666666,
              "#ed7953"
             ],
             [
              0.7777777777777778,
              "#fb9f3a"
             ],
             [
              0.8888888888888888,
              "#fdca26"
             ],
             [
              1,
              "#f0f921"
             ]
            ],
            "type": "histogram2d"
           }
          ],
          "histogram2dcontour": [
           {
            "colorbar": {
             "outlinewidth": 0,
             "ticks": ""
            },
            "colorscale": [
             [
              0,
              "#0d0887"
             ],
             [
              0.1111111111111111,
              "#46039f"
             ],
             [
              0.2222222222222222,
              "#7201a8"
             ],
             [
              0.3333333333333333,
              "#9c179e"
             ],
             [
              0.4444444444444444,
              "#bd3786"
             ],
             [
              0.5555555555555556,
              "#d8576b"
             ],
             [
              0.6666666666666666,
              "#ed7953"
             ],
             [
              0.7777777777777778,
              "#fb9f3a"
             ],
             [
              0.8888888888888888,
              "#fdca26"
             ],
             [
              1,
              "#f0f921"
             ]
            ],
            "type": "histogram2dcontour"
           }
          ],
          "mesh3d": [
           {
            "colorbar": {
             "outlinewidth": 0,
             "ticks": ""
            },
            "type": "mesh3d"
           }
          ],
          "parcoords": [
           {
            "line": {
             "colorbar": {
              "outlinewidth": 0,
              "ticks": ""
             }
            },
            "type": "parcoords"
           }
          ],
          "pie": [
           {
            "automargin": true,
            "type": "pie"
           }
          ],
          "scatter": [
           {
            "fillpattern": {
             "fillmode": "overlay",
             "size": 10,
             "solidity": 0.2
            },
            "type": "scatter"
           }
          ],
          "scatter3d": [
           {
            "line": {
             "colorbar": {
              "outlinewidth": 0,
              "ticks": ""
             }
            },
            "marker": {
             "colorbar": {
              "outlinewidth": 0,
              "ticks": ""
             }
            },
            "type": "scatter3d"
           }
          ],
          "scattercarpet": [
           {
            "marker": {
             "colorbar": {
              "outlinewidth": 0,
              "ticks": ""
             }
            },
            "type": "scattercarpet"
           }
          ],
          "scattergeo": [
           {
            "marker": {
             "colorbar": {
              "outlinewidth": 0,
              "ticks": ""
             }
            },
            "type": "scattergeo"
           }
          ],
          "scattergl": [
           {
            "marker": {
             "colorbar": {
              "outlinewidth": 0,
              "ticks": ""
             }
            },
            "type": "scattergl"
           }
          ],
          "scattermap": [
           {
            "marker": {
             "colorbar": {
              "outlinewidth": 0,
              "ticks": ""
             }
            },
            "type": "scattermap"
           }
          ],
          "scattermapbox": [
           {
            "marker": {
             "colorbar": {
              "outlinewidth": 0,
              "ticks": ""
             }
            },
            "type": "scattermapbox"
           }
          ],
          "scatterpolar": [
           {
            "marker": {
             "colorbar": {
              "outlinewidth": 0,
              "ticks": ""
             }
            },
            "type": "scatterpolar"
           }
          ],
          "scatterpolargl": [
           {
            "marker": {
             "colorbar": {
              "outlinewidth": 0,
              "ticks": ""
             }
            },
            "type": "scatterpolargl"
           }
          ],
          "scatterternary": [
           {
            "marker": {
             "colorbar": {
              "outlinewidth": 0,
              "ticks": ""
             }
            },
            "type": "scatterternary"
           }
          ],
          "surface": [
           {
            "colorbar": {
             "outlinewidth": 0,
             "ticks": ""
            },
            "colorscale": [
             [
              0,
              "#0d0887"
             ],
             [
              0.1111111111111111,
              "#46039f"
             ],
             [
              0.2222222222222222,
              "#7201a8"
             ],
             [
              0.3333333333333333,
              "#9c179e"
             ],
             [
              0.4444444444444444,
              "#bd3786"
             ],
             [
              0.5555555555555556,
              "#d8576b"
             ],
             [
              0.6666666666666666,
              "#ed7953"
             ],
             [
              0.7777777777777778,
              "#fb9f3a"
             ],
             [
              0.8888888888888888,
              "#fdca26"
             ],
             [
              1,
              "#f0f921"
             ]
            ],
            "type": "surface"
           }
          ],
          "table": [
           {
            "cells": {
             "fill": {
              "color": "#EBF0F8"
             },
             "line": {
              "color": "white"
             }
            },
            "header": {
             "fill": {
              "color": "#C8D4E3"
             },
             "line": {
              "color": "white"
             }
            },
            "type": "table"
           }
          ]
         },
         "layout": {
          "annotationdefaults": {
           "arrowcolor": "#2a3f5f",
           "arrowhead": 0,
           "arrowwidth": 1
          },
          "autotypenumbers": "strict",
          "coloraxis": {
           "colorbar": {
            "outlinewidth": 0,
            "ticks": ""
           }
          },
          "colorscale": {
           "diverging": [
            [
             0,
             "#8e0152"
            ],
            [
             0.1,
             "#c51b7d"
            ],
            [
             0.2,
             "#de77ae"
            ],
            [
             0.3,
             "#f1b6da"
            ],
            [
             0.4,
             "#fde0ef"
            ],
            [
             0.5,
             "#f7f7f7"
            ],
            [
             0.6,
             "#e6f5d0"
            ],
            [
             0.7,
             "#b8e186"
            ],
            [
             0.8,
             "#7fbc41"
            ],
            [
             0.9,
             "#4d9221"
            ],
            [
             1,
             "#276419"
            ]
           ],
           "sequential": [
            [
             0,
             "#0d0887"
            ],
            [
             0.1111111111111111,
             "#46039f"
            ],
            [
             0.2222222222222222,
             "#7201a8"
            ],
            [
             0.3333333333333333,
             "#9c179e"
            ],
            [
             0.4444444444444444,
             "#bd3786"
            ],
            [
             0.5555555555555556,
             "#d8576b"
            ],
            [
             0.6666666666666666,
             "#ed7953"
            ],
            [
             0.7777777777777778,
             "#fb9f3a"
            ],
            [
             0.8888888888888888,
             "#fdca26"
            ],
            [
             1,
             "#f0f921"
            ]
           ],
           "sequentialminus": [
            [
             0,
             "#0d0887"
            ],
            [
             0.1111111111111111,
             "#46039f"
            ],
            [
             0.2222222222222222,
             "#7201a8"
            ],
            [
             0.3333333333333333,
             "#9c179e"
            ],
            [
             0.4444444444444444,
             "#bd3786"
            ],
            [
             0.5555555555555556,
             "#d8576b"
            ],
            [
             0.6666666666666666,
             "#ed7953"
            ],
            [
             0.7777777777777778,
             "#fb9f3a"
            ],
            [
             0.8888888888888888,
             "#fdca26"
            ],
            [
             1,
             "#f0f921"
            ]
           ]
          },
          "colorway": [
           "#636efa",
           "#EF553B",
           "#00cc96",
           "#ab63fa",
           "#FFA15A",
           "#19d3f3",
           "#FF6692",
           "#B6E880",
           "#FF97FF",
           "#FECB52"
          ],
          "font": {
           "color": "#2a3f5f"
          },
          "geo": {
           "bgcolor": "white",
           "lakecolor": "white",
           "landcolor": "#E5ECF6",
           "showlakes": true,
           "showland": true,
           "subunitcolor": "white"
          },
          "hoverlabel": {
           "align": "left"
          },
          "hovermode": "closest",
          "mapbox": {
           "style": "light"
          },
          "paper_bgcolor": "white",
          "plot_bgcolor": "#E5ECF6",
          "polar": {
           "angularaxis": {
            "gridcolor": "white",
            "linecolor": "white",
            "ticks": ""
           },
           "bgcolor": "#E5ECF6",
           "radialaxis": {
            "gridcolor": "white",
            "linecolor": "white",
            "ticks": ""
           }
          },
          "scene": {
           "xaxis": {
            "backgroundcolor": "#E5ECF6",
            "gridcolor": "white",
            "gridwidth": 2,
            "linecolor": "white",
            "showbackground": true,
            "ticks": "",
            "zerolinecolor": "white"
           },
           "yaxis": {
            "backgroundcolor": "#E5ECF6",
            "gridcolor": "white",
            "gridwidth": 2,
            "linecolor": "white",
            "showbackground": true,
            "ticks": "",
            "zerolinecolor": "white"
           },
           "zaxis": {
            "backgroundcolor": "#E5ECF6",
            "gridcolor": "white",
            "gridwidth": 2,
            "linecolor": "white",
            "showbackground": true,
            "ticks": "",
            "zerolinecolor": "white"
           }
          },
          "shapedefaults": {
           "line": {
            "color": "#2a3f5f"
           }
          },
          "ternary": {
           "aaxis": {
            "gridcolor": "white",
            "linecolor": "white",
            "ticks": ""
           },
           "baxis": {
            "gridcolor": "white",
            "linecolor": "white",
            "ticks": ""
           },
           "bgcolor": "#E5ECF6",
           "caxis": {
            "gridcolor": "white",
            "linecolor": "white",
            "ticks": ""
           }
          },
          "title": {
           "x": 0.05
          },
          "xaxis": {
           "automargin": true,
           "gridcolor": "white",
           "linecolor": "white",
           "ticks": "",
           "title": {
            "standoff": 15
           },
           "zerolinecolor": "white",
           "zerolinewidth": 2
          },
          "yaxis": {
           "automargin": true,
           "gridcolor": "white",
           "linecolor": "white",
           "ticks": "",
           "title": {
            "standoff": 15
           },
           "zerolinecolor": "white",
           "zerolinewidth": 2
          }
         }
        },
        "title": {
         "text": "Optimization History Plot"
        },
        "xaxis": {
         "title": {
          "text": "Trial"
         }
        },
        "yaxis": {
         "title": {
          "text": "Objective Value"
         }
        }
       }
      }
     },
     "metadata": {},
     "output_type": "display_data"
    }
   ],
   "source": [
    "from optuna.visualization import plot_optimization_history\n",
    "plot_optimization_history(study_rf1)"
   ]
  },
  {
   "cell_type": "markdown",
   "id": "ca759baa",
   "metadata": {},
   "source": [
    "#### Extracción de métricas"
   ]
  },
  {
   "cell_type": "code",
   "execution_count": 10,
   "id": "9359959f",
   "metadata": {},
   "outputs": [
    {
     "name": "stdout",
     "output_type": "stream",
     "text": [
      "\n",
      "🔍 Mejores hiperparámetros encontrados:\n",
      "Hiperparámetros: {'n_estimators': 344, 'max_depth': 114, 'min_samples_split': 2, 'min_samples_leaf': 2, 'max_features': 23}\n",
      "Mejor puntuación (RMSE): 10.692251657204151\n",
      "\n",
      "🔍 Métricas adicionales registradas en set_user_attr:\n",
      "mean_rmse: 1.0482829110176186\n",
      "sd_rmse: 0.04312305973576999\n",
      "mean_rrmse: 0.12049700659703255\n",
      "sd_rrmse: 0.005136271820779853\n",
      "mean_mape: 10.692251657204151\n",
      "sd_mape: 0.48723736239278675\n",
      "mean_r2: 0.4676495928009528\n",
      "sd_r2: 0.044975968405503754\n",
      "mean_kge: 0.5476493085420707\n",
      "sd_kge: 0.02949723130291005\n"
     ]
    }
   ],
   "source": [
    "# 8️⃣ Imprimir los mejores hiperparámetros encontrados, la métrica objetivo y las métricas personalizadas\n",
    "print(\"\\n🔍 Mejores hiperparámetros encontrados:\")\n",
    "best_params = study_rf1.best_params\n",
    "best_mae = study_rf1.best_value  # Esta es la mejor métrica (RMSE) obtenida\n",
    "best_trial = study_rf1.best_trial  # El mejor trial, que tiene toda la información\n",
    "\n",
    "# Imprimir los hiperparámetros y la métrica principal\n",
    "print(f\"Hiperparámetros: {best_params}\")\n",
    "print(f\"Mejor puntuación (RMSE): {best_mae}\")\n",
    "# Imprimir las métricas registradas con set_user_attr\n",
    "print(\"\\n🔍 Métricas adicionales registradas en set_user_attr:\")\n",
    "for attr_name, attr_value in best_trial.user_attrs.items():\n",
    "    print(f\"{attr_name}: {attr_value}\")"
   ]
  },
  {
   "cell_type": "markdown",
   "id": "97618e1c",
   "metadata": {},
   "source": [
    "#### Test con 20% de datos"
   ]
  },
  {
   "cell_type": "markdown",
   "id": "0ec9a54f",
   "metadata": {},
   "source": [
    "Se usa los mejores parámetros encontrados para hacer una evaluación con los datos de rpueba. Esta corrida se guarda en MlFlows."
   ]
  },
  {
   "cell_type": "code",
   "execution_count": 11,
   "id": "5473e90c",
   "metadata": {},
   "outputs": [
    {
     "name": "stderr",
     "output_type": "stream",
     "text": [
      "2025/05/22 10:01:54 WARNING mlflow.models.model: Model logged without a signature and input example. Please set `input_example` parameter when logging the model to auto infer the model signature.\n"
     ]
    },
    {
     "name": "stdout",
     "output_type": "stream",
     "text": [
      "╔══════════════════════════╗\n",
      "║   Métricas del modelo    ║\n",
      "╠══════════════════════════╣\n",
      "║ R²   :    0.505        ║\n",
      "║ RMSE :    1.049        ║\n",
      "║ MAPE :    10.69 %     ║\n",
      "║ KGE  :    0.573        ║\n",
      "╚══════════════════════════╝\n"
     ]
    }
   ],
   "source": [
    "# 1️⃣ Escalado de datos\n",
    "scaler = StandardScaler()\n",
    "X_train_scaled = scaler.fit_transform(X_train)\n",
    "X_test_scaled  = scaler.transform(X_test)\n",
    "\n",
    "# 2️⃣ Activar autolog de MLflow (registra modelo, métricas y parámetros automáticamente)\n",
    "mlflow.sklearn.autolog()\n",
    "\n",
    "# Nombre del modelo (tag)\n",
    "modelo = \"SAR - RF sin seleccion\"\n",
    "\n",
    "# 1️⃣ Escalar los datos\n",
    "scaler         = StandardScaler()\n",
    "X_train_scaled = scaler.fit_transform(X_train)\n",
    "X_test_scaled  = scaler.transform(X_test)\n",
    "\n",
    "# 2️⃣ Activar autolog de MLflow (registra automáticamente parámetros, métricas y modelo)\n",
    "mlflow.sklearn.autolog()\n",
    "\n",
    "# 3️⃣ Iniciar la corrida MLflow\n",
    "with mlflow.start_run(run_name=\"rf_final_with_optuna_params\"):\n",
    "    # 🔖 Etiquetar el nombre de tu modelo\n",
    "    mlflow.set_tag(\"rf_all_variables\", modelo)\n",
    "\n",
    "    # 🔹 Registrar los hiperparámetros óptimos\n",
    "    mlflow.log_params(best_params)\n",
    "\n",
    "    # 🔹 Crear y entrenar el modelo\n",
    "    final_model_rf_1 = RandomForestRegressor(\n",
    "        n_estimators       = best_params['n_estimators'],\n",
    "        max_depth          = best_params['max_depth'],\n",
    "        min_samples_split  = best_params['min_samples_split'],\n",
    "        min_samples_leaf   = best_params['min_samples_leaf'],\n",
    "        max_features       = best_params['max_features'],\n",
    "        random_state       = 593,\n",
    "        n_jobs             = -1\n",
    "    )\n",
    "    final_model_rf_1.fit(X_train_scaled, Y_train)\n",
    "\n",
    "    # 🔹 Predecir sobre el conjunto de prueba\n",
    "    Y_pred = final_model_rf_1.predict(X_test_scaled)\n",
    "\n",
    "    # 🔹 Calcular las métricas solicitadas\n",
    "    r2   = r2_score(Y_test, Y_pred)\n",
    "    rmse = root_mean_squared_error(Y_test, Y_pred)\n",
    "    mape = mean_absolute_percentage_error(Y_test, Y_pred) * 100\n",
    "    kge  = kling_gupta_efficiency(Y_test, Y_pred)\n",
    "\n",
    "    # 🔹 Registrar las métricas en MLflow\n",
    "    mlflow.log_metric(\"r2\",   r2)\n",
    "    mlflow.log_metric(\"rmse\", rmse)\n",
    "    mlflow.log_metric(\"mape\", mape)\n",
    "    mlflow.log_metric(\"kge\",  kge)\n",
    "\n",
    "    # 🔹 (Opcional) guardar el modelo explícitamente\n",
    "    mlflow.sklearn.log_model(final_model_rf_1, artifact_path=\"model\")\n",
    "\n",
    "    # 🔹 Mostrar las métricas en consola con formato\n",
    "    print(\n",
    "        \"╔══════════════════════════╗\\n\"\n",
    "        \"║   Métricas del modelo    ║\\n\"\n",
    "        \"╠══════════════════════════╣\\n\"\n",
    "        f\"║ R²   : {r2:8.3f}        ║\\n\"\n",
    "        f\"║ RMSE : {rmse:8.3f}        ║\\n\"\n",
    "        f\"║ MAPE : {mape:8.2f} %     ║\\n\"\n",
    "        f\"║ KGE  : {kge:8.3f}        ║\\n\"\n",
    "        \"╚══════════════════════════╝\"\n",
    "    )"
   ]
  },
  {
   "cell_type": "code",
   "execution_count": 12,
   "id": "fd015637",
   "metadata": {},
   "outputs": [
    {
     "data": {
      "image/png": "[encoded data removed]",
      "text/plain": [
       "<Figure size 600x600 with 2 Axes>"
      ]
     },
     "metadata": {},
     "output_type": "display_data"
    },
    {
     "name": "stdout",
     "output_type": "stream",
     "text": [
      "                   MODELO     Y_test    Y_pred\n",
      "0  SAR - RF sin seleccion   8.031570  9.070646\n",
      "1  SAR - RF sin seleccion  10.206363  9.213127\n",
      "2  SAR - RF sin seleccion   9.745593  9.468898\n",
      "3  SAR - RF sin seleccion  10.003646  9.538102\n",
      "4  SAR - RF sin seleccion   8.310349  8.210656\n"
     ]
    }
   ],
   "source": [
    "from scipy.stats import linregress\n",
    "from matplotlib.colors import LinearSegmentedColormap\n",
    "# Supón que ya tienes Y_test y Y_pred definidos\n",
    "name_modelo = \"SAR - RF sin seleccion\"\n",
    "\n",
    "# Crear el DataFrame con las observaciones y predicciones\n",
    "rf1_pred = pd.DataFrame({\n",
    "    \"MODELO\": name_modelo,\n",
    "    \"Y_test\": Y_test,\n",
    "    \"Y_pred\": Y_pred\n",
    "})\n",
    "\n",
    "\n",
    "# Línea de identidad y = x\n",
    "min_val = min(rf1_pred[\"Y_test\"].min(), rf1_pred[\"Y_pred\"].min())\n",
    "max_val = max(rf1_pred[\"Y_test\"].max(), rf1_pred[\"Y_pred\"].max())\n",
    "slope, intercept, _, _, _ = linregress(rf1_pred[\"Y_test\"], rf1_pred[\"Y_pred\"])\n",
    "reg_x = np.array([min_val, max_val])\n",
    "reg_y = slope * reg_x + intercept\n",
    "\n",
    "cmap_yellow_orange = LinearSegmentedColormap.from_list(\n",
    "    \"yellow_orange\", [\"lightblue\", \"darkred\"]\n",
    ")\n",
    "# 2️⃣ Mapa de calor (hexbin) para ver densidad de puntos\n",
    "plt.figure(figsize=(6,6))\n",
    "hb = plt.hexbin(\n",
    "    rf1_pred[\"Y_test\"],\n",
    "    rf1_pred[\"Y_pred\"],\n",
    "    gridsize=40,\n",
    "    cmap=cmap_yellow_orange,\n",
    "    mincnt=1\n",
    ")\n",
    "plt.colorbar(hb, label=\"Conteo de puntos\")\n",
    "\n",
    "# Línea identidad y = x\n",
    "plt.plot([min_val, max_val], [min_val, max_val], \"r--\", label=\"Identidad y = x\")\n",
    "\n",
    "# Línea de regresión\n",
    "plt.plot(reg_x, reg_y, color=\"green\", linewidth=2, label=f\"Regresión\")\n",
    "\n",
    "plt.xlabel(\"Observados (Y_test)\")\n",
    "plt.ylabel(\"Predichos (Y_pred)\")\n",
    "plt.title(f\"Densidad de Observados vs Predichos: {name_modelo}\")\n",
    "plt.axis(\"equal\")\n",
    "plt.legend()\n",
    "plt.tight_layout()\n",
    "plt.show()\n",
    "# Mostrar las primeras filas del DataFrame\n",
    "print(rf1_pred.head())"
   ]
  },
  {
   "cell_type": "code",
   "execution_count": 13,
   "id": "03d1bf14",
   "metadata": {},
   "outputs": [
    {
     "data": {
      "text/plain": [
       "0.02941176470588235"
      ]
     },
     "execution_count": 13,
     "metadata": {},
     "output_type": "execute_result"
    }
   ],
   "source": [
    "importance_df = pd.DataFrame({'Variable': variables_predictoras, 'Importancia': final_model_rf_1.feature_importances_})\n",
    "\n",
    "importance_rf1= importance_df.sort_values(by='Importancia', ascending=False)\n",
    "importance_rf1[\"Importancia\"].mean()"
   ]
  },
  {
   "cell_type": "code",
   "execution_count": 14,
   "id": "aaf353dc",
   "metadata": {},
   "outputs": [
    {
     "data": {
      "text/html": [
       "<div>\n",
       "<style scoped>\n",
       "    .dataframe tbody tr th:only-of-type {\n",
       "        vertical-align: middle;\n",
       "    }\n",
       "\n",
       "    .dataframe tbody tr th {\n",
       "        vertical-align: top;\n",
       "    }\n",
       "\n",
       "    .dataframe thead th {\n",
       "        text-align: right;\n",
       "    }\n",
       "</style>\n",
       "<table border=\"1\" class=\"dataframe\">\n",
       "  <thead>\n",
       "    <tr style=\"text-align: right;\">\n",
       "      <th></th>\n",
       "      <th>Variable</th>\n",
       "      <th>Importancia</th>\n",
       "    </tr>\n",
       "  </thead>\n",
       "  <tbody>\n",
       "    <tr>\n",
       "      <th>11</th>\n",
       "      <td>B12</td>\n",
       "      <td>0.236071</td>\n",
       "    </tr>\n",
       "    <tr>\n",
       "      <th>25</th>\n",
       "      <td>lat</td>\n",
       "      <td>0.074075</td>\n",
       "    </tr>\n",
       "    <tr>\n",
       "      <th>17</th>\n",
       "      <td>GCI</td>\n",
       "      <td>0.067823</td>\n",
       "    </tr>\n",
       "    <tr>\n",
       "      <th>5</th>\n",
       "      <td>B11</td>\n",
       "      <td>0.065753</td>\n",
       "    </tr>\n",
       "    <tr>\n",
       "      <th>24</th>\n",
       "      <td>lon</td>\n",
       "      <td>0.064194</td>\n",
       "    </tr>\n",
       "    <tr>\n",
       "      <th>14</th>\n",
       "      <td>B4</td>\n",
       "      <td>0.033340</td>\n",
       "    </tr>\n",
       "    <tr>\n",
       "      <th>23</th>\n",
       "      <td>elevation</td>\n",
       "      <td>0.028923</td>\n",
       "    </tr>\n",
       "    <tr>\n",
       "      <th>22</th>\n",
       "      <td>Slope</td>\n",
       "      <td>0.028365</td>\n",
       "    </tr>\n",
       "    <tr>\n",
       "      <th>20</th>\n",
       "      <td>NDVI</td>\n",
       "      <td>0.022097</td>\n",
       "    </tr>\n",
       "    <tr>\n",
       "      <th>13</th>\n",
       "      <td>B3</td>\n",
       "      <td>0.021650</td>\n",
       "    </tr>\n",
       "    <tr>\n",
       "      <th>30</th>\n",
       "      <td>HV_corr</td>\n",
       "      <td>0.020031</td>\n",
       "    </tr>\n",
       "    <tr>\n",
       "      <th>27</th>\n",
       "      <td>HH</td>\n",
       "      <td>0.019447</td>\n",
       "    </tr>\n",
       "    <tr>\n",
       "      <th>28</th>\n",
       "      <td>HV</td>\n",
       "      <td>0.017825</td>\n",
       "    </tr>\n",
       "    <tr>\n",
       "      <th>7</th>\n",
       "      <td>B11_corr</td>\n",
       "      <td>0.017585</td>\n",
       "    </tr>\n",
       "    <tr>\n",
       "      <th>9</th>\n",
       "      <td>B11_ent</td>\n",
       "      <td>0.017575</td>\n",
       "    </tr>\n",
       "    <tr>\n",
       "      <th>12</th>\n",
       "      <td>B2</td>\n",
       "      <td>0.017043</td>\n",
       "    </tr>\n",
       "    <tr>\n",
       "      <th>33</th>\n",
       "      <td>HV_var</td>\n",
       "      <td>0.016697</td>\n",
       "    </tr>\n",
       "    <tr>\n",
       "      <th>8</th>\n",
       "      <td>B11_diss</td>\n",
       "      <td>0.016153</td>\n",
       "    </tr>\n",
       "    <tr>\n",
       "      <th>3</th>\n",
       "      <td>VH</td>\n",
       "      <td>0.016119</td>\n",
       "    </tr>\n",
       "    <tr>\n",
       "      <th>10</th>\n",
       "      <td>B11_var</td>\n",
       "      <td>0.015877</td>\n",
       "    </tr>\n",
       "    <tr>\n",
       "      <th>2</th>\n",
       "      <td>DpRVIVV</td>\n",
       "      <td>0.015580</td>\n",
       "    </tr>\n",
       "    <tr>\n",
       "      <th>19</th>\n",
       "      <td>NDMI</td>\n",
       "      <td>0.015494</td>\n",
       "    </tr>\n",
       "    <tr>\n",
       "      <th>29</th>\n",
       "      <td>HV_contrast</td>\n",
       "      <td>0.015493</td>\n",
       "    </tr>\n",
       "    <tr>\n",
       "      <th>31</th>\n",
       "      <td>HV_diss</td>\n",
       "      <td>0.015154</td>\n",
       "    </tr>\n",
       "    <tr>\n",
       "      <th>21</th>\n",
       "      <td>SAVI</td>\n",
       "      <td>0.015148</td>\n",
       "    </tr>\n",
       "    <tr>\n",
       "      <th>6</th>\n",
       "      <td>B11_contrast</td>\n",
       "      <td>0.015096</td>\n",
       "    </tr>\n",
       "    <tr>\n",
       "      <th>16</th>\n",
       "      <td>EVI</td>\n",
       "      <td>0.015057</td>\n",
       "    </tr>\n",
       "    <tr>\n",
       "      <th>4</th>\n",
       "      <td>VV</td>\n",
       "      <td>0.013697</td>\n",
       "    </tr>\n",
       "    <tr>\n",
       "      <th>1</th>\n",
       "      <td>DPDD</td>\n",
       "      <td>0.013697</td>\n",
       "    </tr>\n",
       "    <tr>\n",
       "      <th>26</th>\n",
       "      <td>DpRVIHH</td>\n",
       "      <td>0.010749</td>\n",
       "    </tr>\n",
       "    <tr>\n",
       "      <th>18</th>\n",
       "      <td>MSAVI</td>\n",
       "      <td>0.010638</td>\n",
       "    </tr>\n",
       "    <tr>\n",
       "      <th>15</th>\n",
       "      <td>B8</td>\n",
       "      <td>0.010478</td>\n",
       "    </tr>\n",
       "    <tr>\n",
       "      <th>0</th>\n",
       "      <td>RFDI</td>\n",
       "      <td>0.010073</td>\n",
       "    </tr>\n",
       "    <tr>\n",
       "      <th>32</th>\n",
       "      <td>HV_ent</td>\n",
       "      <td>0.007000</td>\n",
       "    </tr>\n",
       "  </tbody>\n",
       "</table>\n",
       "</div>"
      ],
      "text/plain": [
       "        Variable  Importancia\n",
       "11           B12     0.236071\n",
       "25           lat     0.074075\n",
       "17           GCI     0.067823\n",
       "5            B11     0.065753\n",
       "24           lon     0.064194\n",
       "14            B4     0.033340\n",
       "23     elevation     0.028923\n",
       "22         Slope     0.028365\n",
       "20          NDVI     0.022097\n",
       "13            B3     0.021650\n",
       "30       HV_corr     0.020031\n",
       "27            HH     0.019447\n",
       "28            HV     0.017825\n",
       "7       B11_corr     0.017585\n",
       "9        B11_ent     0.017575\n",
       "12            B2     0.017043\n",
       "33        HV_var     0.016697\n",
       "8       B11_diss     0.016153\n",
       "3             VH     0.016119\n",
       "10       B11_var     0.015877\n",
       "2        DpRVIVV     0.015580\n",
       "19          NDMI     0.015494\n",
       "29   HV_contrast     0.015493\n",
       "31       HV_diss     0.015154\n",
       "21          SAVI     0.015148\n",
       "6   B11_contrast     0.015096\n",
       "16           EVI     0.015057\n",
       "4             VV     0.013697\n",
       "1           DPDD     0.013697\n",
       "26       DpRVIHH     0.010749\n",
       "18         MSAVI     0.010638\n",
       "15            B8     0.010478\n",
       "0           RFDI     0.010073\n",
       "32        HV_ent     0.007000"
      ]
     },
     "execution_count": 14,
     "metadata": {},
     "output_type": "execute_result"
    }
   ],
   "source": [
    "importance_rf1"
   ]
  },
  {
   "cell_type": "code",
   "execution_count": 15,
   "id": "e19bff59",
   "metadata": {},
   "outputs": [
    {
     "data": {
      "image/png": "[encoded data removed]",
      "text/plain": [
       "<Figure size 1000x600 with 1 Axes>"
      ]
     },
     "metadata": {},
     "output_type": "display_data"
    }
   ],
   "source": [
    "\n",
    "plt.figure(figsize=(10, 6))\n",
    "plt.barh(importance_rf1['Variable'], importance_rf1['Importancia'], color='skyblue')\n",
    "plt.xlabel('Importancia')\n",
    "plt.title('Importancia de las Variables (Feature Importance)')\n",
    "plt.gca().invert_yaxis()  # Para mostrar las variables más importantes en la parte superior\n",
    "plt.show()"
   ]
  },
  {
   "cell_type": "markdown",
   "id": "02d0b1b5",
   "metadata": {},
   "source": [
    "## Random Forest - Selección de variables"
   ]
  },
  {
   "cell_type": "code",
   "execution_count": 14,
   "id": "a391620b",
   "metadata": {},
   "outputs": [],
   "source": [
    "mlflow.sklearn.autolog(disable=True)"
   ]
  },
  {
   "cell_type": "markdown",
   "id": "5530a130",
   "metadata": {},
   "source": [
    "### Selección de variables"
   ]
  },
  {
   "cell_type": "code",
   "execution_count": 15,
   "id": "3825608f",
   "metadata": {},
   "outputs": [],
   "source": [
    "variables_predictoras =[\"B12\", \"lat\", \"B11\", \"lon\", \"GCI\", \"B4\", \"elevation\"] \n",
    "\n",
    "variable_objetivo =  'N_efectivo_estratos' # variable objetivo\n",
    "\n",
    "# Se transforma a un array numpy\n",
    "X = np.array(df_gedi[variables_predictoras] )\n",
    "Y = np.array(df_gedi[variable_objetivo] )\n",
    "# 2️⃣ Divide los datos en entrenamiento (80%) y prueba (20%)\n",
    "X_train, X_test, Y_train, Y_test = train_test_split(X, Y, test_size=0.20, random_state=593)"
   ]
  },
  {
   "cell_type": "markdown",
   "id": "77a01950",
   "metadata": {},
   "source": [
    "### Creación de ambiente en optuna"
   ]
  },
  {
   "cell_type": "code",
   "execution_count": 16,
   "id": "d5cc8047",
   "metadata": {},
   "outputs": [
    {
     "name": "stderr",
     "output_type": "stream",
     "text": [
      "[I 2025-05-22 19:55:48,461] A new study created in memory with name: no-name-afdb37aa-7325-49f3-94ae-4b1c49a9073d\n"
     ]
    }
   ],
   "source": [
    "# Crear la \"study\" para realizar la optimización bayesiana\n",
    "from optuna.samplers import TPESampler\n",
    "sampler = TPESampler(seed=593)\n",
    "\n",
    "study_rf2 = optuna.create_study(direction='minimize', sampler = sampler)  # Queremos minimizar el MAPE"
   ]
  },
  {
   "cell_type": "markdown",
   "id": "0eef9b90",
   "metadata": {},
   "source": [
    "#### Inicio de busqueda de parámetros"
   ]
  },
  {
   "cell_type": "markdown",
   "id": "640a8527",
   "metadata": {},
   "source": [
    "Se establecen los hiperparámetros y un total de 200 iteraciones hasta seleccionar la mejor combinación. En este caso se usará la función de Coste MAPE que es el error porcentual promedio, y se debe buscar minimizarlo. En este caso se trabajará con Random Forest, con un total de 5 hiper parámetros."
   ]
  },
  {
   "cell_type": "code",
   "execution_count": 17,
   "id": "29e67e14",
   "metadata": {},
   "outputs": [
    {
     "name": "stderr",
     "output_type": "stream",
     "text": [
      "[I 2025-05-22 19:56:13,391] Trial 0 finished with value: 10.793475898209199 and parameters: {'n_estimators': 264, 'max_depth': 151, 'min_samples_split': 15, 'min_samples_leaf': 12, 'max_features': 4}. Best is trial 0 with value: 10.793475898209199.\n",
      "[I 2025-05-22 19:56:17,791] Trial 9 finished with value: 10.997319858787657 and parameters: {'n_estimators': 350, 'max_depth': 99, 'min_samples_split': 4, 'min_samples_leaf': 12, 'max_features': 1}. Best is trial 0 with value: 10.793475898209199.\n",
      "[I 2025-05-22 19:56:19,528] Trial 3 finished with value: 10.83616584643302 and parameters: {'n_estimators': 370, 'max_depth': 58, 'min_samples_split': 11, 'min_samples_leaf': 13, 'max_features': 3}. Best is trial 0 with value: 10.793475898209199.\n",
      "[I 2025-05-22 19:56:20,976] Trial 6 finished with value: 10.779945145239006 and parameters: {'n_estimators': 410, 'max_depth': 169, 'min_samples_split': 13, 'min_samples_leaf': 13, 'max_features': 6}. Best is trial 6 with value: 10.779945145239006.\n",
      "[I 2025-05-22 19:56:25,240] Trial 5 finished with value: 10.693110405727332 and parameters: {'n_estimators': 501, 'max_depth': 192, 'min_samples_split': 5, 'min_samples_leaf': 2, 'max_features': 1}. Best is trial 5 with value: 10.693110405727332.\n",
      "[I 2025-05-22 19:56:26,673] Trial 4 finished with value: 10.883229514643919 and parameters: {'n_estimators': 492, 'max_depth': 78, 'min_samples_split': 15, 'min_samples_leaf': 14, 'max_features': 2}. Best is trial 5 with value: 10.693110405727332.\n",
      "[I 2025-05-22 19:56:29,067] Trial 8 finished with value: 10.760175971755459 and parameters: {'n_estimators': 538, 'max_depth': 197, 'min_samples_split': 15, 'min_samples_leaf': 11, 'max_features': 6}. Best is trial 5 with value: 10.693110405727332.\n",
      "[I 2025-05-22 19:56:31,699] Trial 1 finished with value: 10.651141819243694 and parameters: {'n_estimators': 599, 'max_depth': 70, 'min_samples_split': 3, 'min_samples_leaf': 2, 'max_features': 4}. Best is trial 1 with value: 10.651141819243694.\n",
      "[I 2025-05-22 19:56:31,804] Trial 13 finished with value: 10.86326390635804 and parameters: {'n_estimators': 136, 'max_depth': 128, 'min_samples_split': 4, 'min_samples_leaf': 15, 'max_features': 3}. Best is trial 1 with value: 10.651141819243694.\n",
      "[I 2025-05-22 19:56:34,987] Trial 2 finished with value: 10.799362270201339 and parameters: {'n_estimators': 717, 'max_depth': 157, 'min_samples_split': 4, 'min_samples_leaf': 10, 'max_features': 3}. Best is trial 1 with value: 10.651141819243694.\n",
      "[I 2025-05-22 19:56:36,117] Trial 7 finished with value: 10.817963079174776 and parameters: {'n_estimators': 726, 'max_depth': 118, 'min_samples_split': 8, 'min_samples_leaf': 11, 'max_features': 3}. Best is trial 1 with value: 10.651141819243694.\n",
      "[I 2025-05-22 19:56:38,167] Trial 14 finished with value: 10.987533453940022 and parameters: {'n_estimators': 154, 'max_depth': 75, 'min_samples_split': 3, 'min_samples_leaf': 11, 'max_features': 1}. Best is trial 1 with value: 10.651141819243694.\n",
      "[I 2025-05-22 19:56:42,204] Trial 15 finished with value: 10.906297649444502 and parameters: {'n_estimators': 181, 'max_depth': 183, 'min_samples_split': 15, 'min_samples_leaf': 7, 'max_features': 1}. Best is trial 1 with value: 10.651141819243694.\n",
      "[I 2025-05-22 19:56:48,185] Trial 10 finished with value: 10.733267382620582 and parameters: {'n_estimators': 539, 'max_depth': 160, 'min_samples_split': 9, 'min_samples_leaf': 7, 'max_features': 6}. Best is trial 1 with value: 10.651141819243694.\n",
      "[I 2025-05-22 19:56:50,126] Trial 16 finished with value: 10.852401359467041 and parameters: {'n_estimators': 286, 'max_depth': 177, 'min_samples_split': 4, 'min_samples_leaf': 15, 'max_features': 3}. Best is trial 1 with value: 10.651141819243694.\n",
      "[I 2025-05-22 19:56:51,508] Trial 11 finished with value: 10.774373358552719 and parameters: {'n_estimators': 514, 'max_depth': 137, 'min_samples_split': 2, 'min_samples_leaf': 14, 'max_features': 6}. Best is trial 1 with value: 10.651141819243694.\n",
      "[I 2025-05-22 19:56:54,968] Trial 12 finished with value: 10.996187443029298 and parameters: {'n_estimators': 570, 'max_depth': 179, 'min_samples_split': 7, 'min_samples_leaf': 12, 'max_features': 1}. Best is trial 1 with value: 10.651141819243694.\n",
      "[I 2025-05-22 19:56:55,867] Trial 18 finished with value: 10.817781702719035 and parameters: {'n_estimators': 386, 'max_depth': 180, 'min_samples_split': 12, 'min_samples_leaf': 13, 'max_features': 4}. Best is trial 1 with value: 10.651141819243694.\n",
      "[I 2025-05-22 19:56:56,586] Trial 17 finished with value: 10.768509185610908 and parameters: {'n_estimators': 320, 'max_depth': 183, 'min_samples_split': 12, 'min_samples_leaf': 8, 'max_features': 3}. Best is trial 1 with value: 10.651141819243694.\n",
      "[I 2025-05-22 19:57:24,652] Trial 20 finished with value: 10.681304822161746 and parameters: {'n_estimators': 618, 'max_depth': 51, 'min_samples_split': 2, 'min_samples_leaf': 3, 'max_features': 5}. Best is trial 1 with value: 10.651141819243694.\n",
      "[I 2025-05-22 19:57:29,002] Trial 21 finished with value: 10.666884989457749 and parameters: {'n_estimators': 623, 'max_depth': 195, 'min_samples_split': 7, 'min_samples_leaf': 2, 'max_features': 5}. Best is trial 1 with value: 10.651141819243694.\n",
      "[I 2025-05-22 19:57:31,482] Trial 22 finished with value: 10.668211798116474 and parameters: {'n_estimators': 609, 'max_depth': 133, 'min_samples_split': 7, 'min_samples_leaf': 2, 'max_features': 5}. Best is trial 1 with value: 10.651141819243694.\n",
      "[I 2025-05-22 19:57:32,334] Trial 19 finished with value: 10.67564808580076 and parameters: {'n_estimators': 736, 'max_depth': 54, 'min_samples_split': 8, 'min_samples_leaf': 2, 'max_features': 5}. Best is trial 1 with value: 10.651141819243694.\n",
      "[I 2025-05-22 19:57:40,607] Trial 23 finished with value: 10.675386431455433 and parameters: {'n_estimators': 633, 'max_depth': 118, 'min_samples_split': 6, 'min_samples_leaf': 2, 'max_features': 5}. Best is trial 1 with value: 10.651141819243694.\n",
      "[I 2025-05-22 19:57:43,350] Trial 24 finished with value: 10.666489955131444 and parameters: {'n_estimators': 642, 'max_depth': 125, 'min_samples_split': 7, 'min_samples_leaf': 2, 'max_features': 5}. Best is trial 1 with value: 10.651141819243694.\n",
      "[I 2025-05-22 19:57:45,653] Trial 25 finished with value: 10.666988484045806 and parameters: {'n_estimators': 627, 'max_depth': 102, 'min_samples_split': 7, 'min_samples_leaf': 2, 'max_features': 5}. Best is trial 1 with value: 10.651141819243694.\n",
      "[I 2025-05-22 19:57:47,211] Trial 26 finished with value: 10.675505244864663 and parameters: {'n_estimators': 639, 'max_depth': 104, 'min_samples_split': 6, 'min_samples_leaf': 2, 'max_features': 5}. Best is trial 1 with value: 10.651141819243694.\n",
      "[I 2025-05-22 19:57:48,806] Trial 27 finished with value: 10.675893827976543 and parameters: {'n_estimators': 638, 'max_depth': 103, 'min_samples_split': 6, 'min_samples_leaf': 2, 'max_features': 5}. Best is trial 1 with value: 10.651141819243694.\n",
      "[I 2025-05-22 19:57:48,948] Trial 28 finished with value: 10.675370975894328 and parameters: {'n_estimators': 634, 'max_depth': 103, 'min_samples_split': 6, 'min_samples_leaf': 2, 'max_features': 5}. Best is trial 1 with value: 10.651141819243694.\n",
      "[I 2025-05-22 19:58:18,615] Trial 29 finished with value: 10.642342684476343 and parameters: {'n_estimators': 634, 'max_depth': 57, 'min_samples_split': 2, 'min_samples_leaf': 2, 'max_features': 5}. Best is trial 29 with value: 10.642342684476343.\n",
      "[I 2025-05-22 19:58:20,175] Trial 30 finished with value: 10.672739286587449 and parameters: {'n_estimators': 649, 'max_depth': 56, 'min_samples_split': 6, 'min_samples_leaf': 2, 'max_features': 5}. Best is trial 29 with value: 10.642342684476343.\n",
      "[I 2025-05-22 19:58:20,488] Trial 31 finished with value: 10.694860527252882 and parameters: {'n_estimators': 645, 'max_depth': 107, 'min_samples_split': 6, 'min_samples_leaf': 4, 'max_features': 5}. Best is trial 29 with value: 10.642342684476343.\n",
      "[I 2025-05-22 19:58:25,524] Trial 32 finished with value: 10.692836672544901 and parameters: {'n_estimators': 630, 'max_depth': 107, 'min_samples_split': 6, 'min_samples_leaf': 4, 'max_features': 5}. Best is trial 29 with value: 10.642342684476343.\n",
      "[I 2025-05-22 19:58:38,943] Trial 34 finished with value: 10.705648339240652 and parameters: {'n_estimators': 664, 'max_depth': 98, 'min_samples_split': 10, 'min_samples_leaf': 4, 'max_features': 4}. Best is trial 29 with value: 10.642342684476343.\n",
      "[I 2025-05-22 19:58:43,334] Trial 33 finished with value: 10.709332111714641 and parameters: {'n_estimators': 800, 'max_depth': 99, 'min_samples_split': 10, 'min_samples_leaf': 4, 'max_features': 4}. Best is trial 29 with value: 10.642342684476343.\n",
      "[I 2025-05-22 19:58:47,549] Trial 38 finished with value: 10.70801829781003 and parameters: {'n_estimators': 690, 'max_depth': 146, 'min_samples_split': 10, 'min_samples_leaf': 4, 'max_features': 4}. Best is trial 29 with value: 10.642342684476343.\n",
      "[I 2025-05-22 19:58:48,580] Trial 36 finished with value: 10.709688103580984 and parameters: {'n_estimators': 790, 'max_depth': 76, 'min_samples_split': 10, 'min_samples_leaf': 4, 'max_features': 4}. Best is trial 29 with value: 10.642342684476343.\n",
      "[I 2025-05-22 19:58:49,374] Trial 35 finished with value: 10.709991873280353 and parameters: {'n_estimators': 791, 'max_depth': 97, 'min_samples_split': 10, 'min_samples_leaf': 4, 'max_features': 4}. Best is trial 29 with value: 10.642342684476343.\n",
      "[I 2025-05-22 19:58:53,116] Trial 37 finished with value: 10.710015556718712 and parameters: {'n_estimators': 783, 'max_depth': 147, 'min_samples_split': 10, 'min_samples_leaf': 4, 'max_features': 4}. Best is trial 29 with value: 10.642342684476343.\n",
      "[I 2025-05-22 19:59:15,133] Trial 39 finished with value: 10.701901966537102 and parameters: {'n_estimators': 696, 'max_depth': 75, 'min_samples_split': 2, 'min_samples_leaf': 4, 'max_features': 4}. Best is trial 29 with value: 10.642342684476343.\n",
      "[I 2025-05-22 19:59:17,813] Trial 40 finished with value: 10.69684135165718 and parameters: {'n_estimators': 691, 'max_depth': 73, 'min_samples_split': 9, 'min_samples_leaf': 4, 'max_features': 4}. Best is trial 29 with value: 10.642342684476343.\n",
      "[I 2025-05-22 19:59:23,820] Trial 42 finished with value: 10.722806354815068 and parameters: {'n_estimators': 685, 'max_depth': 72, 'min_samples_split': 9, 'min_samples_leaf': 5, 'max_features': 4}. Best is trial 29 with value: 10.642342684476343.\n",
      "[I 2025-05-22 19:59:24,768] Trial 45 finished with value: 10.730982069954845 and parameters: {'n_estimators': 444, 'max_depth': 69, 'min_samples_split': 3, 'min_samples_leaf': 5, 'max_features': 4}. Best is trial 29 with value: 10.642342684476343.\n",
      "[I 2025-05-22 19:59:27,634] Trial 41 finished with value: 10.722139202173667 and parameters: {'n_estimators': 800, 'max_depth': 74, 'min_samples_split': 10, 'min_samples_leaf': 5, 'max_features': 4}. Best is trial 29 with value: 10.642342684476343.\n",
      "[I 2025-05-22 19:59:32,553] Trial 46 finished with value: 10.716262632536038 and parameters: {'n_estimators': 465, 'max_depth': 67, 'min_samples_split': 3, 'min_samples_leaf': 6, 'max_features': 6}. Best is trial 29 with value: 10.642342684476343.\n",
      "[I 2025-05-22 19:59:34,421] Trial 48 finished with value: 10.7159798328744 and parameters: {'n_estimators': 472, 'max_depth': 66, 'min_samples_split': 2, 'min_samples_leaf': 6, 'max_features': 6}. Best is trial 29 with value: 10.642342684476343.\n",
      "[I 2025-05-22 19:59:41,637] Trial 44 finished with value: 10.723313365450407 and parameters: {'n_estimators': 701, 'max_depth': 74, 'min_samples_split': 3, 'min_samples_leaf': 5, 'max_features': 4}. Best is trial 29 with value: 10.642342684476343.\n",
      "[I 2025-05-22 19:59:45,067] Trial 43 finished with value: 10.722112891520618 and parameters: {'n_estimators': 791, 'max_depth': 80, 'min_samples_split': 3, 'min_samples_leaf': 5, 'max_features': 4}. Best is trial 29 with value: 10.642342684476343.\n",
      "[I 2025-05-22 19:59:46,991] Trial 47 finished with value: 10.714682793129336 and parameters: {'n_estimators': 696, 'max_depth': 68, 'min_samples_split': 3, 'min_samples_leaf': 6, 'max_features': 6}. Best is trial 29 with value: 10.642342684476343.\n",
      "[I 2025-05-22 20:00:06,424] Trial 49 finished with value: 10.718279500988865 and parameters: {'n_estimators': 577, 'max_depth': 65, 'min_samples_split': 3, 'min_samples_leaf': 6, 'max_features': 6}. Best is trial 29 with value: 10.642342684476343.\n",
      "[I 2025-05-22 20:00:08,162] Trial 50 finished with value: 10.67615789313747 and parameters: {'n_estimators': 578, 'max_depth': 65, 'min_samples_split': 3, 'min_samples_leaf': 3, 'max_features': 6}. Best is trial 29 with value: 10.642342684476343.\n",
      "[I 2025-05-22 20:00:12,908] Trial 51 finished with value: 10.677124431540873 and parameters: {'n_estimators': 582, 'max_depth': 64, 'min_samples_split': 3, 'min_samples_leaf': 3, 'max_features': 6}. Best is trial 29 with value: 10.642342684476343.\n",
      "[I 2025-05-22 20:00:14,076] Trial 52 finished with value: 10.675654863148496 and parameters: {'n_estimators': 580, 'max_depth': 89, 'min_samples_split': 5, 'min_samples_leaf': 3, 'max_features': 6}. Best is trial 29 with value: 10.642342684476343.\n",
      "[I 2025-05-22 20:00:16,833] Trial 53 finished with value: 10.675654863148496 and parameters: {'n_estimators': 580, 'max_depth': 62, 'min_samples_split': 5, 'min_samples_leaf': 3, 'max_features': 6}. Best is trial 29 with value: 10.642342684476343.\n",
      "[I 2025-05-22 20:00:21,152] Trial 54 finished with value: 10.67629890657942 and parameters: {'n_estimators': 573, 'max_depth': 88, 'min_samples_split': 5, 'min_samples_leaf': 3, 'max_features': 6}. Best is trial 29 with value: 10.642342684476343.\n",
      "[I 2025-05-22 20:00:23,452] Trial 55 finished with value: 10.677362977471656 and parameters: {'n_estimators': 584, 'max_depth': 119, 'min_samples_split': 5, 'min_samples_leaf': 3, 'max_features': 6}. Best is trial 29 with value: 10.642342684476343.\n",
      "[I 2025-05-22 20:00:30,003] Trial 57 finished with value: 10.676096552821917 and parameters: {'n_estimators': 575, 'max_depth': 91, 'min_samples_split': 5, 'min_samples_leaf': 3, 'max_features': 6}. Best is trial 29 with value: 10.642342684476343.\n",
      "[I 2025-05-22 20:00:30,127] Trial 56 finished with value: 10.675817642143041 and parameters: {'n_estimators': 577, 'max_depth': 87, 'min_samples_split': 5, 'min_samples_leaf': 3, 'max_features': 6}. Best is trial 29 with value: 10.642342684476343.\n",
      "[I 2025-05-22 20:00:33,136] Trial 58 finished with value: 10.685845528561273 and parameters: {'n_estimators': 570, 'max_depth': 91, 'min_samples_split': 5, 'min_samples_leaf': 3, 'max_features': 2}. Best is trial 29 with value: 10.642342684476343.\n",
      "[I 2025-05-22 20:00:51,481] Trial 59 finished with value: 10.685325228269125 and parameters: {'n_estimators': 582, 'max_depth': 92, 'min_samples_split': 5, 'min_samples_leaf': 3, 'max_features': 2}. Best is trial 29 with value: 10.642342684476343.\n",
      "[I 2025-05-22 20:00:52,307] Trial 60 finished with value: 10.679874631526264 and parameters: {'n_estimators': 535, 'max_depth': 87, 'min_samples_split': 7, 'min_samples_leaf': 3, 'max_features': 5}. Best is trial 29 with value: 10.642342684476343.\n",
      "[I 2025-05-22 20:00:56,051] Trial 61 finished with value: 10.680661804415397 and parameters: {'n_estimators': 538, 'max_depth': 86, 'min_samples_split': 7, 'min_samples_leaf': 3, 'max_features': 5}. Best is trial 29 with value: 10.642342684476343.\n",
      "[I 2025-05-22 20:01:02,458] Trial 63 finished with value: 10.680661804415395 and parameters: {'n_estimators': 538, 'max_depth': 131, 'min_samples_split': 7, 'min_samples_leaf': 3, 'max_features': 5}. Best is trial 29 with value: 10.642342684476343.\n",
      "[I 2025-05-22 20:01:03,217] Trial 64 finished with value: 10.770937434375089 and parameters: {'n_estimators': 534, 'max_depth': 131, 'min_samples_split': 7, 'min_samples_leaf': 9, 'max_features': 5}. Best is trial 29 with value: 10.642342684476343.\n",
      "[I 2025-05-22 20:01:07,214] Trial 65 finished with value: 10.665172795839997 and parameters: {'n_estimators': 532, 'max_depth': 137, 'min_samples_split': 7, 'min_samples_leaf': 2, 'max_features': 5}. Best is trial 29 with value: 10.642342684476343.\n",
      "[I 2025-05-22 20:01:12,218] Trial 66 finished with value: 10.770612887397732 and parameters: {'n_estimators': 529, 'max_depth': 134, 'min_samples_split': 7, 'min_samples_leaf': 9, 'max_features': 5}. Best is trial 29 with value: 10.642342684476343.\n",
      "[I 2025-05-22 20:01:12,522] Trial 62 finished with value: 10.684645745652727 and parameters: {'n_estimators': 738, 'max_depth': 134, 'min_samples_split': 7, 'min_samples_leaf': 3, 'max_features': 5}. Best is trial 29 with value: 10.642342684476343.\n",
      "[I 2025-05-22 20:01:13,279] Trial 67 finished with value: 10.770249638065355 and parameters: {'n_estimators': 522, 'max_depth': 163, 'min_samples_split': 7, 'min_samples_leaf': 9, 'max_features': 5}. Best is trial 29 with value: 10.642342684476343.\n",
      "[I 2025-05-22 20:01:18,429] Trial 68 finished with value: 10.667405864163594 and parameters: {'n_estimators': 542, 'max_depth': 134, 'min_samples_split': 7, 'min_samples_leaf': 2, 'max_features': 5}. Best is trial 29 with value: 10.642342684476343.\n",
      "[I 2025-05-22 20:01:38,427] Trial 69 finished with value: 10.664137947567557 and parameters: {'n_estimators': 526, 'max_depth': 131, 'min_samples_split': 7, 'min_samples_leaf': 2, 'max_features': 5}. Best is trial 29 with value: 10.642342684476343.\n",
      "[I 2025-05-22 20:01:48,952] Trial 71 finished with value: 10.679228384753454 and parameters: {'n_estimators': 611, 'max_depth': 163, 'min_samples_split': 8, 'min_samples_leaf': 2, 'max_features': 5}. Best is trial 29 with value: 10.642342684476343.\n",
      "[I 2025-05-22 20:01:49,918] Trial 74 finished with value: 10.6724976173654 and parameters: {'n_estimators': 509, 'max_depth': 161, 'min_samples_split': 8, 'min_samples_leaf': 2, 'max_features': 5}. Best is trial 29 with value: 10.642342684476343.\n",
      "[I 2025-05-22 20:01:51,286] Trial 70 finished with value: 10.668978147238281 and parameters: {'n_estimators': 753, 'max_depth': 132, 'min_samples_split': 7, 'min_samples_leaf': 2, 'max_features': 5}. Best is trial 29 with value: 10.642342684476343.\n",
      "[I 2025-05-22 20:01:53,867] Trial 72 finished with value: 10.679563802290502 and parameters: {'n_estimators': 610, 'max_depth': 56, 'min_samples_split': 8, 'min_samples_leaf': 2, 'max_features': 5}. Best is trial 29 with value: 10.642342684476343.\n",
      "[I 2025-05-22 20:02:01,335] Trial 75 finished with value: 10.67967615929187 and parameters: {'n_estimators': 612, 'max_depth': 157, 'min_samples_split': 8, 'min_samples_leaf': 2, 'max_features': 5}. Best is trial 29 with value: 10.642342684476343.\n",
      "[I 2025-05-22 20:02:01,842] Trial 76 finished with value: 10.679228384753454 and parameters: {'n_estimators': 611, 'max_depth': 160, 'min_samples_split': 8, 'min_samples_leaf': 2, 'max_features': 5}. Best is trial 29 with value: 10.642342684476343.\n",
      "[I 2025-05-22 20:02:04,898] Trial 73 finished with value: 10.673548909889211 and parameters: {'n_estimators': 760, 'max_depth': 164, 'min_samples_split': 8, 'min_samples_leaf': 2, 'max_features': 5}. Best is trial 29 with value: 10.642342684476343.\n",
      "[I 2025-05-22 20:02:04,980] Trial 77 finished with value: 10.679228384753452 and parameters: {'n_estimators': 611, 'max_depth': 200, 'min_samples_split': 8, 'min_samples_leaf': 2, 'max_features': 5}. Best is trial 29 with value: 10.642342684476343.\n",
      "[I 2025-05-22 20:02:08,789] Trial 78 finished with value: 10.70517682307155 and parameters: {'n_estimators': 615, 'max_depth': 198, 'min_samples_split': 14, 'min_samples_leaf': 2, 'max_features': 5}. Best is trial 29 with value: 10.642342684476343.\n",
      "[I 2025-05-22 20:02:30,356] Trial 80 finished with value: 10.673400299938248 and parameters: {'n_estimators': 494, 'max_depth': 113, 'min_samples_split': 8, 'min_samples_leaf': 2, 'max_features': 5}. Best is trial 29 with value: 10.642342684476343.\n",
      "[I 2025-05-22 20:02:30,863] Trial 79 finished with value: 10.67967615929187 and parameters: {'n_estimators': 612, 'max_depth': 200, 'min_samples_split': 8, 'min_samples_leaf': 2, 'max_features': 5}. Best is trial 29 with value: 10.642342684476343.\n",
      "[I 2025-05-22 20:02:32,072] Trial 81 finished with value: 10.674213225631927 and parameters: {'n_estimators': 487, 'max_depth': 141, 'min_samples_split': 8, 'min_samples_leaf': 2, 'max_features': 5}. Best is trial 29 with value: 10.642342684476343.\n",
      "[I 2025-05-22 20:02:41,304] Trial 85 finished with value: 10.631551427815321 and parameters: {'n_estimators': 487, 'max_depth': 141, 'min_samples_split': 4, 'min_samples_leaf': 2, 'max_features': 3}. Best is trial 85 with value: 10.631551427815321.\n",
      "[I 2025-05-22 20:02:43,099] Trial 82 finished with value: 10.67742389116663 and parameters: {'n_estimators': 667, 'max_depth': 123, 'min_samples_split': 8, 'min_samples_leaf': 2, 'max_features': 5}. Best is trial 85 with value: 10.631551427815321.\n",
      "[I 2025-05-22 20:02:47,754] Trial 83 finished with value: 10.707514045648445 and parameters: {'n_estimators': 666, 'max_depth': 144, 'min_samples_split': 14, 'min_samples_leaf': 2, 'max_features': 5}. Best is trial 85 with value: 10.631551427815321.\n",
      "[I 2025-05-22 20:02:48,695] Trial 88 finished with value: 10.642527105754132 and parameters: {'n_estimators': 491, 'max_depth': 143, 'min_samples_split': 4, 'min_samples_leaf': 2, 'max_features': 5}. Best is trial 85 with value: 10.631551427815321.\n",
      "[I 2025-05-22 20:02:53,853] Trial 84 finished with value: 10.670977832883747 and parameters: {'n_estimators': 667, 'max_depth': 122, 'min_samples_split': 6, 'min_samples_leaf': 2, 'max_features': 5}. Best is trial 85 with value: 10.631551427815321.\n",
      "[I 2025-05-22 20:02:54,503] Trial 86 finished with value: 10.626320185933663 and parameters: {'n_estimators': 666, 'max_depth': 124, 'min_samples_split': 4, 'min_samples_leaf': 2, 'max_features': 3}. Best is trial 86 with value: 10.626320185933663.\n",
      "[I 2025-05-22 20:02:57,390] Trial 87 finished with value: 10.640877299027485 and parameters: {'n_estimators': 664, 'max_depth': 121, 'min_samples_split': 4, 'min_samples_leaf': 2, 'max_features': 5}. Best is trial 86 with value: 10.626320185933663.\n",
      "[I 2025-05-22 20:03:10,002] Trial 89 finished with value: 10.629267546154939 and parameters: {'n_estimators': 552, 'max_depth': 142, 'min_samples_split': 4, 'min_samples_leaf': 2, 'max_features': 3}. Best is trial 86 with value: 10.626320185933663.\n",
      "[I 2025-05-22 20:03:13,463] Trial 92 finished with value: 10.63356633350261 and parameters: {'n_estimators': 427, 'max_depth': 121, 'min_samples_split': 4, 'min_samples_leaf': 2, 'max_features': 3}. Best is trial 86 with value: 10.626320185933663.\n",
      "[I 2025-05-22 20:03:14,988] Trial 93 finished with value: 10.635608522630804 and parameters: {'n_estimators': 434, 'max_depth': 140, 'min_samples_split': 4, 'min_samples_leaf': 2, 'max_features': 3}. Best is trial 86 with value: 10.626320185933663.\n",
      "[I 2025-05-22 20:03:15,054] Trial 90 finished with value: 10.666969862796957 and parameters: {'n_estimators': 661, 'max_depth': 141, 'min_samples_split': 6, 'min_samples_leaf': 2, 'max_features': 3}. Best is trial 86 with value: 10.626320185933663.\n",
      "[I 2025-05-22 20:03:16,414] Trial 91 finished with value: 10.667070554345512 and parameters: {'n_estimators': 659, 'max_depth': 125, 'min_samples_split': 6, 'min_samples_leaf': 2, 'max_features': 3}. Best is trial 86 with value: 10.626320185933663.\n",
      "[I 2025-05-22 20:03:16,809] Trial 94 finished with value: 10.633110191776591 and parameters: {'n_estimators': 425, 'max_depth': 173, 'min_samples_split': 4, 'min_samples_leaf': 2, 'max_features': 3}. Best is trial 86 with value: 10.626320185933663.\n",
      "[I 2025-05-22 20:03:17,110] Trial 96 finished with value: 10.797881370431508 and parameters: {'n_estimators': 383, 'max_depth': 151, 'min_samples_split': 2, 'min_samples_leaf': 10, 'max_features': 3}. Best is trial 86 with value: 10.626320185933663.\n",
      "[I 2025-05-22 20:03:17,153] Trial 95 finished with value: 10.841460083488776 and parameters: {'n_estimators': 450, 'max_depth': 152, 'min_samples_split': 4, 'min_samples_leaf': 14, 'max_features': 3}. Best is trial 86 with value: 10.626320185933663.\n",
      "[I 2025-05-22 20:03:18,628] Trial 97 finished with value: 10.703618106167982 and parameters: {'n_estimators': 446, 'max_depth': 151, 'min_samples_split': 4, 'min_samples_leaf': 4, 'max_features': 3}. Best is trial 86 with value: 10.626320185933663.\n",
      "[I 2025-05-22 20:03:18,666] Trial 98 finished with value: 10.79486953348497 and parameters: {'n_estimators': 430, 'max_depth': 151, 'min_samples_split': 4, 'min_samples_leaf': 10, 'max_features': 3}. Best is trial 86 with value: 10.626320185933663.\n",
      "[I 2025-05-22 20:03:19,728] Trial 99 finished with value: 10.831520828866548 and parameters: {'n_estimators': 447, 'max_depth': 154, 'min_samples_split': 4, 'min_samples_leaf': 13, 'max_features': 3}. Best is trial 86 with value: 10.626320185933663.\n"
     ]
    },
    {
     "name": "stdout",
     "output_type": "stream",
     "text": [
      "Mejor MAPE encontrado:  10.626320185933663\n",
      "Mejores hiperparámetros:  {'n_estimators': 666, 'max_depth': 124, 'min_samples_split': 4, 'min_samples_leaf': 2, 'max_features': 3}\n"
     ]
    }
   ],
   "source": [
    "\n",
    "\n",
    "# Semilla para reproducibilidad\n",
    "np.random.seed(593)\n",
    "\n",
    "# K-Fold para CV\n",
    "kf = KFold(n_splits=5, shuffle=True, random_state=593)\n",
    "\n",
    "# Función objetivo\n",
    "def objective(trial):\n",
    "    # 1️⃣ Sugerencia de hiperparámetros\n",
    "    n_estimators       = trial.suggest_int(\"n_estimators\",       100, 800)\n",
    "    max_depth          = trial.suggest_int(\"max_depth\",          50,   200)\n",
    "    min_samples_split  = trial.suggest_int(\"min_samples_split\",  2,   15)\n",
    "    min_samples_leaf   = trial.suggest_int(\"min_samples_leaf\",   2,   15)\n",
    "    max_features       = trial.suggest_int(\"max_features\",       1,   6)\n",
    "\n",
    "    # (Opcional) resembrar numpy para cada trial\n",
    "    np.random.seed(593)\n",
    "\n",
    "    # 2️⃣ Crear y configurar el modelo\n",
    "    model = RandomForestRegressor(\n",
    "        n_estimators      = n_estimators,\n",
    "        max_depth         = max_depth,\n",
    "        min_samples_split = min_samples_split,\n",
    "        min_samples_leaf  = min_samples_leaf,\n",
    "        max_features      = max_features,\n",
    "        random_state      = 593,\n",
    "        n_jobs            = -1      # paraleliza árboles en CPU\n",
    "    )\n",
    "\n",
    "    # Listas para métricas\n",
    "    rmse_scores   = []\n",
    "    rrmse_scores  = []\n",
    "    mape_scores   = []\n",
    "    r2_scores     = []\n",
    "    kge_scores    = []\n",
    "\n",
    "    # 3️⃣ CV manual con escalado en cada fold\n",
    "    for train_idx, val_idx in kf.split(X_train):\n",
    "        X_tr, X_va = X_train[train_idx], X_train[val_idx]\n",
    "        y_tr, y_va = Y_train[train_idx], Y_train[val_idx]\n",
    "\n",
    "        scaler   = StandardScaler().fit(X_tr)\n",
    "        X_tr_sc  = scaler.transform(X_tr)\n",
    "        X_va_sc  = scaler.transform(X_va)\n",
    "\n",
    "        model.fit(X_tr_sc, y_tr)\n",
    "        y_pred = model.predict(X_va_sc)\n",
    "\n",
    "        # Calcular métricas\n",
    "        rmse  = root_mean_squared_error(y_va, y_pred)\n",
    "        rrmse = rmse / y_va.mean()\n",
    "        mape  = mean_absolute_percentage_error(y_va, y_pred) * 100\n",
    "        r2    = r2_score(y_va, y_pred)\n",
    "        kge   = kling_gupta_efficiency(y_va, y_pred)\n",
    "\n",
    "        rmse_scores.append(rmse)\n",
    "        rrmse_scores.append(rrmse)\n",
    "        mape_scores.append(mape)\n",
    "        r2_scores.append(r2)\n",
    "        kge_scores.append(kge)\n",
    "\n",
    "    # 4️⃣ Agregar atributos al trial\n",
    "    trial.set_user_attr(\"mean_rmse\",  np.mean(rmse_scores))\n",
    "    trial.set_user_attr(\"sd_rmse\",    np.std(rmse_scores))\n",
    "    trial.set_user_attr(\"mean_rrmse\", np.mean(rrmse_scores))\n",
    "    trial.set_user_attr(\"sd_rrmse\",   np.std(rrmse_scores))\n",
    "    trial.set_user_attr(\"mean_mape\",  np.mean(mape_scores))\n",
    "    trial.set_user_attr(\"sd_mape\",    np.std(mape_scores))\n",
    "    trial.set_user_attr(\"mean_r2\",    np.mean(r2_scores))\n",
    "    trial.set_user_attr(\"sd_r2\",      np.std(r2_scores))\n",
    "    trial.set_user_attr(\"mean_kge\",   np.mean(kge_scores))\n",
    "    trial.set_user_attr(\"sd_kge\",     np.std(kge_scores))\n",
    "\n",
    "    # 5️⃣ Retornar la métrica a optimizar\n",
    "    return np.mean(mape_scores)\n",
    "\n",
    "# 6️⃣ Ejecutar la optimización en paralelo (4 hilos)\n",
    "study_rf2.optimize(\n",
    "    objective,\n",
    "    n_trials = 100,\n",
    "    n_jobs   = 10\n",
    ")\n",
    "\n",
    "# Resultados finales\n",
    "print(\"Mejor MAPE encontrado: \", study_rf2.best_value)\n",
    "print(\"Mejores hiperparámetros: \", study_rf2.best_params)"
   ]
  },
  {
   "cell_type": "markdown",
   "id": "796acd1b",
   "metadata": {},
   "source": [
    "#### Evolución de iteraciones"
   ]
  },
  {
   "cell_type": "code",
   "execution_count": 18,
   "id": "d7ff7263",
   "metadata": {},
   "outputs": [
    {
     "data": {
      "application/vnd.plotly.v1+json": {
       "config": {
        "plotlyServerURL": "https://plot.ly"
       },
       "data": [
        {
         "mode": "markers",
         "name": "Objective Value",
         "type": "scatter",
         "x": [
          0,
          1,
          2,
          3,
          4,
          5,
          6,
          7,
          8,
          9,
          10,
          11,
          12,
          13,
          14,
          15,
          16,
          17,
          18,
          19,
          20,
          21,
          22,
          23,
          24,
          25,
          26,
          27,
          28,
          29,
          30,
          31,
          32,
          33,
          34,
          35,
          36,
          37,
          38,
          39,
          40,
          41,
          42,
          43,
          44,
          45,
          46,
          47,
          48,
          49,
          50,
          51,
          52,
          53,
          54,
          55,
          56,
          57,
          58,
          59,
          60,
          61,
          62,
          63,
          64,
          65,
          66,
          67,
          68,
          69,
          70,
          71,
          72,
          73,
          74,
          75,
          76,
          77,
          78,
          79,
          80,
          81,
          82,
          83,
          84,
          85,
          86,
          87,
          88,
          89,
          90,
          91,
          92,
          93,
          94,
          95,
          96,
          97,
          98,
          99
         ],
         "y": [
          10.793475898209199,
          10.651141819243694,
          10.799362270201339,
          10.83616584643302,
          10.883229514643919,
          10.693110405727332,
          10.779945145239006,
          10.817963079174776,
          10.760175971755459,
          10.997319858787657,
          10.733267382620582,
          10.774373358552719,
          10.996187443029298,
          10.86326390635804,
          10.987533453940022,
          10.906297649444502,
          10.852401359467041,
          10.768509185610908,
          10.817781702719035,
          10.67564808580076,
          10.681304822161746,
          10.666884989457749,
          10.668211798116474,
          10.675386431455433,
          10.666489955131444,
          10.666988484045806,
          10.675505244864663,
          10.675893827976543,
          10.675370975894328,
          10.642342684476343,
          10.672739286587449,
          10.694860527252882,
          10.692836672544901,
          10.709332111714641,
          10.705648339240652,
          10.709991873280353,
          10.709688103580984,
          10.710015556718712,
          10.70801829781003,
          10.701901966537102,
          10.69684135165718,
          10.722139202173667,
          10.722806354815068,
          10.722112891520618,
          10.723313365450407,
          10.730982069954845,
          10.716262632536038,
          10.714682793129336,
          10.7159798328744,
          10.718279500988865,
          10.67615789313747,
          10.677124431540873,
          10.675654863148496,
          10.675654863148496,
          10.67629890657942,
          10.677362977471656,
          10.675817642143041,
          10.676096552821917,
          10.685845528561273,
          10.685325228269125,
          10.679874631526264,
          10.680661804415397,
          10.684645745652727,
          10.680661804415395,
          10.770937434375089,
          10.665172795839997,
          10.770612887397732,
          10.770249638065355,
          10.667405864163594,
          10.664137947567557,
          10.668978147238281,
          10.679228384753454,
          10.679563802290502,
          10.673548909889211,
          10.6724976173654,
          10.67967615929187,
          10.679228384753454,
          10.679228384753452,
          10.70517682307155,
          10.67967615929187,
          10.673400299938248,
          10.674213225631927,
          10.67742389116663,
          10.707514045648445,
          10.670977832883747,
          10.631551427815321,
          10.626320185933663,
          10.640877299027485,
          10.642527105754132,
          10.629267546154939,
          10.666969862796957,
          10.667070554345512,
          10.63356633350261,
          10.635608522630804,
          10.633110191776591,
          10.841460083488776,
          10.797881370431508,
          10.703618106167982,
          10.79486953348497,
          10.831520828866548
         ]
        },
        {
         "mode": "lines",
         "name": "Best Value",
         "type": "scatter",
         "x": [
          0,
          1,
          2,
          3,
          4,
          5,
          6,
          7,
          8,
          9,
          10,
          11,
          12,
          13,
          14,
          15,
          16,
          17,
          18,
          19,
          20,
          21,
          22,
          23,
          24,
          25,
          26,
          27,
          28,
          29,
          30,
          31,
          32,
          33,
          34,
          35,
          36,
          37,
          38,
          39,
          40,
          41,
          42,
          43,
          44,
          45,
          46,
          47,
          48,
          49,
          50,
          51,
          52,
          53,
          54,
          55,
          56,
          57,
          58,
          59,
          60,
          61,
          62,
          63,
          64,
          65,
          66,
          67,
          68,
          69,
          70,
          71,
          72,
          73,
          74,
          75,
          76,
          77,
          78,
          79,
          80,
          81,
          82,
          83,
          84,
          85,
          86,
          87,
          88,
          89,
          90,
          91,
          92,
          93,
          94,
          95,
          96,
          97,
          98,
          99
         ],
         "y": [
          10.793475898209199,
          10.651141819243694,
          10.651141819243694,
          10.651141819243694,
          10.651141819243694,
          10.651141819243694,
          10.651141819243694,
          10.651141819243694,
          10.651141819243694,
          10.651141819243694,
          10.651141819243694,
          10.651141819243694,
          10.651141819243694,
          10.651141819243694,
          10.651141819243694,
          10.651141819243694,
          10.651141819243694,
          10.651141819243694,
          10.651141819243694,
          10.651141819243694,
          10.651141819243694,
          10.651141819243694,
          10.651141819243694,
          10.651141819243694,
          10.651141819243694,
          10.651141819243694,
          10.651141819243694,
          10.651141819243694,
          10.651141819243694,
          10.642342684476343,
          10.642342684476343,
          10.642342684476343,
          10.642342684476343,
          10.642342684476343,
          10.642342684476343,
          10.642342684476343,
          10.642342684476343,
          10.642342684476343,
          10.642342684476343,
          10.642342684476343,
          10.642342684476343,
          10.642342684476343,
          10.642342684476343,
          10.642342684476343,
          10.642342684476343,
          10.642342684476343,
          10.642342684476343,
          10.642342684476343,
          10.642342684476343,
          10.642342684476343,
          10.642342684476343,
          10.642342684476343,
          10.642342684476343,
          10.642342684476343,
          10.642342684476343,
          10.642342684476343,
          10.642342684476343,
          10.642342684476343,
          10.642342684476343,
          10.642342684476343,
          10.642342684476343,
          10.642342684476343,
          10.642342684476343,
          10.642342684476343,
          10.642342684476343,
          10.642342684476343,
          10.642342684476343,
          10.642342684476343,
          10.642342684476343,
          10.642342684476343,
          10.642342684476343,
          10.642342684476343,
          10.642342684476343,
          10.642342684476343,
          10.642342684476343,
          10.642342684476343,
          10.642342684476343,
          10.642342684476343,
          10.642342684476343,
          10.642342684476343,
          10.642342684476343,
          10.642342684476343,
          10.642342684476343,
          10.642342684476343,
          10.642342684476343,
          10.631551427815321,
          10.626320185933663,
          10.626320185933663,
          10.626320185933663,
          10.626320185933663,
          10.626320185933663,
          10.626320185933663,
          10.626320185933663,
          10.626320185933663,
          10.626320185933663,
          10.626320185933663,
          10.626320185933663,
          10.626320185933663,
          10.626320185933663,
          10.626320185933663
         ]
        },
        {
         "marker": {
          "color": "#cccccc"
         },
         "mode": "markers",
         "name": "Infeasible Trial",
         "showlegend": false,
         "type": "scatter",
         "x": [],
         "y": []
        }
       ],
       "layout": {
        "template": {
         "data": {
          "bar": [
           {
            "error_x": {
             "color": "#2a3f5f"
            },
            "error_y": {
             "color": "#2a3f5f"
            },
            "marker": {
             "line": {
              "color": "#E5ECF6",
              "width": 0.5
             },
             "pattern": {
              "fillmode": "overlay",
              "size": 10,
              "solidity": 0.2
             }
            },
            "type": "bar"
           }
          ],
          "barpolar": [
           {
            "marker": {
             "line": {
              "color": "#E5ECF6",
              "width": 0.5
             },
             "pattern": {
              "fillmode": "overlay",
              "size": 10,
              "solidity": 0.2
             }
            },
            "type": "barpolar"
           }
          ],
          "carpet": [
           {
            "aaxis": {
             "endlinecolor": "#2a3f5f",
             "gridcolor": "white",
             "linecolor": "white",
             "minorgridcolor": "white",
             "startlinecolor": "#2a3f5f"
            },
            "baxis": {
             "endlinecolor": "#2a3f5f",
             "gridcolor": "white",
             "linecolor": "white",
             "minorgridcolor": "white",
             "startlinecolor": "#2a3f5f"
            },
            "type": "carpet"
           }
          ],
          "choropleth": [
           {
            "colorbar": {
             "outlinewidth": 0,
             "ticks": ""
            },
            "type": "choropleth"
           }
          ],
          "contour": [
           {
            "colorbar": {
             "outlinewidth": 0,
             "ticks": ""
            },
            "colorscale": [
             [
              0,
              "#0d0887"
             ],
             [
              0.1111111111111111,
              "#46039f"
             ],
             [
              0.2222222222222222,
              "#7201a8"
             ],
             [
              0.3333333333333333,
              "#9c179e"
             ],
             [
              0.4444444444444444,
              "#bd3786"
             ],
             [
              0.5555555555555556,
              "#d8576b"
             ],
             [
              0.6666666666666666,
              "#ed7953"
             ],
             [
              0.7777777777777778,
              "#fb9f3a"
             ],
             [
              0.8888888888888888,
              "#fdca26"
             ],
             [
              1,
              "#f0f921"
             ]
            ],
            "type": "contour"
           }
          ],
          "contourcarpet": [
           {
            "colorbar": {
             "outlinewidth": 0,
             "ticks": ""
            },
            "type": "contourcarpet"
           }
          ],
          "heatmap": [
           {
            "colorbar": {
             "outlinewidth": 0,
             "ticks": ""
            },
            "colorscale": [
             [
              0,
              "#0d0887"
             ],
             [
              0.1111111111111111,
              "#46039f"
             ],
             [
              0.2222222222222222,
              "#7201a8"
             ],
             [
              0.3333333333333333,
              "#9c179e"
             ],
             [
              0.4444444444444444,
              "#bd3786"
             ],
             [
              0.5555555555555556,
              "#d8576b"
             ],
             [
              0.6666666666666666,
              "#ed7953"
             ],
             [
              0.7777777777777778,
              "#fb9f3a"
             ],
             [
              0.8888888888888888,
              "#fdca26"
             ],
             [
              1,
              "#f0f921"
             ]
            ],
            "type": "heatmap"
           }
          ],
          "histogram": [
           {
            "marker": {
             "pattern": {
              "fillmode": "overlay",
              "size": 10,
              "solidity": 0.2
             }
            },
            "type": "histogram"
           }
          ],
          "histogram2d": [
           {
            "colorbar": {
             "outlinewidth": 0,
             "ticks": ""
            },
            "colorscale": [
             [
              0,
              "#0d0887"
             ],
             [
              0.1111111111111111,
              "#46039f"
             ],
             [
              0.2222222222222222,
              "#7201a8"
             ],
             [
              0.3333333333333333,
              "#9c179e"
             ],
             [
              0.4444444444444444,
              "#bd3786"
             ],
             [
              0.5555555555555556,
              "#d8576b"
             ],
             [
              0.6666666666666666,
              "#ed7953"
             ],
             [
              0.7777777777777778,
              "#fb9f3a"
             ],
             [
              0.8888888888888888,
              "#fdca26"
             ],
             [
              1,
              "#f0f921"
             ]
            ],
            "type": "histogram2d"
           }
          ],
          "histogram2dcontour": [
           {
            "colorbar": {
             "outlinewidth": 0,
             "ticks": ""
            },
            "colorscale": [
             [
              0,
              "#0d0887"
             ],
             [
              0.1111111111111111,
              "#46039f"
             ],
             [
              0.2222222222222222,
              "#7201a8"
             ],
             [
              0.3333333333333333,
              "#9c179e"
             ],
             [
              0.4444444444444444,
              "#bd3786"
             ],
             [
              0.5555555555555556,
              "#d8576b"
             ],
             [
              0.6666666666666666,
              "#ed7953"
             ],
             [
              0.7777777777777778,
              "#fb9f3a"
             ],
             [
              0.8888888888888888,
              "#fdca26"
             ],
             [
              1,
              "#f0f921"
             ]
            ],
            "type": "histogram2dcontour"
           }
          ],
          "mesh3d": [
           {
            "colorbar": {
             "outlinewidth": 0,
             "ticks": ""
            },
            "type": "mesh3d"
           }
          ],
          "parcoords": [
           {
            "line": {
             "colorbar": {
              "outlinewidth": 0,
              "ticks": ""
             }
            },
            "type": "parcoords"
           }
          ],
          "pie": [
           {
            "automargin": true,
            "type": "pie"
           }
          ],
          "scatter": [
           {
            "fillpattern": {
             "fillmode": "overlay",
             "size": 10,
             "solidity": 0.2
            },
            "type": "scatter"
           }
          ],
          "scatter3d": [
           {
            "line": {
             "colorbar": {
              "outlinewidth": 0,
              "ticks": ""
             }
            },
            "marker": {
             "colorbar": {
              "outlinewidth": 0,
              "ticks": ""
             }
            },
            "type": "scatter3d"
           }
          ],
          "scattercarpet": [
           {
            "marker": {
             "colorbar": {
              "outlinewidth": 0,
              "ticks": ""
             }
            },
            "type": "scattercarpet"
           }
          ],
          "scattergeo": [
           {
            "marker": {
             "colorbar": {
              "outlinewidth": 0,
              "ticks": ""
             }
            },
            "type": "scattergeo"
           }
          ],
          "scattergl": [
           {
            "marker": {
             "colorbar": {
              "outlinewidth": 0,
              "ticks": ""
             }
            },
            "type": "scattergl"
           }
          ],
          "scattermap": [
           {
            "marker": {
             "colorbar": {
              "outlinewidth": 0,
              "ticks": ""
             }
            },
            "type": "scattermap"
           }
          ],
          "scattermapbox": [
           {
            "marker": {
             "colorbar": {
              "outlinewidth": 0,
              "ticks": ""
             }
            },
            "type": "scattermapbox"
           }
          ],
          "scatterpolar": [
           {
            "marker": {
             "colorbar": {
              "outlinewidth": 0,
              "ticks": ""
             }
            },
            "type": "scatterpolar"
           }
          ],
          "scatterpolargl": [
           {
            "marker": {
             "colorbar": {
              "outlinewidth": 0,
              "ticks": ""
             }
            },
            "type": "scatterpolargl"
           }
          ],
          "scatterternary": [
           {
            "marker": {
             "colorbar": {
              "outlinewidth": 0,
              "ticks": ""
             }
            },
            "type": "scatterternary"
           }
          ],
          "surface": [
           {
            "colorbar": {
             "outlinewidth": 0,
             "ticks": ""
            },
            "colorscale": [
             [
              0,
              "#0d0887"
             ],
             [
              0.1111111111111111,
              "#46039f"
             ],
             [
              0.2222222222222222,
              "#7201a8"
             ],
             [
              0.3333333333333333,
              "#9c179e"
             ],
             [
              0.4444444444444444,
              "#bd3786"
             ],
             [
              0.5555555555555556,
              "#d8576b"
             ],
             [
              0.6666666666666666,
              "#ed7953"
             ],
             [
              0.7777777777777778,
              "#fb9f3a"
             ],
             [
              0.8888888888888888,
              "#fdca26"
             ],
             [
              1,
              "#f0f921"
             ]
            ],
            "type": "surface"
           }
          ],
          "table": [
           {
            "cells": {
             "fill": {
              "color": "#EBF0F8"
             },
             "line": {
              "color": "white"
             }
            },
            "header": {
             "fill": {
              "color": "#C8D4E3"
             },
             "line": {
              "color": "white"
             }
            },
            "type": "table"
           }
          ]
         },
         "layout": {
          "annotationdefaults": {
           "arrowcolor": "#2a3f5f",
           "arrowhead": 0,
           "arrowwidth": 1
          },
          "autotypenumbers": "strict",
          "coloraxis": {
           "colorbar": {
            "outlinewidth": 0,
            "ticks": ""
           }
          },
          "colorscale": {
           "diverging": [
            [
             0,
             "#8e0152"
            ],
            [
             0.1,
             "#c51b7d"
            ],
            [
             0.2,
             "#de77ae"
            ],
            [
             0.3,
             "#f1b6da"
            ],
            [
             0.4,
             "#fde0ef"
            ],
            [
             0.5,
             "#f7f7f7"
            ],
            [
             0.6,
             "#e6f5d0"
            ],
            [
             0.7,
             "#b8e186"
            ],
            [
             0.8,
             "#7fbc41"
            ],
            [
             0.9,
             "#4d9221"
            ],
            [
             1,
             "#276419"
            ]
           ],
           "sequential": [
            [
             0,
             "#0d0887"
            ],
            [
             0.1111111111111111,
             "#46039f"
            ],
            [
             0.2222222222222222,
             "#7201a8"
            ],
            [
             0.3333333333333333,
             "#9c179e"
            ],
            [
             0.4444444444444444,
             "#bd3786"
            ],
            [
             0.5555555555555556,
             "#d8576b"
            ],
            [
             0.6666666666666666,
             "#ed7953"
            ],
            [
             0.7777777777777778,
             "#fb9f3a"
            ],
            [
             0.8888888888888888,
             "#fdca26"
            ],
            [
             1,
             "#f0f921"
            ]
           ],
           "sequentialminus": [
            [
             0,
             "#0d0887"
            ],
            [
             0.1111111111111111,
             "#46039f"
            ],
            [
             0.2222222222222222,
             "#7201a8"
            ],
            [
             0.3333333333333333,
             "#9c179e"
            ],
            [
             0.4444444444444444,
             "#bd3786"
            ],
            [
             0.5555555555555556,
             "#d8576b"
            ],
            [
             0.6666666666666666,
             "#ed7953"
            ],
            [
             0.7777777777777778,
             "#fb9f3a"
            ],
            [
             0.8888888888888888,
             "#fdca26"
            ],
            [
             1,
             "#f0f921"
            ]
           ]
          },
          "colorway": [
           "#636efa",
           "#EF553B",
           "#00cc96",
           "#ab63fa",
           "#FFA15A",
           "#19d3f3",
           "#FF6692",
           "#B6E880",
           "#FF97FF",
           "#FECB52"
          ],
          "font": {
           "color": "#2a3f5f"
          },
          "geo": {
           "bgcolor": "white",
           "lakecolor": "white",
           "landcolor": "#E5ECF6",
           "showlakes": true,
           "showland": true,
           "subunitcolor": "white"
          },
          "hoverlabel": {
           "align": "left"
          },
          "hovermode": "closest",
          "mapbox": {
           "style": "light"
          },
          "paper_bgcolor": "white",
          "plot_bgcolor": "#E5ECF6",
          "polar": {
           "angularaxis": {
            "gridcolor": "white",
            "linecolor": "white",
            "ticks": ""
           },
           "bgcolor": "#E5ECF6",
           "radialaxis": {
            "gridcolor": "white",
            "linecolor": "white",
            "ticks": ""
           }
          },
          "scene": {
           "xaxis": {
            "backgroundcolor": "#E5ECF6",
            "gridcolor": "white",
            "gridwidth": 2,
            "linecolor": "white",
            "showbackground": true,
            "ticks": "",
            "zerolinecolor": "white"
           },
           "yaxis": {
            "backgroundcolor": "#E5ECF6",
            "gridcolor": "white",
            "gridwidth": 2,
            "linecolor": "white",
            "showbackground": true,
            "ticks": "",
            "zerolinecolor": "white"
           },
           "zaxis": {
            "backgroundcolor": "#E5ECF6",
            "gridcolor": "white",
            "gridwidth": 2,
            "linecolor": "white",
            "showbackground": true,
            "ticks": "",
            "zerolinecolor": "white"
           }
          },
          "shapedefaults": {
           "line": {
            "color": "#2a3f5f"
           }
          },
          "ternary": {
           "aaxis": {
            "gridcolor": "white",
            "linecolor": "white",
            "ticks": ""
           },
           "baxis": {
            "gridcolor": "white",
            "linecolor": "white",
            "ticks": ""
           },
           "bgcolor": "#E5ECF6",
           "caxis": {
            "gridcolor": "white",
            "linecolor": "white",
            "ticks": ""
           }
          },
          "title": {
           "x": 0.05
          },
          "xaxis": {
           "automargin": true,
           "gridcolor": "white",
           "linecolor": "white",
           "ticks": "",
           "title": {
            "standoff": 15
           },
           "zerolinecolor": "white",
           "zerolinewidth": 2
          },
          "yaxis": {
           "automargin": true,
           "gridcolor": "white",
           "linecolor": "white",
           "ticks": "",
           "title": {
            "standoff": 15
           },
           "zerolinecolor": "white",
           "zerolinewidth": 2
          }
         }
        },
        "title": {
         "text": "Optimization History Plot"
        },
        "xaxis": {
         "title": {
          "text": "Trial"
         }
        },
        "yaxis": {
         "title": {
          "text": "Objective Value"
         }
        }
       }
      }
     },
     "metadata": {},
     "output_type": "display_data"
    }
   ],
   "source": [
    "from optuna.visualization import plot_optimization_history\n",
    "plot_optimization_history(study_rf2)"
   ]
  },
  {
   "cell_type": "markdown",
   "id": "139b81c5",
   "metadata": {},
   "source": [
    "#### Extracción de métricas"
   ]
  },
  {
   "cell_type": "code",
   "execution_count": 19,
   "id": "59b1a014",
   "metadata": {},
   "outputs": [
    {
     "name": "stdout",
     "output_type": "stream",
     "text": [
      "\n",
      "🔍 Mejores hiperparámetros encontrados:\n",
      "Hiperparámetros: {'n_estimators': 666, 'max_depth': 124, 'min_samples_split': 4, 'min_samples_leaf': 2, 'max_features': 3}\n",
      "Mejor puntuación (RMSE): 10.626320185933663\n",
      "\n",
      "🔍 Métricas adicionales registradas en set_user_attr:\n",
      "mean_rmse: 1.0533241442038095\n",
      "sd_rmse: 0.04088702369319071\n",
      "mean_rrmse: 0.12107199076937185\n",
      "sd_rrmse: 0.004778860515842892\n",
      "mean_mape: 10.626320185933663\n",
      "sd_mape: 0.5073990366268308\n",
      "mean_r2: 0.46237406704225653\n",
      "sd_r2: 0.0453431469588894\n",
      "mean_kge: 0.5623190242981396\n",
      "sd_kge: 0.03891488133283495\n"
     ]
    }
   ],
   "source": [
    "# 8️⃣ Imprimir los mejores hiperparámetros encontrados, la métrica objetivo y las métricas personalizadas\n",
    "print(\"\\n🔍 Mejores hiperparámetros encontrados:\")\n",
    "best_params = study_rf2.best_params\n",
    "best_mae = study_rf2.best_value  # Esta es la mejor métrica (RMSE) obtenida\n",
    "best_trial = study_rf2.best_trial  # El mejor trial, que tiene toda la información\n",
    "\n",
    "# Imprimir los hiperparámetros y la métrica principal\n",
    "print(f\"Hiperparámetros: {best_params}\")\n",
    "print(f\"Mejor puntuación (RMSE): {best_mae}\")\n",
    "# Imprimir las métricas registradas con set_user_attr\n",
    "print(\"\\n🔍 Métricas adicionales registradas en set_user_attr:\")\n",
    "for attr_name, attr_value in best_trial.user_attrs.items():\n",
    "    print(f\"{attr_name}: {attr_value}\")"
   ]
  },
  {
   "cell_type": "markdown",
   "id": "4e90d479",
   "metadata": {},
   "source": [
    "#### Test con 20% de datos"
   ]
  },
  {
   "cell_type": "markdown",
   "id": "95132cca",
   "metadata": {},
   "source": [
    "Se usa los mejores parámetros encontrados para hacer una evaluación con los datos de rpueba. Esta corrida se guarda en MlFlows."
   ]
  },
  {
   "cell_type": "code",
   "execution_count": 20,
   "id": "a4550316",
   "metadata": {},
   "outputs": [
    {
     "name": "stderr",
     "output_type": "stream",
     "text": [
      "2025/05/22 20:03:57 WARNING mlflow.models.model: Model logged without a signature and input example. Please set `input_example` parameter when logging the model to auto infer the model signature.\n"
     ]
    },
    {
     "name": "stdout",
     "output_type": "stream",
     "text": [
      "╔══════════════════════════╗\n",
      "║   Métricas del modelo    ║\n",
      "╠══════════════════════════╣\n",
      "║ R²   :    0.498        ║\n",
      "║ RMSE :    1.057        ║\n",
      "║ MAPE :    10.61 %     ║\n",
      "║ KGE  :    0.599        ║\n",
      "╚══════════════════════════╝\n"
     ]
    }
   ],
   "source": [
    "# 1️⃣ Escalado de datos\n",
    "scaler = StandardScaler()\n",
    "X_train_scaled = scaler.fit_transform(X_train)\n",
    "X_test_scaled  = scaler.transform(X_test)\n",
    "\n",
    "# 2️⃣ Activar autolog de MLflow (registra modelo, métricas y parámetros automáticamente)\n",
    "mlflow.sklearn.autolog()\n",
    "\n",
    "# Nombre del modelo (tag)\n",
    "modelo = \"SAR - RF con seleccion\"\n",
    "\n",
    "# 1️⃣ Escalar los datos\n",
    "scaler         = StandardScaler()\n",
    "X_train_scaled = scaler.fit_transform(X_train)\n",
    "X_test_scaled  = scaler.transform(X_test)\n",
    "\n",
    "# 2️⃣ Activar autolog de MLflow (registra automáticamente parámetros, métricas y modelo)\n",
    "mlflow.sklearn.autolog()\n",
    "\n",
    "# 3️⃣ Iniciar la corrida MLflow\n",
    "with mlflow.start_run(run_name=\"rf_final_with_optuna_params_select2\"):\n",
    "    # 🔖 Etiquetar el nombre de tu modelo\n",
    "    mlflow.set_tag(\"rf_select_variables2\", modelo)\n",
    "\n",
    "    # 🔹 Registrar los hiperparámetros óptimos\n",
    "    mlflow.log_params(best_params)\n",
    "\n",
    "    # 🔹 Crear y entrenar el modelo\n",
    "    final_model_rf_2 = RandomForestRegressor(\n",
    "        n_estimators       = best_params['n_estimators'],\n",
    "        max_depth          = best_params['max_depth'],\n",
    "        min_samples_split  = best_params['min_samples_split'],\n",
    "        min_samples_leaf   = best_params['min_samples_leaf'],\n",
    "        max_features       = best_params['max_features'],\n",
    "        random_state       = 593,\n",
    "        n_jobs             = -1\n",
    "    )\n",
    "    final_model_rf_2.fit(X_train_scaled, Y_train)\n",
    "\n",
    "    # 🔹 Predecir sobre el conjunto de prueba\n",
    "    Y_pred = final_model_rf_2.predict(X_test_scaled)\n",
    "\n",
    "    # 🔹 Calcular las métricas solicitadas\n",
    "    r2   = r2_score(Y_test, Y_pred)\n",
    "    rmse = root_mean_squared_error(Y_test, Y_pred)\n",
    "    mape = mean_absolute_percentage_error(Y_test, Y_pred) * 100\n",
    "    kge  = kling_gupta_efficiency(Y_test, Y_pred)\n",
    "\n",
    "    # 🔹 Registrar las métricas en MLflow\n",
    "    mlflow.log_metric(\"r2\",   r2)\n",
    "    mlflow.log_metric(\"rmse\", rmse)\n",
    "    mlflow.log_metric(\"mape\", mape)\n",
    "    mlflow.log_metric(\"kge\",  kge)\n",
    "\n",
    "    # 🔹 (Opcional) guardar el modelo explícitamente\n",
    "    mlflow.sklearn.log_model(final_model_rf_2, artifact_path=\"model\")\n",
    "\n",
    "    # 🔹 Mostrar las métricas en consola con formato\n",
    "    print(\n",
    "        \"╔══════════════════════════╗\\n\"\n",
    "        \"║   Métricas del modelo    ║\\n\"\n",
    "        \"╠══════════════════════════╣\\n\"\n",
    "        f\"║ R²   : {r2:8.3f}        ║\\n\"\n",
    "        f\"║ RMSE : {rmse:8.3f}        ║\\n\"\n",
    "        f\"║ MAPE : {mape:8.2f} %     ║\\n\"\n",
    "        f\"║ KGE  : {kge:8.3f}        ║\\n\"\n",
    "        \"╚══════════════════════════╝\"\n",
    "    )"
   ]
  },
  {
   "cell_type": "code",
   "execution_count": 22,
   "id": "bd80ef64",
   "metadata": {},
   "outputs": [
    {
     "data": {
      "image/png": "[encoded data removed]",
      "text/plain": [
       "<Figure size 600x600 with 2 Axes>"
      ]
     },
     "metadata": {},
     "output_type": "display_data"
    },
    {
     "name": "stdout",
     "output_type": "stream",
     "text": [
      "                   MODELO     Y_test    Y_pred\n",
      "0  SAR - RF con seleccion   8.031570  9.250757\n",
      "1  SAR - RF con seleccion  10.206363  9.474072\n",
      "2  SAR - RF con seleccion   9.745593  9.605775\n",
      "3  SAR - RF con seleccion  10.003646  9.704813\n",
      "4  SAR - RF con seleccion   8.310349  8.073532\n"
     ]
    }
   ],
   "source": [
    "from scipy.stats import linregress\n",
    "from matplotlib.colors import LinearSegmentedColormap\n",
    "# Supón que ya tienes Y_test y Y_pred definidos\n",
    "name_modelo = \"SAR - RF con seleccion\"\n",
    "\n",
    "# Crear el DataFrame con las observaciones y predicciones\n",
    "rf2_pred = pd.DataFrame({\n",
    "    \"MODELO\": name_modelo,\n",
    "    \"Y_test\": Y_test,\n",
    "    \"Y_pred\": Y_pred\n",
    "})\n",
    "\n",
    "\n",
    "# Línea de identidad y = x\n",
    "min_val = min(rf2_pred[\"Y_test\"].min(), rf2_pred[\"Y_pred\"].min())\n",
    "max_val = max(rf2_pred[\"Y_test\"].max(), rf2_pred[\"Y_pred\"].max())\n",
    "slope, intercept, _, _, _ = linregress(rf2_pred[\"Y_test\"], rf2_pred[\"Y_pred\"])\n",
    "reg_x = np.array([min_val, max_val])\n",
    "reg_y = slope * reg_x + intercept\n",
    "\n",
    "cmap_yellow_orange = LinearSegmentedColormap.from_list(\n",
    "    \"yellow_orange\", [\"lightblue\", \"darkred\"]\n",
    ")\n",
    "# 2️⃣ Mapa de calor (hexbin) para ver densidad de puntos\n",
    "plt.figure(figsize=(6,6))\n",
    "hb = plt.hexbin(\n",
    "    rf2_pred[\"Y_test\"],\n",
    "    rf2_pred[\"Y_pred\"],\n",
    "    gridsize=40,\n",
    "    cmap=cmap_yellow_orange,\n",
    "    mincnt=1\n",
    ")\n",
    "plt.colorbar(hb, label=\"Conteo de puntos\")\n",
    "\n",
    "# Línea identidad y = x\n",
    "plt.plot([min_val, max_val], [min_val, max_val], \"r--\", label=\"Identidad y = x\")\n",
    "\n",
    "# Línea de regresión\n",
    "plt.plot(reg_x, reg_y, color=\"green\", linewidth=2, label=f\"Regresión\")\n",
    "\n",
    "plt.xlabel(\"Observados (Y_test)\")\n",
    "plt.ylabel(\"Predichos (Y_pred)\")\n",
    "plt.title(f\"Densidad de Observados vs Predichos: {name_modelo}\")\n",
    "plt.axis(\"equal\")\n",
    "plt.legend()\n",
    "plt.tight_layout()\n",
    "plt.show()\n",
    "# Mostrar las primeras filas del DataFrame\n",
    "print(rf2_pred.head())"
   ]
  },
  {
   "cell_type": "code",
   "execution_count": 23,
   "id": "317ec908",
   "metadata": {},
   "outputs": [
    {
     "data": {
      "text/plain": [
       "0.14285714285714285"
      ]
     },
     "execution_count": 23,
     "metadata": {},
     "output_type": "execute_result"
    }
   ],
   "source": [
    "importance_df = pd.DataFrame({'Variable': variables_predictoras, 'Importancia': final_model_rf_2.feature_importances_})\n",
    "\n",
    "importance_rf2= importance_df.sort_values(by='Importancia', ascending=False)\n",
    "importance_rf2[\"Importancia\"].mean()"
   ]
  },
  {
   "cell_type": "code",
   "execution_count": 24,
   "id": "91814b74",
   "metadata": {},
   "outputs": [
    {
     "data": {
      "image/png": "[encoded data removed]",
      "text/plain": [
       "<Figure size 1000x600 with 1 Axes>"
      ]
     },
     "metadata": {},
     "output_type": "display_data"
    }
   ],
   "source": [
    "\n",
    "plt.figure(figsize=(10, 6))\n",
    "plt.barh(importance_rf2['Variable'], importance_rf2['Importancia'], color='skyblue')\n",
    "plt.xlabel('Importancia')\n",
    "plt.title('Importancia de las Variables (Feature Importance)')\n",
    "plt.gca().invert_yaxis()  # Para mostrar las variables más importantes en la parte superior\n",
    "plt.show()"
   ]
  },
  {
   "cell_type": "markdown",
   "id": "19b5b120",
   "metadata": {},
   "source": [
    "## Entrenamiento de modelo Final"
   ]
  },
  {
   "cell_type": "markdown",
   "id": "094d87ec",
   "metadata": {},
   "source": [
    "Una vez se haya seleccionado el modelo final con los mejores parámetros, se hace un entrenamiento del modelo usando todos los datos disponibles"
   ]
  },
  {
   "cell_type": "code",
   "execution_count": 25,
   "id": "0be591b0",
   "metadata": {},
   "outputs": [
    {
     "name": "stderr",
     "output_type": "stream",
     "text": [
      "2025/05/22 20:04:50 WARNING mlflow.models.model: Model logged without a signature and input example. Please set `input_example` parameter when logging the model to auto infer the model signature.\n"
     ]
    },
    {
     "name": "stdout",
     "output_type": "stream",
     "text": [
      "Run completed: 58e300b4c0b04551a9815da22775354b\n"
     ]
    }
   ],
   "source": [
    "X = df_gedi[variables_predictoras].values\n",
    "Y = df_gedi[variable_objetivo].values\n",
    "\n",
    "scaler   = StandardScaler()\n",
    "X_scaled = scaler.fit_transform(X)\n",
    "\n",
    "# 1️⃣ Activar autolog de MLflow\n",
    "mlflow.sklearn.autolog()\n",
    "modelo = \"SAR - RF con seleccion\"\n",
    "# 2️⃣ Iniciar corrida en MLflow\n",
    "with mlflow.start_run(run_name=\"rf_final_total\"):\n",
    "    # 🔖 Etiquetar modelo\n",
    "    mlflow.set_tag(\"model_selected\", modelo)\n",
    "\n",
    "    # 🔹 Registrar hiperparámetros\n",
    "    mlflow.log_params(best_params)\n",
    "\n",
    "    # 3️⃣ Crear y entrenar el modelo\n",
    "    final_model_export = RandomForestRegressor(\n",
    "        n_estimators      = best_params.get(\"n_estimators\", 785),\n",
    "        max_depth         = best_params.get(\"max_depth\", 75),\n",
    "        min_samples_split = best_params.get(\"min_samples_split\", 2),\n",
    "        min_samples_leaf  = best_params.get(\"min_samples_leaf\", 2),\n",
    "        max_features      = best_params.get(\"max_features\", 2),\n",
    "        random_state      = 593,\n",
    "        n_jobs            = -1\n",
    "    )\n",
    "    final_model_export.fit(X_scaled, Y)\n",
    "\n",
    "    # 4️⃣ Predecir en el mismo dataset\n",
    "    Y_pred = final_model_export.predict(X_scaled)\n",
    "\n",
    "    # 5️⃣ Calcular y loggear métricas\n",
    "    r2   = r2_score(Y, Y_pred)\n",
    "    rmse = root_mean_squared_error(Y, Y_pred)\n",
    "    mape = mean_absolute_percentage_error(Y, Y_pred) * 100\n",
    "    kge  = kling_gupta_efficiency(Y, Y_pred)\n",
    "\n",
    "    mlflow.log_metric(\"r2\",   r2)\n",
    "    mlflow.log_metric(\"rmse\", rmse)\n",
    "    mlflow.log_metric(\"mape\", mape)\n",
    "    mlflow.log_metric(\"kge\",  kge)\n",
    "\n",
    "    # 6️⃣ Guardar el modelo explícitamente\n",
    "    mlflow.sklearn.log_model(final_model_export, artifact_path=\"model\")\n",
    "\n",
    "    print(f\"Run completed: {mlflow.active_run().info.run_id}\")\n",
    "\n"
   ]
  },
  {
   "cell_type": "code",
   "execution_count": 26,
   "id": "1b268046",
   "metadata": {},
   "outputs": [
    {
     "name": "stdout",
     "output_type": "stream",
     "text": [
      "Scaler guardado en scaler.pkl\n"
     ]
    }
   ],
   "source": [
    "import joblib\n",
    "from sklearn.preprocessing import StandardScaler\n",
    "\n",
    "# ... tras ajustar el scaler sobre X …\n",
    "scaler = StandardScaler().fit(X)\n",
    "\n",
    "# 1️⃣ Serializa el scaler a disco\n",
    "joblib.dump(scaler, \"scaler.pkl\")\n",
    "print(\"Scaler guardado en scaler.pkl\")\n"
   ]
  },
  {
   "cell_type": "code",
   "execution_count": 27,
   "id": "06aec400",
   "metadata": {},
   "outputs": [
    {
     "name": "stdout",
     "output_type": "stream",
     "text": [
      "✔ MLflow UI arrancado en http://localhost:9090\n"
     ]
    }
   ],
   "source": [
    "import subprocess\n",
    "# 1. Construye la ruta absoluta a mlruns (convierte '\\' en '/')\n",
    "project_root = os.getcwd()\n",
    "mlruns_path  = os.path.join(project_root, \"mlruns\").replace(\"\\\\\", \"/\")\n",
    "\n",
    "# 2. Monta el comando tal cual lo harías en la terminal\n",
    "cmd = [\n",
    "    \"mlflow\", \"ui\",\n",
    "    \"--backend-store-uri\",    f\"file:///{mlruns_path}\",\n",
    "    \"--default-artifact-root\",f\"file:///{mlruns_path}\",\n",
    "    \"--port\",                 \"9090\"\n",
    "]\n",
    "\n",
    "# 3. Lanza el proceso en background\n",
    "#    stdout/stderr se envían a pipes; no bloquea la ejecución de la celda\n",
    "process = subprocess.Popen(cmd, stdout=subprocess.PIPE, stderr=subprocess.PIPE)\n",
    "\n",
    "print(\"✔ MLflow UI arrancado en http://localhost:9090\")"
   ]
  }
 ],
 "metadata": {
  "kernelspec": {
   "display_name": "Python 3",
   "language": "python",
   "name": "python3"
  },
  "language_info": {
   "codemirror_mode": {
    "name": "ipython",
    "version": 3
   },
   "file_extension": ".py",
   "mimetype": "text/x-python",
   "name": "python",
   "nbconvert_exporter": "python",
   "pygments_lexer": "ipython3",
   "version": "3.11.4"
  }
 },
 "nbformat": 4,
 "nbformat_minor": 5
}
